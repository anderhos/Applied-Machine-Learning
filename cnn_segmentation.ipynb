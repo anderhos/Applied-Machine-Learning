{
  "nbformat": 4,
  "nbformat_minor": 0,
  "metadata": {
    "colab": {
      "name": "CA2_copy_submitted.ipynb",
      "provenance": [],
      "collapsed_sections": [],
      "toc_visible": true,
      "include_colab_link": true
    },
    "kernelspec": {
      "display_name": "Python 3",
      "name": "python3"
    },
    "accelerator": "GPU"
  },
  "cells": [
    {
      "cell_type": "markdown",
      "metadata": {
        "id": "view-in-github",
        "colab_type": "text"
      },
      "source": [
        "<a href=\"https://colab.research.google.com/github/anderhos/Applied-Machine-Learning/blob/master/cnn_segmentation.ipynb\" target=\"_parent\"><img src=\"https://colab.research.google.com/assets/colab-badge.svg\" alt=\"Open In Colab\"/></a>"
      ]
    },
    {
      "cell_type": "markdown",
      "metadata": {
        "id": "jGGCbwN6xfRe"
      },
      "source": [
        "## CA2 - DAT300 - Compulsory Assignment 2\n",
        " - Kaggle name : Group_2\n",
        " - Group number : Group 2 \n",
        " - Members : Anders Mølmen Høst , Ghazal Azadi ,Meera Joseph\n",
        "\n",
        "## Cloud segmentation on satellite images"
      ]
    },
    {
      "cell_type": "code",
      "metadata": {
        "id": "xl3sWYbqb_Dm",
        "colab": {
          "base_uri": "https://localhost:8080/",
          "height": 34
        },
        "outputId": "b00d2d41-9366-45df-94e3-d9a1a2633784"
      },
      "source": [
        "from google.colab import drive\n",
        "drive.mount('/content/drive')"
      ],
      "execution_count": null,
      "outputs": [
        {
          "output_type": "stream",
          "text": [
            "Mounted at /content/drive\n"
          ],
          "name": "stdout"
        }
      ]
    },
    {
      "cell_type": "code",
      "metadata": {
        "id": "frYHzk8XQqGD",
        "colab": {
          "base_uri": "https://localhost:8080/",
          "height": 34
        },
        "outputId": "e7cdaa87-9a18-446f-f7c1-325fa42c8675"
      },
      "source": [
        "cd ~"
      ],
      "execution_count": null,
      "outputs": [
        {
          "output_type": "stream",
          "text": [
            "/root\n"
          ],
          "name": "stdout"
        }
      ]
    },
    {
      "cell_type": "code",
      "metadata": {
        "id": "pNQdQ-bSQrit"
      },
      "source": [
        "ls"
      ],
      "execution_count": null,
      "outputs": []
    },
    {
      "cell_type": "code",
      "metadata": {
        "id": "fQkY1teXQwAJ"
      },
      "source": [
        "mkdir ~/.kaggle"
      ],
      "execution_count": null,
      "outputs": []
    },
    {
      "cell_type": "code",
      "metadata": {
        "id": "nPudcdHvQkcV"
      },
      "source": [
        "mv /content/kaggle.json ~/.kaggle/kaggle.json"
      ],
      "execution_count": null,
      "outputs": []
    },
    {
      "cell_type": "code",
      "metadata": {
        "id": "dvYZ5iXPcTfA",
        "colab": {
          "base_uri": "https://localhost:8080/",
          "height": 230
        },
        "outputId": "ae8f7cb3-b8d1-4ace-9f75-89b7dd071ea2"
      },
      "source": [
        "from googleapiclient.discovery import build\n",
        "import io, os\n",
        "from googleapiclient.http import MediaIoBaseDownload\n",
        "from google.colab import auth\n",
        "auth.authenticate_user()\n",
        "drive_service = build('drive', 'v3')\n",
        "results = drive_service.files().list(\n",
        "        q=\"name = 'kaggle.json'\", fields=\"files(id)\").execute()\n",
        "kaggle_api_key = results.get('files', [])\n",
        "filename = \"/.kaggle/kaggle.json\"\n",
        "os.makedirs(os.path.dirname(filename), exist_ok=True)\n",
        "request = drive_service.files().get_media(fileId=kaggle_api_key[0]['id'])\n",
        "fh = io.FileIO(filename, 'wb')\n",
        "downloader = MediaIoBaseDownload(fh, request)\n",
        "done = False\n",
        "while done is False:\n",
        "    status, done = downloader.next_chunk()\n",
        "    print(\"Download %d%%.\" % int(status.progress() * 100))\n",
        "os.chmod(filename, 600)"
      ],
      "execution_count": null,
      "outputs": [
        {
          "output_type": "error",
          "ename": "IndexError",
          "evalue": "ignored",
          "traceback": [
            "\u001b[0;31m---------------------------------------------------------------------------\u001b[0m",
            "\u001b[0;31mIndexError\u001b[0m                                Traceback (most recent call last)",
            "\u001b[0;32m<ipython-input-4-29459d8055bf>\u001b[0m in \u001b[0;36m<module>\u001b[0;34m()\u001b[0m\n\u001b[1;32m     10\u001b[0m \u001b[0mfilename\u001b[0m \u001b[0;34m=\u001b[0m \u001b[0;34m\"/.kaggle/kaggle.json\"\u001b[0m\u001b[0;34m\u001b[0m\u001b[0;34m\u001b[0m\u001b[0m\n\u001b[1;32m     11\u001b[0m \u001b[0mos\u001b[0m\u001b[0;34m.\u001b[0m\u001b[0mmakedirs\u001b[0m\u001b[0;34m(\u001b[0m\u001b[0mos\u001b[0m\u001b[0;34m.\u001b[0m\u001b[0mpath\u001b[0m\u001b[0;34m.\u001b[0m\u001b[0mdirname\u001b[0m\u001b[0;34m(\u001b[0m\u001b[0mfilename\u001b[0m\u001b[0;34m)\u001b[0m\u001b[0;34m,\u001b[0m \u001b[0mexist_ok\u001b[0m\u001b[0;34m=\u001b[0m\u001b[0;32mTrue\u001b[0m\u001b[0;34m)\u001b[0m\u001b[0;34m\u001b[0m\u001b[0;34m\u001b[0m\u001b[0m\n\u001b[0;32m---> 12\u001b[0;31m \u001b[0mrequest\u001b[0m \u001b[0;34m=\u001b[0m \u001b[0mdrive_service\u001b[0m\u001b[0;34m.\u001b[0m\u001b[0mfiles\u001b[0m\u001b[0;34m(\u001b[0m\u001b[0;34m)\u001b[0m\u001b[0;34m.\u001b[0m\u001b[0mget_media\u001b[0m\u001b[0;34m(\u001b[0m\u001b[0mfileId\u001b[0m\u001b[0;34m=\u001b[0m\u001b[0mkaggle_api_key\u001b[0m\u001b[0;34m[\u001b[0m\u001b[0;36m0\u001b[0m\u001b[0;34m]\u001b[0m\u001b[0;34m[\u001b[0m\u001b[0;34m'id'\u001b[0m\u001b[0;34m]\u001b[0m\u001b[0;34m)\u001b[0m\u001b[0;34m\u001b[0m\u001b[0;34m\u001b[0m\u001b[0m\n\u001b[0m\u001b[1;32m     13\u001b[0m \u001b[0mfh\u001b[0m \u001b[0;34m=\u001b[0m \u001b[0mio\u001b[0m\u001b[0;34m.\u001b[0m\u001b[0mFileIO\u001b[0m\u001b[0;34m(\u001b[0m\u001b[0mfilename\u001b[0m\u001b[0;34m,\u001b[0m \u001b[0;34m'wb'\u001b[0m\u001b[0;34m)\u001b[0m\u001b[0;34m\u001b[0m\u001b[0;34m\u001b[0m\u001b[0m\n\u001b[1;32m     14\u001b[0m \u001b[0mdownloader\u001b[0m \u001b[0;34m=\u001b[0m \u001b[0mMediaIoBaseDownload\u001b[0m\u001b[0;34m(\u001b[0m\u001b[0mfh\u001b[0m\u001b[0;34m,\u001b[0m \u001b[0mrequest\u001b[0m\u001b[0;34m)\u001b[0m\u001b[0;34m\u001b[0m\u001b[0;34m\u001b[0m\u001b[0m\n",
            "\u001b[0;31mIndexError\u001b[0m: list index out of range"
          ]
        }
      ]
    },
    {
      "cell_type": "code",
      "metadata": {
        "id": "pV8Pg2jAcl8s",
        "colab": {
          "base_uri": "https://localhost:8080/",
          "height": 51
        },
        "outputId": "f862b8e8-b6c9-4fcc-a9d6-acedfef56529"
      },
      "source": [
        " # Check existence of file\n",
        "!ls /.kaggle\n",
        "!cat /.kaggle/kaggle.json"
      ],
      "execution_count": null,
      "outputs": [
        {
          "output_type": "stream",
          "text": [
            "ls: cannot access '/.kaggle': No such file or directory\n",
            "cat: /.kaggle/kaggle.json: No such file or directory\n"
          ],
          "name": "stdout"
        }
      ]
    },
    {
      "cell_type": "code",
      "metadata": {
        "id": "hCImMEnFcoL1"
      },
      "source": [
        " # Notice the difference in path names with/without ~\n",
        "!mkdir -p ~/.kaggle\n",
        "!cp /.kaggle/kaggle.json ~/.kaggle/"
      ],
      "execution_count": null,
      "outputs": []
    },
    {
      "cell_type": "code",
      "metadata": {
        "id": "7Pf8PqLecqq0",
        "colab": {
          "base_uri": "https://localhost:8080/",
          "height": 238
        },
        "outputId": "0da72d27-1e0c-4afa-dc49-e19209b29350"
      },
      "source": [
        " # Install Python part of kaggle\n",
        "!pip install kaggle"
      ],
      "execution_count": null,
      "outputs": [
        {
          "output_type": "stream",
          "text": [
            "Requirement already satisfied: kaggle in /usr/local/lib/python3.6/dist-packages (1.5.9)\n",
            "Requirement already satisfied: six>=1.10 in /usr/local/lib/python3.6/dist-packages (from kaggle) (1.15.0)\n",
            "Requirement already satisfied: tqdm in /usr/local/lib/python3.6/dist-packages (from kaggle) (4.41.1)\n",
            "Requirement already satisfied: slugify in /usr/local/lib/python3.6/dist-packages (from kaggle) (0.0.1)\n",
            "Requirement already satisfied: urllib3 in /usr/local/lib/python3.6/dist-packages (from kaggle) (1.24.3)\n",
            "Requirement already satisfied: requests in /usr/local/lib/python3.6/dist-packages (from kaggle) (2.23.0)\n",
            "Requirement already satisfied: python-slugify in /usr/local/lib/python3.6/dist-packages (from kaggle) (4.0.1)\n",
            "Requirement already satisfied: certifi in /usr/local/lib/python3.6/dist-packages (from kaggle) (2020.6.20)\n",
            "Requirement already satisfied: python-dateutil in /usr/local/lib/python3.6/dist-packages (from kaggle) (2.8.1)\n",
            "Requirement already satisfied: idna<3,>=2.5 in /usr/local/lib/python3.6/dist-packages (from requests->kaggle) (2.10)\n",
            "Requirement already satisfied: chardet<4,>=3.0.2 in /usr/local/lib/python3.6/dist-packages (from requests->kaggle) (3.0.4)\n",
            "Requirement already satisfied: text-unidecode>=1.3 in /usr/local/lib/python3.6/dist-packages (from python-slugify->kaggle) (1.3)\n"
          ],
          "name": "stdout"
        }
      ]
    },
    {
      "cell_type": "code",
      "metadata": {
        "id": "Cxy7barQRLNA",
        "colab": {
          "base_uri": "https://localhost:8080/",
          "height": 34
        },
        "outputId": "a5beea49-6fad-4096-e1d8-d74dc7943595"
      },
      "source": [
        "cd /content"
      ],
      "execution_count": null,
      "outputs": [
        {
          "output_type": "stream",
          "text": [
            "/content\n"
          ],
          "name": "stdout"
        }
      ]
    },
    {
      "cell_type": "code",
      "metadata": {
        "id": "mScTF_70cvQm",
        "colab": {
          "base_uri": "https://localhost:8080/",
          "height": 222
        },
        "outputId": "1ef50aed-f016-47f9-f996-b99b016e92d8"
      },
      "source": [
        "!kaggle competitions download -c dat300-h2020-ca2"
      ],
      "execution_count": null,
      "outputs": [
        {
          "output_type": "stream",
          "text": [
            "Warning: Your Kaggle API key is readable by other users on this system! To fix this, you can run 'chmod 600 /root/.kaggle/kaggle.json'\n",
            "Warning: Looks like you're using an outdated API Version, please consider updating (server 1.5.9 / client 1.5.4)\n",
            "Downloading test.h5.zip to /content\n",
            " 87% 65.0M/75.1M [00:00<00:00, 111MB/s] \n",
            "100% 75.1M/75.1M [00:00<00:00, 190MB/s]\n",
            "Downloading sample_submission.csv.zip to /content\n",
            " 60% 11.0M/18.4M [00:00<00:00, 93.4MB/s]\n",
            "100% 18.4M/18.4M [00:00<00:00, 118MB/s] \n",
            "Downloading train.h5.zip to /content\n",
            " 99% 454M/460M [00:03<00:00, 147MB/s]\n",
            "100% 460M/460M [00:03<00:00, 131MB/s]\n"
          ],
          "name": "stdout"
        }
      ]
    },
    {
      "cell_type": "code",
      "metadata": {
        "id": "vMyn5iSJeigc",
        "colab": {
          "base_uri": "https://localhost:8080/",
          "height": 50
        },
        "outputId": "a58326a4-b21b-4b69-87ea-237315dcac7d"
      },
      "source": [
        "!unzip /content/test.h5.zip -d /content/"
      ],
      "execution_count": null,
      "outputs": [
        {
          "output_type": "stream",
          "text": [
            "Archive:  /content/test.h5.zip\n",
            "  inflating: /content/test.h5        \n"
          ],
          "name": "stdout"
        }
      ]
    },
    {
      "cell_type": "code",
      "metadata": {
        "id": "o2ttd-wBmlLH",
        "colab": {
          "base_uri": "https://localhost:8080/",
          "height": 50
        },
        "outputId": "30a849b8-fc12-4a08-9ec2-de12c0e945fd"
      },
      "source": [
        "!unzip /content/train.h5.zip -d /content/"
      ],
      "execution_count": null,
      "outputs": [
        {
          "output_type": "stream",
          "text": [
            "Archive:  /content/train.h5.zip\n",
            "  inflating: /content/train.h5       \n"
          ],
          "name": "stdout"
        }
      ]
    },
    {
      "cell_type": "markdown",
      "metadata": {
        "id": "uuhSUOcKkzFd"
      },
      "source": [
        "### Load modules"
      ]
    },
    {
      "cell_type": "code",
      "metadata": {
        "id": "VeqsB929mtqo"
      },
      "source": [
        "import tensorflow as tf\n",
        "from PIL.Image import fromarray\n",
        "import matplotlib.pyplot as plt\n",
        "\n",
        "from tensorflow.keras.models import Sequential\n",
        "from tensorflow.keras.layers import Dense, Conv2D, MaxPooling2D, Flatten, Dropout, BatchNormalization, Conv2DTranspose\n",
        "from tensorflow.keras import layers\n",
        "from tensorflow.keras import activations\n",
        "import h5py\n",
        "import numpy as np\n",
        "\n",
        "from keras import backend as K\n",
        "from numpy import concatenate\n",
        "\n",
        "from tensorflow.keras.layers import Input, Conv2D, BatchNormalization, Activation, MaxPooling2D, Dropout, Conv2DTranspose, concatenate\n",
        "from tensorflow.keras.models import Model\n"
      ],
      "execution_count": null,
      "outputs": []
    },
    {
      "cell_type": "markdown",
      "metadata": {
        "id": "FRUfqVqB7im5"
      },
      "source": [
        "###1. Get data from the HDF5 file:"
      ]
    },
    {
      "cell_type": "code",
      "metadata": {
        "id": "9m-nCyDhmwSl",
        "colab": {
          "base_uri": "https://localhost:8080/",
          "height": 34
        },
        "outputId": "6a21e446-0d0f-44b9-8445-3f28bc87797c"
      },
      "source": [
        "with h5py.File('/content/train.h5', 'r') as hf:\n",
        "    print(hf.keys())"
      ],
      "execution_count": null,
      "outputs": [
        {
          "output_type": "stream",
          "text": [
            "<KeysViewHDF5 ['X', 'y']>\n"
          ],
          "name": "stdout"
        }
      ]
    },
    {
      "cell_type": "code",
      "metadata": {
        "id": "HEkPO6wum_xa"
      },
      "source": [
        "with h5py.File('train.h5', 'r') as hf:\n",
        "    X_data = hf['X'][:]\n",
        "    y_data = hf['y'][:]"
      ],
      "execution_count": null,
      "outputs": []
    },
    {
      "cell_type": "code",
      "metadata": {
        "id": "YvsNx0SOnBbG"
      },
      "source": [
        "with h5py.File('test.h5', 'r') as hf:\n",
        "    X_test = hf['X'][:]"
      ],
      "execution_count": null,
      "outputs": []
    },
    {
      "cell_type": "code",
      "metadata": {
        "id": "CK9-rSClf8bn",
        "colab": {
          "base_uri": "https://localhost:8080/",
          "height": 34
        },
        "outputId": "8409d16f-0ea6-44a8-b932-4482adbb9429"
      },
      "source": [
        "X_data.shape"
      ],
      "execution_count": null,
      "outputs": [
        {
          "output_type": "execute_result",
          "data": {
            "text/plain": [
              "(3000, 128, 128, 4)"
            ]
          },
          "metadata": {
            "tags": []
          },
          "execution_count": 25
        }
      ]
    },
    {
      "cell_type": "markdown",
      "metadata": {
        "id": "bX5uCuCB7qFx"
      },
      "source": [
        "### 2. Preprocessing"
      ]
    },
    {
      "cell_type": "markdown",
      "metadata": {
        "id": "RId7WfBy7y7m"
      },
      "source": [
        "Plotting the first 9 images and \n",
        "corresponding masks"
      ]
    },
    {
      "cell_type": "code",
      "metadata": {
        "id": "egbTFTyJBtg7"
      },
      "source": [
        "def plot_img(X):\n",
        "  # We need our date normalized and in floating point representation\n",
        "  # to be able to plot our data using imshow\n",
        "  X = X.astype('float32')\n",
        "  X = X/np.max(X)\n",
        "  for i in range(0, 9):\n",
        "      plt.subplot(330 + 1 + i)\n",
        "      plt.imshow(X[i,:,:,:-1])\n",
        "  return plt.show()\n",
        "\n",
        "\n",
        "\n",
        "\n",
        "\n",
        "\n",
        "\n",
        "\n",
        "\n",
        "  "
      ],
      "execution_count": null,
      "outputs": []
    },
    {
      "cell_type": "markdown",
      "metadata": {
        "id": "KyQW9H7KXkoN"
      },
      "source": [
        "In this plot, we tried to visualize our X_data. Our X_data basically consists of 3000 images with dimesions of 128*128 with 4 color channels. (X_data.shape)\n",
        "\n",
        "However in this plot we are visualizing 9 images (randomly) with indices of 331-339. As its been shown, some pictures consist of clouds and some don't. Our main goal at the end is to categorize these images as if they include clouds or not. "
      ]
    },
    {
      "cell_type": "code",
      "metadata": {
        "id": "JxLzZ4XBBvTT",
        "colab": {
          "base_uri": "https://localhost:8080/",
          "height": 268
        },
        "outputId": "d2314424-f7e7-4d25-84c7-4721a2686483"
      },
      "source": [
        "plot_img(X_data)"
      ],
      "execution_count": null,
      "outputs": [
        {
          "output_type": "display_data",
          "data": {
            "image/png": "[encoded data removed]",
            "text/plain": [
              "<Figure size 432x288 with 9 Axes>"
            ]
          },
          "metadata": {
            "tags": [],
            "needs_background": "light"
          }
        }
      ]
    },
    {
      "cell_type": "code",
      "metadata": {
        "id": "qApFmA4iXv7Z"
      },
      "source": [
        "# Normalizing y_data\n",
        "y_data = y_data/255"
      ],
      "execution_count": null,
      "outputs": []
    },
    {
      "cell_type": "code",
      "metadata": {
        "id": "QayYpElFB0n8"
      },
      "source": [
        "def plot_mask(y):\n",
        "  for i in range(0, 9):\n",
        "      plt.subplot(330 + 1 + i)\n",
        "      plt.imshow(y_data[i,:,:,0])\n",
        "  return plt.show"
      ],
      "execution_count": null,
      "outputs": []
    },
    {
      "cell_type": "markdown",
      "metadata": {
        "id": "MeO8fVqqd-F-"
      },
      "source": [
        "What we do here is to visualize the target. As we said before our goal in this problem is to find a model in which it can categorize the given images based on the fact that if they consist clouds or not. Therefore what we have in the y_data is reflecting this issue. Looking at some plot masks of y_data (below image) we can obviously recognize binary classification of the target."
      ]
    },
    {
      "cell_type": "code",
      "metadata": {
        "id": "li0RpGjlB14j",
        "colab": {
          "base_uri": "https://localhost:8080/",
          "height": 286
        },
        "outputId": "16ea5cb7-fc7e-4248-8363-7cce39e4ed1c"
      },
      "source": [
        "plot_mask(y_data)"
      ],
      "execution_count": null,
      "outputs": [
        {
          "output_type": "execute_result",
          "data": {
            "text/plain": [
              "<function matplotlib.pyplot.show>"
            ]
          },
          "metadata": {
            "tags": []
          },
          "execution_count": 22
        },
        {
          "output_type": "display_data",
          "data": {
            "image/png": "[encoded data removed]",
            "text/plain": [
              "<Figure size 432x288 with 9 Axes>"
            ]
          },
          "metadata": {
            "tags": [],
            "needs_background": "light"
          }
        }
      ]
    },
    {
      "cell_type": "code",
      "metadata": {
        "id": "doCubLgEnHaq"
      },
      "source": [
        "# Partition and split into training and validation data \n",
        "X_train, y_train = X_data[:2400, :], y_data[:2400]\n",
        "X_valid, y_valid = X_data[2400:3000, :], y_data[2400:3000]"
      ],
      "execution_count": null,
      "outputs": []
    },
    {
      "cell_type": "code",
      "metadata": {
        "id": "PrE9JvxdRgd8",
        "colab": {
          "base_uri": "https://localhost:8080/",
          "height": 118
        },
        "outputId": "d15f8f4f-5e00-45a1-8ba6-9d8f1d8014bd"
      },
      "source": [
        "print(\"Shape of X_data: \",X_data.shape)\n",
        "print(\"Shape of y_data: \",y_data.shape)\n",
        "print(\"Shape of X_train: \",X_train.shape)\n",
        "print(\"Shape of y_train: \",y_train.shape)\n",
        "print(\"Shape of X_valid: \",X_valid.shape)\n",
        "print(\"Shape of y_valid: \",y_valid.shape)"
      ],
      "execution_count": null,
      "outputs": [
        {
          "output_type": "stream",
          "text": [
            "Shape of X_data:  (3000, 128, 128, 4)\n",
            "Shape of y_data:  (3000, 128, 128, 1)\n",
            "Shape of X_train:  (2400, 128, 128, 4)\n",
            "Shape of y_train:  (2400, 128, 128, 1)\n",
            "Shape of X_valid:  (600, 128, 128, 4)\n",
            "Shape of y_valid:  (600, 128, 128, 1)\n"
          ],
          "name": "stdout"
        }
      ]
    },
    {
      "cell_type": "code",
      "metadata": {
        "id": "jGu2QnMznJC-"
      },
      "source": [
        "# Standardize data pixel wise\n",
        "\n",
        "mean_vals = np.mean(X_train, axis=0)\n",
        "std_val = np.std(X_train, axis=0)\n",
        "\n",
        "X_train_centered = (X_train - mean_vals) / std_val\n",
        "X_valid_centered = (X_valid - mean_vals) / std_val\n",
        "X_test_centered = (X_test  - mean_vals) / std_val"
      ],
      "execution_count": null,
      "outputs": []
    },
    {
      "cell_type": "code",
      "metadata": {
        "id": "u_4UbpB2HhMO",
        "colab": {
          "base_uri": "https://localhost:8080/",
          "height": 34
        },
        "outputId": "3bf13386-ee81-48b5-bbc5-882d8676f674"
      },
      "source": [
        "X_train_centered.shape"
      ],
      "execution_count": null,
      "outputs": [
        {
          "output_type": "execute_result",
          "data": {
            "text/plain": [
              "(2400, 128, 128, 4)"
            ]
          },
          "metadata": {
            "tags": []
          },
          "execution_count": 25
        }
      ]
    },
    {
      "cell_type": "code",
      "metadata": {
        "id": "RdYz1dRXHjgi",
        "colab": {
          "base_uri": "https://localhost:8080/",
          "height": 34
        },
        "outputId": "644053bf-d306-426e-c02d-a72c0d7615b6"
      },
      "source": [
        "X_valid_centered.shape"
      ],
      "execution_count": null,
      "outputs": [
        {
          "output_type": "execute_result",
          "data": {
            "text/plain": [
              "(600, 128, 128, 4)"
            ]
          },
          "metadata": {
            "tags": []
          },
          "execution_count": 26
        }
      ]
    },
    {
      "cell_type": "code",
      "metadata": {
        "id": "-ElmQLvOemSL",
        "colab": {
          "base_uri": "https://localhost:8080/",
          "height": 34
        },
        "outputId": "567a2b08-a638-4801-c739-4319f5c51a7a"
      },
      "source": [
        "X_test_centered.shape"
      ],
      "execution_count": null,
      "outputs": [
        {
          "output_type": "execute_result",
          "data": {
            "text/plain": [
              "(500, 128, 128, 4)"
            ]
          },
          "metadata": {
            "tags": []
          },
          "execution_count": 27
        }
      ]
    },
    {
      "cell_type": "code",
      "metadata": {
        "id": "yTzPfqAkvmz3",
        "colab": {
          "base_uri": "https://localhost:8080/",
          "height": 34
        },
        "outputId": "372c4a26-e958-490b-d719-9a94457640e5"
      },
      "source": [
        "y_valid.shape"
      ],
      "execution_count": null,
      "outputs": [
        {
          "output_type": "execute_result",
          "data": {
            "text/plain": [
              "(600, 128, 128, 1)"
            ]
          },
          "metadata": {
            "tags": []
          },
          "execution_count": 28
        }
      ]
    },
    {
      "cell_type": "markdown",
      "metadata": {
        "id": "nNXUidTGlSiU"
      },
      "source": [
        "###TASK :\n",
        "##### Create a basic U-Net with optional dropout. Use a proportion of the images for validation when training. The minimum requirement is to tune the following parameters: number of convolutional filters, dropout and learning rate.  Report strategies and scores leading up to the final choice. If time permits, we recommend adding augmentation (both images and masks) and changing the loss function, e.g. implementing F1. More exotic networks and tuning is also allowed as long as you show that you know how to use U-Nets too."
      ]
    },
    {
      "cell_type": "markdown",
      "metadata": {
        "id": "x6mikgESlkYI"
      },
      "source": [
        "### 3. Unet model for image segmentation \n",
        "using sigmoid as the activation function "
      ]
    },
    {
      "cell_type": "code",
      "metadata": {
        "id": "CgSAzhhtnOQ6"
      },
      "source": [
        "\"\"\"\n",
        "Version of U-Net with dropout and size preservation (padding= 'same')\n",
        "\"\"\" \n",
        "def conv2d_block(input_tensor, n_filters, kernel_size = 3, batchnorm = True):\n",
        "    \"\"\"Function to add 2 convolutional layers with the parameters passed to it\"\"\"\n",
        "    # first layer\n",
        "    x = Conv2D(filters = n_filters, kernel_size = (kernel_size, kernel_size),\\\n",
        "              kernel_initializer = 'he_normal', padding = 'same')(input_tensor)\n",
        "    if batchnorm:\n",
        "        x = BatchNormalization()(x)\n",
        "    x = Activation('relu')(x)\n",
        "    \n",
        "    # second layer\n",
        "    x = Conv2D(filters = n_filters, kernel_size = (kernel_size, kernel_size),\\\n",
        "              kernel_initializer = 'he_normal', padding = 'same')(x)\n",
        "    if batchnorm:\n",
        "        x = BatchNormalization()(x)\n",
        "    x = Activation('relu')(x)\n",
        "    \n",
        "    return x\n",
        "\n",
        "\n",
        "def get_unet(input_img, n_filters = 16, dropout = 0.1, batchnorm = True, n_classes = 2):\n",
        "    # Contracting Path\n",
        "    c1 = conv2d_block(input_img, n_filters * 1, kernel_size = 3, batchnorm = batchnorm)\n",
        "    p1 = MaxPooling2D((2, 2))(c1)\n",
        "    p1 = Dropout(dropout)(p1)\n",
        "    \n",
        "    c2 = conv2d_block(p1, n_filters * 2, kernel_size = 3, batchnorm = batchnorm)\n",
        "    p2 = MaxPooling2D((2, 2))(c2)\n",
        "    p2 = Dropout(dropout)(p2)\n",
        "    \n",
        "    c3 = conv2d_block(p2, n_filters * 4, kernel_size = 3, batchnorm = batchnorm)\n",
        "    p3 = MaxPooling2D((2, 2))(c3)\n",
        "    p3 = Dropout(dropout)(p3)\n",
        "    \n",
        "    c4 = conv2d_block(p3, n_filters * 8, kernel_size = 3, batchnorm = batchnorm)\n",
        "    p4 = MaxPooling2D((2, 2))(c4)\n",
        "    p4 = Dropout(dropout)(p4)\n",
        "    \n",
        "    c5 = conv2d_block(p4, n_filters = n_filters * 16, kernel_size = 3, batchnorm = batchnorm)\n",
        "    \n",
        "    # Expansive Path\n",
        "    u6 = Conv2DTranspose(n_filters * 8, (3, 3), strides = (2, 2), padding = 'same')(c5)\n",
        "    u6 = concatenate([u6, c4])\n",
        "    u6 = Dropout(dropout)(u6)\n",
        "    c6 = conv2d_block(u6, n_filters * 8, kernel_size = 3, batchnorm = batchnorm)\n",
        "    \n",
        "    u7 = Conv2DTranspose(n_filters * 4, (3, 3), strides = (2, 2), padding = 'same')(c6)\n",
        "    u7 = concatenate([u7, c3])\n",
        "    u7 = Dropout(dropout)(u7)\n",
        "    c7 = conv2d_block(u7, n_filters * 4, kernel_size = 3, batchnorm = batchnorm)\n",
        "    \n",
        "    u8 = Conv2DTranspose(n_filters * 2, (3, 3), strides = (2, 2), padding = 'same')(c7)\n",
        "    u8 = concatenate([u8, c2])\n",
        "    u8 = Dropout(dropout)(u8)\n",
        "    c8 = conv2d_block(u8, n_filters * 2, kernel_size = 3, batchnorm = batchnorm)\n",
        "    \n",
        "    u9 = Conv2DTranspose(n_filters * 1, (3, 3), strides = (2, 2), padding = 'same')(c8)\n",
        "    u9 = concatenate([u9, c1])\n",
        "    u9 = Dropout(dropout)(u9)\n",
        "    c9 = conv2d_block(u9, n_filters * 1, kernel_size = 3, batchnorm = batchnorm)\n",
        "    \n",
        "    outputs = Conv2D(n_classes, (1, 1), activation='sigmoid')(c9)\n",
        "    model = Model(inputs=[input_img], outputs=[outputs])\n",
        "    return model"
      ],
      "execution_count": null,
      "outputs": []
    },
    {
      "cell_type": "markdown",
      "metadata": {
        "id": "jNqNGpwjjVXD"
      },
      "source": [
        "- It should be noted that in the covolution part of the code, we also examined threshold Relu activation. However with different values of the threshold it did not contribute to the improvement of the model significantly.So we fixed the activation function as Relu.\n",
        "\n",
        "- Another important thing about the above code is that in the dense layer, since we had the binary classification, we chose to use Sigmoid activation which is appropriate for binary classification problems."
      ]
    },
    {
      "cell_type": "markdown",
      "metadata": {
        "id": "yL46Tc61l0_r"
      },
      "source": [
        "#### 3.1 Code for F1, precision and recall for keras model"
      ]
    },
    {
      "cell_type": "code",
      "metadata": {
        "id": "v4FF_2L9pkUw"
      },
      "source": [
        "def recall_m(y_true, y_pred):\n",
        "    true_positives = tf.reduce_sum(K.round(K.clip(y_true * y_pred, 0, 1)))\n",
        "    possible_positives = K.sum(K.round(K.clip(y_true, 0, 1)))\n",
        "    recall = true_positives / (possible_positives + K.epsilon())\n",
        "    return recall\n",
        "def precision_m(y_true, y_pred):\n",
        "    true_positives = K.sum(K.round(K.clip(y_true * y_pred, 0, 1)))\n",
        "    predicted_positives = K.sum(K.round(K.clip(y_pred, 0, 1)))\n",
        "    precision = true_positives / (predicted_positives + K.epsilon())\n",
        "    return precision\n",
        "def f1_m(y_true, y_pred):\n",
        "    precision = precision_m(y_true, y_pred)\n",
        "    recall = recall_m(y_true, y_pred)\n",
        "    return 2*((precision*recall)/(precision+recall+K.epsilon()))\n",
        "\n",
        "def dice_coef(y_true, y_pred, smooth=1):\n",
        "  intersection = K.sum(y_true * y_pred, axis=[1,2,3])\n",
        "  union = K.sum(y_true, axis=[1,2,3]) + K.sum(y_pred, axis=[1,2,3])\n",
        "  dice = K.mean((2. * intersection + smooth)/(union + smooth), axis=0)\n",
        "  return dice\n",
        "from keras import backend as K\n",
        "\n",
        "smooth = 0.0000001\n",
        "\n",
        "\n",
        "def jacc_coef(y_true, y_pred):\n",
        "    y_true_f = K.flatten(y_true)\n",
        "    y_pred_f = K.flatten(y_pred)\n",
        "    intersection = K.sum(y_true_f * y_pred_f)\n",
        "    return 1 - ((intersection + smooth) / (K.sum(y_true_f) + K.sum(y_pred_f) - intersection + smooth))"
      ],
      "execution_count": null,
      "outputs": []
    },
    {
      "cell_type": "markdown",
      "metadata": {
        "id": "TXqUFLIgl74G"
      },
      "source": [
        "### 3.2 Build the unet model with input image and 64 filters "
      ]
    },
    {
      "cell_type": "code",
      "metadata": {
        "id": "wyXU_2TApnoR"
      },
      "source": [
        "input_img = Input(shape=(128,128,4))\n",
        "model = get_unet(input_img, n_filters = 64, dropout = 0, batchnorm = True, n_classes = 1)\n",
        "#model.summary()"
      ],
      "execution_count": null,
      "outputs": []
    },
    {
      "cell_type": "markdown",
      "metadata": {
        "id": "MzRKG4QWj3jm"
      },
      "source": [
        "- we choose the input with the same dimension of the X_data. (one sample of 128*128 dimension with 4 color channels)\n",
        "- We also have exmained filters of 32 with 50% dropout which leaded to 91% F1_score.\n",
        "- Another alternative which we examined was 16 filters with 30% dropout which gave us 88% of F_1 score.\n",
        "- Among all the best combination of hyper-parameters was 64 filters with no dropout which took us to get the best F_1 score of 95%.\n"
      ]
    },
    {
      "cell_type": "markdown",
      "metadata": {
        "id": "Bz-hldwjyJK8"
      },
      "source": [
        "### 3.2.1 Inspect the model\n",
        "\n",
        "Use summary method to print a simple description of the model"
      ]
    },
    {
      "cell_type": "code",
      "metadata": {
        "id": "ykbFd2BTyQ3Y",
        "colab": {
          "base_uri": "https://localhost:8080/",
          "height": 1000
        },
        "outputId": "2c169304-8bcd-479b-d5c3-d21a4833323b"
      },
      "source": [
        "model.summary()"
      ],
      "execution_count": null,
      "outputs": [
        {
          "output_type": "stream",
          "text": [
            "Model: \"functional_1\"\n",
            "__________________________________________________________________________________________________\n",
            "Layer (type)                    Output Shape         Param #     Connected to                     \n",
            "==================================================================================================\n",
            "input_1 (InputLayer)            [(None, 128, 128, 4) 0                                            \n",
            "__________________________________________________________________________________________________\n",
            "conv2d (Conv2D)                 (None, 128, 128, 64) 2368        input_1[0][0]                    \n",
            "__________________________________________________________________________________________________\n",
            "batch_normalization (BatchNorma (None, 128, 128, 64) 256         conv2d[0][0]                     \n",
            "__________________________________________________________________________________________________\n",
            "activation (Activation)         (None, 128, 128, 64) 0           batch_normalization[0][0]        \n",
            "__________________________________________________________________________________________________\n",
            "conv2d_1 (Conv2D)               (None, 128, 128, 64) 36928       activation[0][0]                 \n",
            "__________________________________________________________________________________________________\n",
            "batch_normalization_1 (BatchNor (None, 128, 128, 64) 256         conv2d_1[0][0]                   \n",
            "__________________________________________________________________________________________________\n",
            "activation_1 (Activation)       (None, 128, 128, 64) 0           batch_normalization_1[0][0]      \n",
            "__________________________________________________________________________________________________\n",
            "max_pooling2d (MaxPooling2D)    (None, 64, 64, 64)   0           activation_1[0][0]               \n",
            "__________________________________________________________________________________________________\n",
            "dropout (Dropout)               (None, 64, 64, 64)   0           max_pooling2d[0][0]              \n",
            "__________________________________________________________________________________________________\n",
            "conv2d_2 (Conv2D)               (None, 64, 64, 128)  73856       dropout[0][0]                    \n",
            "__________________________________________________________________________________________________\n",
            "batch_normalization_2 (BatchNor (None, 64, 64, 128)  512         conv2d_2[0][0]                   \n",
            "__________________________________________________________________________________________________\n",
            "activation_2 (Activation)       (None, 64, 64, 128)  0           batch_normalization_2[0][0]      \n",
            "__________________________________________________________________________________________________\n",
            "conv2d_3 (Conv2D)               (None, 64, 64, 128)  147584      activation_2[0][0]               \n",
            "__________________________________________________________________________________________________\n",
            "batch_normalization_3 (BatchNor (None, 64, 64, 128)  512         conv2d_3[0][0]                   \n",
            "__________________________________________________________________________________________________\n",
            "activation_3 (Activation)       (None, 64, 64, 128)  0           batch_normalization_3[0][0]      \n",
            "__________________________________________________________________________________________________\n",
            "max_pooling2d_1 (MaxPooling2D)  (None, 32, 32, 128)  0           activation_3[0][0]               \n",
            "__________________________________________________________________________________________________\n",
            "dropout_1 (Dropout)             (None, 32, 32, 128)  0           max_pooling2d_1[0][0]            \n",
            "__________________________________________________________________________________________________\n",
            "conv2d_4 (Conv2D)               (None, 32, 32, 256)  295168      dropout_1[0][0]                  \n",
            "__________________________________________________________________________________________________\n",
            "batch_normalization_4 (BatchNor (None, 32, 32, 256)  1024        conv2d_4[0][0]                   \n",
            "__________________________________________________________________________________________________\n",
            "activation_4 (Activation)       (None, 32, 32, 256)  0           batch_normalization_4[0][0]      \n",
            "__________________________________________________________________________________________________\n",
            "conv2d_5 (Conv2D)               (None, 32, 32, 256)  590080      activation_4[0][0]               \n",
            "__________________________________________________________________________________________________\n",
            "batch_normalization_5 (BatchNor (None, 32, 32, 256)  1024        conv2d_5[0][0]                   \n",
            "__________________________________________________________________________________________________\n",
            "activation_5 (Activation)       (None, 32, 32, 256)  0           batch_normalization_5[0][0]      \n",
            "__________________________________________________________________________________________________\n",
            "max_pooling2d_2 (MaxPooling2D)  (None, 16, 16, 256)  0           activation_5[0][0]               \n",
            "__________________________________________________________________________________________________\n",
            "dropout_2 (Dropout)             (None, 16, 16, 256)  0           max_pooling2d_2[0][0]            \n",
            "__________________________________________________________________________________________________\n",
            "conv2d_6 (Conv2D)               (None, 16, 16, 512)  1180160     dropout_2[0][0]                  \n",
            "__________________________________________________________________________________________________\n",
            "batch_normalization_6 (BatchNor (None, 16, 16, 512)  2048        conv2d_6[0][0]                   \n",
            "__________________________________________________________________________________________________\n",
            "activation_6 (Activation)       (None, 16, 16, 512)  0           batch_normalization_6[0][0]      \n",
            "__________________________________________________________________________________________________\n",
            "conv2d_7 (Conv2D)               (None, 16, 16, 512)  2359808     activation_6[0][0]               \n",
            "__________________________________________________________________________________________________\n",
            "batch_normalization_7 (BatchNor (None, 16, 16, 512)  2048        conv2d_7[0][0]                   \n",
            "__________________________________________________________________________________________________\n",
            "activation_7 (Activation)       (None, 16, 16, 512)  0           batch_normalization_7[0][0]      \n",
            "__________________________________________________________________________________________________\n",
            "max_pooling2d_3 (MaxPooling2D)  (None, 8, 8, 512)    0           activation_7[0][0]               \n",
            "__________________________________________________________________________________________________\n",
            "dropout_3 (Dropout)             (None, 8, 8, 512)    0           max_pooling2d_3[0][0]            \n",
            "__________________________________________________________________________________________________\n",
            "conv2d_8 (Conv2D)               (None, 8, 8, 1024)   4719616     dropout_3[0][0]                  \n",
            "__________________________________________________________________________________________________\n",
            "batch_normalization_8 (BatchNor (None, 8, 8, 1024)   4096        conv2d_8[0][0]                   \n",
            "__________________________________________________________________________________________________\n",
            "activation_8 (Activation)       (None, 8, 8, 1024)   0           batch_normalization_8[0][0]      \n",
            "__________________________________________________________________________________________________\n",
            "conv2d_9 (Conv2D)               (None, 8, 8, 1024)   9438208     activation_8[0][0]               \n",
            "__________________________________________________________________________________________________\n",
            "batch_normalization_9 (BatchNor (None, 8, 8, 1024)   4096        conv2d_9[0][0]                   \n",
            "__________________________________________________________________________________________________\n",
            "activation_9 (Activation)       (None, 8, 8, 1024)   0           batch_normalization_9[0][0]      \n",
            "__________________________________________________________________________________________________\n",
            "conv2d_transpose (Conv2DTranspo (None, 16, 16, 512)  4719104     activation_9[0][0]               \n",
            "__________________________________________________________________________________________________\n",
            "concatenate (Concatenate)       (None, 16, 16, 1024) 0           conv2d_transpose[0][0]           \n",
            "                                                                 activation_7[0][0]               \n",
            "__________________________________________________________________________________________________\n",
            "dropout_4 (Dropout)             (None, 16, 16, 1024) 0           concatenate[0][0]                \n",
            "__________________________________________________________________________________________________\n",
            "conv2d_10 (Conv2D)              (None, 16, 16, 512)  4719104     dropout_4[0][0]                  \n",
            "__________________________________________________________________________________________________\n",
            "batch_normalization_10 (BatchNo (None, 16, 16, 512)  2048        conv2d_10[0][0]                  \n",
            "__________________________________________________________________________________________________\n",
            "activation_10 (Activation)      (None, 16, 16, 512)  0           batch_normalization_10[0][0]     \n",
            "__________________________________________________________________________________________________\n",
            "conv2d_11 (Conv2D)              (None, 16, 16, 512)  2359808     activation_10[0][0]              \n",
            "__________________________________________________________________________________________________\n",
            "batch_normalization_11 (BatchNo (None, 16, 16, 512)  2048        conv2d_11[0][0]                  \n",
            "__________________________________________________________________________________________________\n",
            "activation_11 (Activation)      (None, 16, 16, 512)  0           batch_normalization_11[0][0]     \n",
            "__________________________________________________________________________________________________\n",
            "conv2d_transpose_1 (Conv2DTrans (None, 32, 32, 256)  1179904     activation_11[0][0]              \n",
            "__________________________________________________________________________________________________\n",
            "concatenate_1 (Concatenate)     (None, 32, 32, 512)  0           conv2d_transpose_1[0][0]         \n",
            "                                                                 activation_5[0][0]               \n",
            "__________________________________________________________________________________________________\n",
            "dropout_5 (Dropout)             (None, 32, 32, 512)  0           concatenate_1[0][0]              \n",
            "__________________________________________________________________________________________________\n",
            "conv2d_12 (Conv2D)              (None, 32, 32, 256)  1179904     dropout_5[0][0]                  \n",
            "__________________________________________________________________________________________________\n",
            "batch_normalization_12 (BatchNo (None, 32, 32, 256)  1024        conv2d_12[0][0]                  \n",
            "__________________________________________________________________________________________________\n",
            "activation_12 (Activation)      (None, 32, 32, 256)  0           batch_normalization_12[0][0]     \n",
            "__________________________________________________________________________________________________\n",
            "conv2d_13 (Conv2D)              (None, 32, 32, 256)  590080      activation_12[0][0]              \n",
            "__________________________________________________________________________________________________\n",
            "batch_normalization_13 (BatchNo (None, 32, 32, 256)  1024        conv2d_13[0][0]                  \n",
            "__________________________________________________________________________________________________\n",
            "activation_13 (Activation)      (None, 32, 32, 256)  0           batch_normalization_13[0][0]     \n",
            "__________________________________________________________________________________________________\n",
            "conv2d_transpose_2 (Conv2DTrans (None, 64, 64, 128)  295040      activation_13[0][0]              \n",
            "__________________________________________________________________________________________________\n",
            "concatenate_2 (Concatenate)     (None, 64, 64, 256)  0           conv2d_transpose_2[0][0]         \n",
            "                                                                 activation_3[0][0]               \n",
            "__________________________________________________________________________________________________\n",
            "dropout_6 (Dropout)             (None, 64, 64, 256)  0           concatenate_2[0][0]              \n",
            "__________________________________________________________________________________________________\n",
            "conv2d_14 (Conv2D)              (None, 64, 64, 128)  295040      dropout_6[0][0]                  \n",
            "__________________________________________________________________________________________________\n",
            "batch_normalization_14 (BatchNo (None, 64, 64, 128)  512         conv2d_14[0][0]                  \n",
            "__________________________________________________________________________________________________\n",
            "activation_14 (Activation)      (None, 64, 64, 128)  0           batch_normalization_14[0][0]     \n",
            "__________________________________________________________________________________________________\n",
            "conv2d_15 (Conv2D)              (None, 64, 64, 128)  147584      activation_14[0][0]              \n",
            "__________________________________________________________________________________________________\n",
            "batch_normalization_15 (BatchNo (None, 64, 64, 128)  512         conv2d_15[0][0]                  \n",
            "__________________________________________________________________________________________________\n",
            "activation_15 (Activation)      (None, 64, 64, 128)  0           batch_normalization_15[0][0]     \n",
            "__________________________________________________________________________________________________\n",
            "conv2d_transpose_3 (Conv2DTrans (None, 128, 128, 64) 73792       activation_15[0][0]              \n",
            "__________________________________________________________________________________________________\n",
            "concatenate_3 (Concatenate)     (None, 128, 128, 128 0           conv2d_transpose_3[0][0]         \n",
            "                                                                 activation_1[0][0]               \n",
            "__________________________________________________________________________________________________\n",
            "dropout_7 (Dropout)             (None, 128, 128, 128 0           concatenate_3[0][0]              \n",
            "__________________________________________________________________________________________________\n",
            "conv2d_16 (Conv2D)              (None, 128, 128, 64) 73792       dropout_7[0][0]                  \n",
            "__________________________________________________________________________________________________\n",
            "batch_normalization_16 (BatchNo (None, 128, 128, 64) 256         conv2d_16[0][0]                  \n",
            "__________________________________________________________________________________________________\n",
            "activation_16 (Activation)      (None, 128, 128, 64) 0           batch_normalization_16[0][0]     \n",
            "__________________________________________________________________________________________________\n",
            "conv2d_17 (Conv2D)              (None, 128, 128, 64) 36928       activation_16[0][0]              \n",
            "__________________________________________________________________________________________________\n",
            "batch_normalization_17 (BatchNo (None, 128, 128, 64) 256         conv2d_17[0][0]                  \n",
            "__________________________________________________________________________________________________\n",
            "activation_17 (Activation)      (None, 128, 128, 64) 0           batch_normalization_17[0][0]     \n",
            "__________________________________________________________________________________________________\n",
            "conv2d_18 (Conv2D)              (None, 128, 128, 1)  65          activation_17[0][0]              \n",
            "==================================================================================================\n",
            "Total params: 34,537,473\n",
            "Trainable params: 34,525,697\n",
            "Non-trainable params: 11,776\n",
            "__________________________________________________________________________________________________\n"
          ],
          "name": "stdout"
        }
      ]
    },
    {
      "cell_type": "markdown",
      "metadata": {
        "id": "gMnAw_GcmE22"
      },
      "source": [
        "### 3.3 Compile the model and train the model on the training data , evaluate the model performance on the validation data set\n",
        "\n"
      ]
    },
    {
      "cell_type": "code",
      "metadata": {
        "id": "12SI8hgwXoEX"
      },
      "source": [
        "# compile the model\n",
        "model.compile(optimizer=tf.keras.optimizers.Adam(\n",
        "    learning_rate=0.0001, beta_1=0.9, beta_2=0.999, epsilon=1e-07, amsgrad=False,\n",
        "    name='Adamax'), loss='binary_crossentropy', metrics=['acc',f1_m,precision_m, recall_m,dice_coef])"
      ],
      "execution_count": null,
      "outputs": []
    },
    {
      "cell_type": "markdown",
      "metadata": {
        "id": "InvQ1WH1lIN_"
      },
      "source": [
        "- For model compile, we also tried different types of loss and optimization such as MeanAbsoluteError (https://www.tensorflow.org/api_docs/python/tf/keras/losses) or SGD (https://www.tensorflow.org/api_docs/python/tf/keras/optimizers). However the best combination was Adamax and binary_crossentropy.\n",
        "\n",
        "- What we observed here was that the learning rate can change the performance of the model significantly. And by test and error, seems like for this specific problem, learning rate of 0.0001 works well , so we  tried three different learning_rates: 0.001, 0.001 and 0.0001 and seems like the smallest one was the best. Smaller steps towards the optimum value leads to the best conclusion, apparently.\n",
        "- We tried different batch sizes of 28,35,50 and it was found that a batchsize 50 was giving better results.\n"
      ]
    },
    {
      "cell_type": "code",
      "metadata": {
        "id": "Rn-BosPpka4j",
        "colab": {
          "base_uri": "https://localhost:8080/",
          "height": 759
        },
        "outputId": "dcaa468e-6e87-4855-d46a-ae6688c1173c"
      },
      "source": [
        "import time\n",
        "tic = time.time()\n",
        "results = model.fit(X_train_centered, y_train, batch_size=50, epochs=20,validation_data=(X_valid_centered, y_valid))\n",
        "loss, accuracy, f1_score, precision, recall,dice_coef = model.evaluate(X_valid_centered, y_valid, verbose=0)\n",
        "\n",
        "toc = time.time()\n",
        "\n",
        "print(f\"Done in {(toc - tic):.1f} seconds\")"
      ],
      "execution_count": null,
      "outputs": [
        {
          "output_type": "stream",
          "text": [
            "Epoch 1/20\n",
            " 2/48 [>.............................] - ETA: 36s - loss: 0.6979 - acc: 0.5717 - f1_m: 0.6209 - precision_m: 0.5297 - recall_m: 0.7511 - dice_coef: 0.4210WARNING:tensorflow:Callbacks method `on_train_batch_end` is slow compared to the batch time (batch time: 0.0371s vs `on_train_batch_end` time: 0.7523s). Check your callbacks.\n",
            "48/48 [==============================] - ETA: 0s - loss: 0.3582 - acc: 0.8430 - f1_m: 0.8489 - precision_m: 0.8330 - recall_m: 0.8713 - dice_coef: 0.5783WARNING:tensorflow:Callbacks method `on_test_batch_end` is slow compared to the batch time (batch time: 0.0115s vs `on_test_batch_end` time: 0.2714s). Check your callbacks.\n",
            "48/48 [==============================] - 44s 916ms/step - loss: 0.3582 - acc: 0.8430 - f1_m: 0.8489 - precision_m: 0.8330 - recall_m: 0.8713 - dice_coef: 0.5783 - val_loss: 0.4311 - val_acc: 0.8181 - val_f1_m: 0.7778 - val_precision_m: 0.8877 - val_recall_m: 0.6981 - val_dice_coef: 0.4668\n",
            "Epoch 2/20\n",
            "48/48 [==============================] - 43s 900ms/step - loss: 0.2174 - acc: 0.9172 - f1_m: 0.9161 - precision_m: 0.9236 - recall_m: 0.9111 - dice_coef: 0.6447 - val_loss: 0.3568 - val_acc: 0.8070 - val_f1_m: 0.7866 - val_precision_m: 0.8074 - val_recall_m: 0.7745 - val_dice_coef: 0.5481\n",
            "Epoch 3/20\n",
            "48/48 [==============================] - 43s 898ms/step - loss: 0.1906 - acc: 0.9264 - f1_m: 0.9250 - precision_m: 0.9350 - recall_m: 0.9172 - dice_coef: 0.6597 - val_loss: 0.2247 - val_acc: 0.9020 - val_f1_m: 0.8936 - val_precision_m: 0.8950 - val_recall_m: 0.8956 - val_dice_coef: 0.6010\n",
            "Epoch 4/20\n",
            "48/48 [==============================] - 43s 896ms/step - loss: 0.1687 - acc: 0.9352 - f1_m: 0.9340 - precision_m: 0.9392 - recall_m: 0.9310 - dice_coef: 0.6723 - val_loss: 0.1924 - val_acc: 0.9201 - val_f1_m: 0.9119 - val_precision_m: 0.9262 - val_recall_m: 0.9001 - val_dice_coef: 0.6149\n",
            "Epoch 5/20\n",
            "48/48 [==============================] - 43s 901ms/step - loss: 0.1703 - acc: 0.9339 - f1_m: 0.9328 - precision_m: 0.9408 - recall_m: 0.9267 - dice_coef: 0.6746 - val_loss: 0.1675 - val_acc: 0.9357 - val_f1_m: 0.9279 - val_precision_m: 0.9584 - val_recall_m: 0.9003 - val_dice_coef: 0.6311\n",
            "Epoch 6/20\n",
            "48/48 [==============================] - 43s 899ms/step - loss: 0.1620 - acc: 0.9381 - f1_m: 0.9373 - precision_m: 0.9401 - recall_m: 0.9364 - dice_coef: 0.6811 - val_loss: 0.1635 - val_acc: 0.9360 - val_f1_m: 0.9289 - val_precision_m: 0.9497 - val_recall_m: 0.9099 - val_dice_coef: 0.6351\n",
            "Epoch 7/20\n",
            "48/48 [==============================] - 43s 897ms/step - loss: 0.1568 - acc: 0.9403 - f1_m: 0.9395 - precision_m: 0.9405 - recall_m: 0.9400 - dice_coef: 0.6854 - val_loss: 0.1431 - val_acc: 0.9455 - val_f1_m: 0.9395 - val_precision_m: 0.9546 - val_recall_m: 0.9255 - val_dice_coef: 0.6469\n",
            "Epoch 8/20\n",
            "48/48 [==============================] - 43s 899ms/step - loss: 0.1528 - acc: 0.9404 - f1_m: 0.9395 - precision_m: 0.9438 - recall_m: 0.9368 - dice_coef: 0.6876 - val_loss: 0.1572 - val_acc: 0.9376 - val_f1_m: 0.9329 - val_precision_m: 0.9272 - val_recall_m: 0.9396 - val_dice_coef: 0.6423\n",
            "Epoch 9/20\n",
            "48/48 [==============================] - 43s 899ms/step - loss: 0.1517 - acc: 0.9424 - f1_m: 0.9421 - precision_m: 0.9486 - recall_m: 0.9369 - dice_coef: 0.6884 - val_loss: 0.1521 - val_acc: 0.9373 - val_f1_m: 0.9297 - val_precision_m: 0.9554 - val_recall_m: 0.9061 - val_dice_coef: 0.6435\n",
            "Epoch 10/20\n",
            "48/48 [==============================] - 43s 901ms/step - loss: 0.1409 - acc: 0.9461 - f1_m: 0.9456 - precision_m: 0.9483 - recall_m: 0.9440 - dice_coef: 0.6941 - val_loss: 0.1442 - val_acc: 0.9406 - val_f1_m: 0.9343 - val_precision_m: 0.9506 - val_recall_m: 0.9196 - val_dice_coef: 0.6415\n",
            "Epoch 11/20\n",
            "48/48 [==============================] - 43s 897ms/step - loss: 0.1429 - acc: 0.9450 - f1_m: 0.9443 - precision_m: 0.9497 - recall_m: 0.9400 - dice_coef: 0.6936 - val_loss: 0.1921 - val_acc: 0.9256 - val_f1_m: 0.9137 - val_precision_m: 0.9714 - val_recall_m: 0.8636 - val_dice_coef: 0.5828\n",
            "Epoch 12/20\n",
            "48/48 [==============================] - 43s 898ms/step - loss: 0.1378 - acc: 0.9478 - f1_m: 0.9475 - precision_m: 0.9516 - recall_m: 0.9442 - dice_coef: 0.6977 - val_loss: 0.1339 - val_acc: 0.9487 - val_f1_m: 0.9426 - val_precision_m: 0.9630 - val_recall_m: 0.9236 - val_dice_coef: 0.6466\n",
            "Epoch 13/20\n",
            "48/48 [==============================] - 43s 900ms/step - loss: 0.1328 - acc: 0.9487 - f1_m: 0.9478 - precision_m: 0.9504 - recall_m: 0.9466 - dice_coef: 0.7004 - val_loss: 0.1390 - val_acc: 0.9446 - val_f1_m: 0.9397 - val_precision_m: 0.9400 - val_recall_m: 0.9398 - val_dice_coef: 0.6569\n",
            "Epoch 14/20\n",
            "48/48 [==============================] - 43s 894ms/step - loss: 0.1295 - acc: 0.9499 - f1_m: 0.9495 - precision_m: 0.9526 - recall_m: 0.9474 - dice_coef: 0.7018 - val_loss: 0.1282 - val_acc: 0.9499 - val_f1_m: 0.9456 - val_precision_m: 0.9465 - val_recall_m: 0.9452 - val_dice_coef: 0.6630\n",
            "Epoch 15/20\n",
            "48/48 [==============================] - 43s 899ms/step - loss: 0.1307 - acc: 0.9498 - f1_m: 0.9493 - precision_m: 0.9532 - recall_m: 0.9468 - dice_coef: 0.7025 - val_loss: 0.1354 - val_acc: 0.9455 - val_f1_m: 0.9396 - val_precision_m: 0.9521 - val_recall_m: 0.9278 - val_dice_coef: 0.6633\n",
            "Epoch 16/20\n",
            "48/48 [==============================] - 43s 895ms/step - loss: 0.1238 - acc: 0.9529 - f1_m: 0.9524 - precision_m: 0.9581 - recall_m: 0.9474 - dice_coef: 0.7063 - val_loss: 0.1256 - val_acc: 0.9514 - val_f1_m: 0.9462 - val_precision_m: 0.9592 - val_recall_m: 0.9341 - val_dice_coef: 0.6596\n",
            "Epoch 17/20\n",
            "48/48 [==============================] - 43s 900ms/step - loss: 0.1218 - acc: 0.9535 - f1_m: 0.9528 - precision_m: 0.9538 - recall_m: 0.9529 - dice_coef: 0.7076 - val_loss: 0.1266 - val_acc: 0.9487 - val_f1_m: 0.9447 - val_precision_m: 0.9354 - val_recall_m: 0.9545 - val_dice_coef: 0.6667\n",
            "Epoch 18/20\n",
            "48/48 [==============================] - 43s 898ms/step - loss: 0.1284 - acc: 0.9510 - f1_m: 0.9505 - precision_m: 0.9535 - recall_m: 0.9486 - dice_coef: 0.7048 - val_loss: 0.1313 - val_acc: 0.9468 - val_f1_m: 0.9406 - val_precision_m: 0.9612 - val_recall_m: 0.9215 - val_dice_coef: 0.6499\n",
            "Epoch 19/20\n",
            "48/48 [==============================] - 43s 900ms/step - loss: 0.1233 - acc: 0.9523 - f1_m: 0.9518 - precision_m: 0.9580 - recall_m: 0.9464 - dice_coef: 0.7070 - val_loss: 0.1953 - val_acc: 0.9206 - val_f1_m: 0.9128 - val_precision_m: 0.9172 - val_recall_m: 0.9099 - val_dice_coef: 0.6350\n",
            "Epoch 20/20\n",
            "48/48 [==============================] - 43s 898ms/step - loss: 0.1175 - acc: 0.9548 - f1_m: 0.9545 - precision_m: 0.9578 - recall_m: 0.9518 - dice_coef: 0.7113 - val_loss: 0.1181 - val_acc: 0.9526 - val_f1_m: 0.9479 - val_precision_m: 0.9576 - val_recall_m: 0.9388 - val_dice_coef: 0.6607\n",
            "Done in 870.3 seconds\n"
          ],
          "name": "stdout"
        }
      ]
    },
    {
      "cell_type": "markdown",
      "metadata": {
        "id": "pKz79N80rG3z"
      },
      "source": [
        "# Tuning of number of filters"
      ]
    },
    {
      "cell_type": "markdown",
      "metadata": {
        "id": "tr-fGv34Zi_r"
      },
      "source": [
        "###A. Plotting the variation of dice coefficient and f1 score for 100 epochs to find the epoch at which best performance is observed for 64 filters"
      ]
    },
    {
      "cell_type": "code",
      "metadata": {
        "id": "jESGkieIVs6R",
        "colab": {
          "base_uri": "https://localhost:8080/",
          "height": 513
        },
        "outputId": "4fc756cc-534f-4896-a690-39c0fe32d3cb"
      },
      "source": [
        "plt.figure(figsize=(8, 8))\n",
        "plt.title(\"Learning curve for dice_coeff with 64 filters\")\n",
        "plt.plot(results.history[\"dice_coef\"], label=\"dice_coef\")\n",
        "plt.plot(results.history[\"val_dice_coef\"], label=\"val_dice_coef\")\n",
        "plt.xlabel(\"Epochs\")\n",
        "plt.ylabel(\"dice_coef\")\n",
        "plt.legend();"
      ],
      "execution_count": null,
      "outputs": [
        {
          "output_type": "display_data",
          "data": {
            "image/png": "[encoded data removed]",
            "text/plain": [
              "<Figure size 576x576 with 1 Axes>"
            ]
          },
          "metadata": {
            "tags": [],
            "needs_background": "light"
          }
        }
      ]
    },
    {
      "cell_type": "code",
      "metadata": {
        "id": "zGhiBjW3cH97",
        "colab": {
          "base_uri": "https://localhost:8080/",
          "height": 513
        },
        "outputId": "0265a986-bf64-4c6e-df16-598f8991c229"
      },
      "source": [
        "plt.figure(figsize=(8, 8))\n",
        "plt.title(\"Learning curve for f1 with 64 filters\")\n",
        "plt.plot(results.history[\"f1_m\"], label=\"f1_m\")\n",
        "plt.plot(results.history[\"val_f1_m\"], label=\"val_f1_m\")\n",
        "plt.xlabel(\"Epochs\")\n",
        "plt.ylabel(\"f1\")\n",
        "plt.legend();"
      ],
      "execution_count": null,
      "outputs": [
        {
          "output_type": "display_data",
          "data": {
            "image/png": "[encoded data removed]",
            "text/plain": [
              "<Figure size 576x576 with 1 Axes>"
            ]
          },
          "metadata": {
            "tags": [],
            "needs_background": "light"
          }
        }
      ]
    },
    {
      "cell_type": "markdown",
      "metadata": {
        "id": "mE3rcawTyb6o"
      },
      "source": [
        "- After training our model, we observe that the validation data generalises the training data well at 20 epochs with batch size 50 for 64 filters. We continue using the same settings in our model on the whole training data. \n",
        "- After 20 epochs we can observe that the validation dice_coefficient shows overfitting.\n"
      ]
    },
    {
      "cell_type": "markdown",
      "metadata": {
        "id": "XsrQddJiop1p"
      },
      "source": [
        "### B.Plotting the variation of dice coefficient and f1 score for 100 epochs to find the epoch at which best performance is observed for 8 filters"
      ]
    },
    {
      "cell_type": "code",
      "metadata": {
        "id": "aHFdHzszozni",
        "colab": {
          "base_uri": "https://localhost:8080/",
          "height": 1000
        },
        "outputId": "8134cbc4-1e50-4d02-e464-7263a76ed0e6"
      },
      "source": [
        "input_img = Input(shape=(128,128,4))\n",
        "model8 = get_unet(input_img, n_filters = 8, dropout = 0, batchnorm = True, n_classes = 1)\n",
        "\n",
        "# compile the model\n",
        "model8.compile(optimizer=tf.keras.optimizers.Adam(\n",
        "    learning_rate=0.0001, beta_1=0.9, beta_2=0.999, epsilon=1e-07, amsgrad=False,\n",
        "    name='Adamax'), loss='binary_crossentropy', metrics=['acc',f1_m,precision_m, recall_m,dice_coef])\n",
        "\n",
        "import time\n",
        "tic = time.time()\n",
        "results = model8.fit(X_train_centered, y_train, batch_size=50, epochs=20,validation_data=(X_valid_centered, y_valid))\n",
        "loss, accuracy, f1_score, precision, recall,dice_coef = model8.evaluate(X_valid_centered, y_valid, verbose=0)\n",
        "\n",
        "toc = time.time()\n",
        "\n",
        "print(f\"Done in {(toc - tic):.1f} seconds\")\n",
        "\n",
        "plt.figure(figsize=(8, 8))\n",
        "plt.title(\"Learning curve for f1\")\n",
        "plt.plot(results.history[\"f1_m\"], label=\"f1_m\")\n",
        "plt.plot(results.history[\"val_f1_m\"], label=\"val_f1_m\")\n",
        "plt.plot( np.argmin(results.history[\"val_f1_m\"]), np.min(results.history[\"val_f1_m\"]), marker=\"x\", color=\"g\", label=\"best model\")\n",
        "plt.xlabel(\"Epochs\")\n",
        "plt.ylabel(\"dice_coef\")\n",
        "plt.legend();\n",
        "\n"
      ],
      "execution_count": null,
      "outputs": [
        {
          "output_type": "stream",
          "text": [
            "Epoch 1/20\n",
            " 2/48 [>.............................] - ETA: 2s - loss: 0.7763 - acc: 0.5045 - f1_m: 0.5816 - precision_m: 0.4715 - recall_m: 0.7665 - dice_coef: 0.4288WARNING:tensorflow:Callbacks method `on_train_batch_end` is slow compared to the batch time (batch time: 0.0241s vs `on_train_batch_end` time: 0.0623s). Check your callbacks.\n",
            "48/48 [==============================] - 5s 105ms/step - loss: 0.6883 - acc: 0.6058 - f1_m: 0.6716 - precision_m: 0.5798 - recall_m: 0.8061 - dice_coef: 0.4669 - val_loss: 0.6995 - val_acc: 0.5650 - val_f1_m: 0.6476 - val_precision_m: 0.5170 - val_recall_m: 0.8693 - val_dice_coef: 0.4367\n",
            "Epoch 2/20\n",
            "48/48 [==============================] - 5s 95ms/step - loss: 0.5693 - acc: 0.7496 - f1_m: 0.7622 - precision_m: 0.7254 - recall_m: 0.8091 - dice_coef: 0.4926 - val_loss: 0.6091 - val_acc: 0.7285 - val_f1_m: 0.7410 - val_precision_m: 0.6642 - val_recall_m: 0.8416 - val_dice_coef: 0.4612\n",
            "Epoch 3/20\n",
            "48/48 [==============================] - 5s 96ms/step - loss: 0.4964 - acc: 0.7971 - f1_m: 0.7979 - precision_m: 0.7921 - recall_m: 0.8074 - dice_coef: 0.5106 - val_loss: 0.5391 - val_acc: 0.7862 - val_f1_m: 0.7904 - val_precision_m: 0.7262 - val_recall_m: 0.8707 - val_dice_coef: 0.4728\n",
            "Epoch 4/20\n",
            "48/48 [==============================] - 5s 96ms/step - loss: 0.4484 - acc: 0.8229 - f1_m: 0.8198 - precision_m: 0.8269 - recall_m: 0.8165 - dice_coef: 0.5241 - val_loss: 0.4695 - val_acc: 0.8261 - val_f1_m: 0.8143 - val_precision_m: 0.8026 - val_recall_m: 0.8276 - val_dice_coef: 0.4683\n",
            "Epoch 5/20\n",
            "48/48 [==============================] - 5s 95ms/step - loss: 0.4044 - acc: 0.8519 - f1_m: 0.8488 - precision_m: 0.8629 - recall_m: 0.8387 - dice_coef: 0.5369 - val_loss: 0.3986 - val_acc: 0.8623 - val_f1_m: 0.8415 - val_precision_m: 0.8936 - val_recall_m: 0.7963 - val_dice_coef: 0.4783\n",
            "Epoch 6/20\n",
            "48/48 [==============================] - 5s 95ms/step - loss: 0.3678 - acc: 0.8771 - f1_m: 0.8745 - precision_m: 0.8886 - recall_m: 0.8635 - dice_coef: 0.5501 - val_loss: 0.3537 - val_acc: 0.8751 - val_f1_m: 0.8527 - val_precision_m: 0.9286 - val_recall_m: 0.7894 - val_dice_coef: 0.4850\n",
            "Epoch 7/20\n",
            "48/48 [==============================] - 5s 95ms/step - loss: 0.3446 - acc: 0.8887 - f1_m: 0.8868 - precision_m: 0.8994 - recall_m: 0.8773 - dice_coef: 0.5601 - val_loss: 0.3200 - val_acc: 0.8944 - val_f1_m: 0.8820 - val_precision_m: 0.9067 - val_recall_m: 0.8595 - val_dice_coef: 0.5156\n",
            "Epoch 8/20\n",
            "48/48 [==============================] - 4s 94ms/step - loss: 0.3233 - acc: 0.8992 - f1_m: 0.8972 - precision_m: 0.9107 - recall_m: 0.8871 - dice_coef: 0.5671 - val_loss: 0.3023 - val_acc: 0.9062 - val_f1_m: 0.8953 - val_precision_m: 0.9180 - val_recall_m: 0.8746 - val_dice_coef: 0.5231\n",
            "Epoch 9/20\n",
            "48/48 [==============================] - 4s 93ms/step - loss: 0.3135 - acc: 0.9032 - f1_m: 0.9019 - precision_m: 0.9116 - recall_m: 0.8953 - dice_coef: 0.5736 - val_loss: 0.2930 - val_acc: 0.9107 - val_f1_m: 0.9014 - val_precision_m: 0.9152 - val_recall_m: 0.8885 - val_dice_coef: 0.5325\n",
            "Epoch 10/20\n",
            "48/48 [==============================] - 4s 92ms/step - loss: 0.3001 - acc: 0.9088 - f1_m: 0.9075 - precision_m: 0.9200 - recall_m: 0.8970 - dice_coef: 0.5782 - val_loss: 0.2841 - val_acc: 0.9146 - val_f1_m: 0.9068 - val_precision_m: 0.9095 - val_recall_m: 0.9048 - val_dice_coef: 0.5380\n",
            "Epoch 11/20\n",
            "48/48 [==============================] - 4s 93ms/step - loss: 0.3030 - acc: 0.9033 - f1_m: 0.9012 - precision_m: 0.9081 - recall_m: 0.8986 - dice_coef: 0.5801 - val_loss: 0.2778 - val_acc: 0.9165 - val_f1_m: 0.9091 - val_precision_m: 0.9085 - val_recall_m: 0.9107 - val_dice_coef: 0.5496\n",
            "Epoch 12/20\n",
            "48/48 [==============================] - 4s 92ms/step - loss: 0.2919 - acc: 0.9091 - f1_m: 0.9072 - precision_m: 0.9212 - recall_m: 0.8951 - dice_coef: 0.5824 - val_loss: 0.2688 - val_acc: 0.9136 - val_f1_m: 0.9038 - val_precision_m: 0.9226 - val_recall_m: 0.8875 - val_dice_coef: 0.5388\n",
            "Epoch 13/20\n",
            "48/48 [==============================] - 4s 93ms/step - loss: 0.2816 - acc: 0.9132 - f1_m: 0.9114 - precision_m: 0.9215 - recall_m: 0.9045 - dice_coef: 0.5885 - val_loss: 0.2662 - val_acc: 0.9211 - val_f1_m: 0.9117 - val_precision_m: 0.9362 - val_recall_m: 0.8892 - val_dice_coef: 0.5390\n",
            "Epoch 14/20\n",
            "48/48 [==============================] - 4s 92ms/step - loss: 0.2727 - acc: 0.9170 - f1_m: 0.9157 - precision_m: 0.9219 - recall_m: 0.9119 - dice_coef: 0.5930 - val_loss: 0.2595 - val_acc: 0.9197 - val_f1_m: 0.9108 - val_precision_m: 0.9316 - val_recall_m: 0.8914 - val_dice_coef: 0.5447\n",
            "Epoch 15/20\n",
            "48/48 [==============================] - 4s 92ms/step - loss: 0.2701 - acc: 0.9156 - f1_m: 0.9140 - precision_m: 0.9277 - recall_m: 0.9027 - dice_coef: 0.5937 - val_loss: 0.2506 - val_acc: 0.9216 - val_f1_m: 0.9128 - val_precision_m: 0.9331 - val_recall_m: 0.8939 - val_dice_coef: 0.5472\n",
            "Epoch 16/20\n",
            "48/48 [==============================] - 4s 93ms/step - loss: 0.2599 - acc: 0.9207 - f1_m: 0.9194 - precision_m: 0.9282 - recall_m: 0.9129 - dice_coef: 0.5994 - val_loss: 0.2356 - val_acc: 0.9271 - val_f1_m: 0.9184 - val_precision_m: 0.9418 - val_recall_m: 0.8970 - val_dice_coef: 0.5503\n",
            "Epoch 17/20\n",
            "48/48 [==============================] - 4s 92ms/step - loss: 0.2548 - acc: 0.9214 - f1_m: 0.9202 - precision_m: 0.9281 - recall_m: 0.9145 - dice_coef: 0.6019 - val_loss: 0.2534 - val_acc: 0.9110 - val_f1_m: 0.8988 - val_precision_m: 0.9412 - val_recall_m: 0.8608 - val_dice_coef: 0.5433\n",
            "Epoch 18/20\n",
            "48/48 [==============================] - 4s 93ms/step - loss: 0.2548 - acc: 0.9207 - f1_m: 0.9194 - precision_m: 0.9285 - recall_m: 0.9125 - dice_coef: 0.6030 - val_loss: 0.2341 - val_acc: 0.9257 - val_f1_m: 0.9174 - val_precision_m: 0.9348 - val_recall_m: 0.9015 - val_dice_coef: 0.5561\n",
            "Epoch 19/20\n",
            "48/48 [==============================] - 5s 94ms/step - loss: 0.2496 - acc: 0.9204 - f1_m: 0.9190 - precision_m: 0.9290 - recall_m: 0.9116 - dice_coef: 0.6054 - val_loss: 0.2364 - val_acc: 0.9314 - val_f1_m: 0.9258 - val_precision_m: 0.9203 - val_recall_m: 0.9318 - val_dice_coef: 0.5638\n",
            "Epoch 20/20\n",
            "48/48 [==============================] - 4s 94ms/step - loss: 0.2416 - acc: 0.9247 - f1_m: 0.9233 - precision_m: 0.9308 - recall_m: 0.9177 - dice_coef: 0.6098 - val_loss: 0.2372 - val_acc: 0.9289 - val_f1_m: 0.9229 - val_precision_m: 0.9188 - val_recall_m: 0.9274 - val_dice_coef: 0.5659\n",
            "Done in 96.5 seconds\n"
          ],
          "name": "stdout"
        },
        {
          "output_type": "display_data",
          "data": {
            "image/png": "[encoded data removed]",
            "text/plain": [
              "<Figure size 576x576 with 1 Axes>"
            ]
          },
          "metadata": {
            "tags": [],
            "needs_background": "light"
          }
        }
      ]
    },
    {
      "cell_type": "markdown",
      "metadata": {
        "id": "E79j-lZmpV_6"
      },
      "source": [
        "C.Plotting the variation of dice coefficient and f1 score for 100 epochs to find the epoch at which best performance is observed for 16 filters"
      ]
    },
    {
      "cell_type": "code",
      "metadata": {
        "id": "eXonwNqApU79",
        "colab": {
          "base_uri": "https://localhost:8080/",
          "height": 1000
        },
        "outputId": "6597aeeb-feee-4443-c0b9-6a7eec4a0519"
      },
      "source": [
        "input_img = Input(shape=(128,128,4))\n",
        "model16 = get_unet(input_img, n_filters = 16, dropout = 0, batchnorm = True, n_classes = 1)\n",
        "\n",
        "# compile the model\n",
        "model16.compile(optimizer=tf.keras.optimizers.Adam(\n",
        "    learning_rate=0.0001, beta_1=0.9, beta_2=0.999, epsilon=1e-07, amsgrad=False,\n",
        "    name='Adamax'), loss='binary_crossentropy', metrics=['acc',f1_m,precision_m, recall_m,dice_coef])\n",
        "\n",
        "import time\n",
        "tic = time.time()\n",
        "results = model16.fit(X_train_centered, y_train, batch_size=50, epochs=20,validation_data=(X_valid_centered, y_valid))\n",
        "loss, accuracy, f1_score, precision, recall,dice_coef = model16.evaluate(X_valid_centered, y_valid, verbose=0)\n",
        "\n",
        "toc = time.time()\n",
        "\n",
        "print(f\"Done in {(toc - tic):.1f} seconds\")\n",
        "\n",
        "plt.figure(figsize=(8, 8))\n",
        "plt.title(\"Learning curve for f1\")\n",
        "plt.plot(results.history[\"f1_m\"], label=\"f1_m\")\n",
        "plt.plot(results.history[\"val_f1_m\"], label=\"val_f1_m\")\n",
        "plt.plot( np.argmin(results.history[\"val_f1_m\"]), np.min(results.history[\"val_f1_m\"]), marker=\"x\", color=\"g\", label=\"best model\")\n",
        "plt.xlabel(\"Epochs\")\n",
        "plt.ylabel(\"f1_m\")\n",
        "plt.legend();\n",
        "\n"
      ],
      "execution_count": null,
      "outputs": [
        {
          "output_type": "stream",
          "text": [
            "Epoch 1/20\n",
            " 2/48 [>.............................] - ETA: 3s - loss: 0.7550 - acc: 0.5401 - f1_m: 0.6499 - precision_m: 0.5573 - recall_m: 0.7818 - dice_coef: 0.4866WARNING:tensorflow:Callbacks method `on_train_batch_end` is slow compared to the batch time (batch time: 0.0190s vs `on_train_batch_end` time: 0.1363s). Check your callbacks.\n",
            "48/48 [==============================] - ETA: 0s - loss: 0.6182 - acc: 0.6747 - f1_m: 0.7321 - precision_m: 0.6276 - recall_m: 0.8852 - dice_coef: 0.4907WARNING:tensorflow:Callbacks method `on_test_batch_end` is slow compared to the batch time (batch time: 0.0178s vs `on_test_batch_end` time: 0.0318s). Check your callbacks.\n",
            "48/48 [==============================] - 9s 181ms/step - loss: 0.6182 - acc: 0.6747 - f1_m: 0.7321 - precision_m: 0.6276 - recall_m: 0.8852 - dice_coef: 0.4907 - val_loss: 0.5923 - val_acc: 0.7187 - val_f1_m: 0.7034 - val_precision_m: 0.6892 - val_recall_m: 0.7243 - val_dice_coef: 0.4250\n",
            "Epoch 2/20\n",
            "48/48 [==============================] - 8s 167ms/step - loss: 0.4229 - acc: 0.8374 - f1_m: 0.8483 - precision_m: 0.7939 - recall_m: 0.9158 - dice_coef: 0.5447 - val_loss: 0.4775 - val_acc: 0.7937 - val_f1_m: 0.7668 - val_precision_m: 0.8013 - val_recall_m: 0.7385 - val_dice_coef: 0.4590\n",
            "Epoch 3/20\n",
            "48/48 [==============================] - 8s 169ms/step - loss: 0.3298 - acc: 0.8885 - f1_m: 0.8899 - precision_m: 0.8739 - recall_m: 0.9097 - dice_coef: 0.5740 - val_loss: 0.4225 - val_acc: 0.8104 - val_f1_m: 0.7907 - val_precision_m: 0.8056 - val_recall_m: 0.7793 - val_dice_coef: 0.4962\n",
            "Epoch 4/20\n",
            "48/48 [==============================] - 8s 169ms/step - loss: 0.2831 - acc: 0.9100 - f1_m: 0.9097 - precision_m: 0.9064 - recall_m: 0.9148 - dice_coef: 0.5921 - val_loss: 0.3487 - val_acc: 0.8677 - val_f1_m: 0.8597 - val_precision_m: 0.8427 - val_recall_m: 0.8785 - val_dice_coef: 0.5328\n",
            "Epoch 5/20\n",
            "48/48 [==============================] - 8s 166ms/step - loss: 0.2706 - acc: 0.9115 - f1_m: 0.9109 - precision_m: 0.9059 - recall_m: 0.9187 - dice_coef: 0.6019 - val_loss: 0.2828 - val_acc: 0.9053 - val_f1_m: 0.9007 - val_precision_m: 0.8722 - val_recall_m: 0.9329 - val_dice_coef: 0.5603\n",
            "Epoch 6/20\n",
            "48/48 [==============================] - 8s 165ms/step - loss: 0.2505 - acc: 0.9195 - f1_m: 0.9188 - precision_m: 0.9233 - recall_m: 0.9166 - dice_coef: 0.6075 - val_loss: 0.2725 - val_acc: 0.9044 - val_f1_m: 0.9005 - val_precision_m: 0.8667 - val_recall_m: 0.9387 - val_dice_coef: 0.5743\n",
            "Epoch 7/20\n",
            "48/48 [==============================] - 8s 164ms/step - loss: 0.2337 - acc: 0.9267 - f1_m: 0.9260 - precision_m: 0.9297 - recall_m: 0.9237 - dice_coef: 0.6165 - val_loss: 0.2320 - val_acc: 0.9217 - val_f1_m: 0.9158 - val_precision_m: 0.9094 - val_recall_m: 0.9239 - val_dice_coef: 0.5758\n",
            "Epoch 8/20\n",
            "48/48 [==============================] - 8s 163ms/step - loss: 0.2214 - acc: 0.9309 - f1_m: 0.9307 - precision_m: 0.9329 - recall_m: 0.9292 - dice_coef: 0.6238 - val_loss: 0.2047 - val_acc: 0.9384 - val_f1_m: 0.9332 - val_precision_m: 0.9339 - val_recall_m: 0.9333 - val_dice_coef: 0.5808\n",
            "Epoch 9/20\n",
            "48/48 [==============================] - 8s 163ms/step - loss: 0.2204 - acc: 0.9282 - f1_m: 0.9278 - precision_m: 0.9290 - recall_m: 0.9288 - dice_coef: 0.6272 - val_loss: 0.2270 - val_acc: 0.9285 - val_f1_m: 0.9245 - val_precision_m: 0.8990 - val_recall_m: 0.9518 - val_dice_coef: 0.5855\n",
            "Epoch 10/20\n",
            "48/48 [==============================] - 8s 163ms/step - loss: 0.2134 - acc: 0.9311 - f1_m: 0.9303 - precision_m: 0.9365 - recall_m: 0.9262 - dice_coef: 0.6293 - val_loss: 0.1850 - val_acc: 0.9362 - val_f1_m: 0.9295 - val_precision_m: 0.9418 - val_recall_m: 0.9180 - val_dice_coef: 0.5852\n",
            "Epoch 11/20\n",
            "48/48 [==============================] - 8s 164ms/step - loss: 0.2056 - acc: 0.9333 - f1_m: 0.9323 - precision_m: 0.9380 - recall_m: 0.9281 - dice_coef: 0.6347 - val_loss: 0.2043 - val_acc: 0.9226 - val_f1_m: 0.9089 - val_precision_m: 0.9768 - val_recall_m: 0.8507 - val_dice_coef: 0.5549\n",
            "Epoch 12/20\n",
            "48/48 [==============================] - 8s 164ms/step - loss: 0.1985 - acc: 0.9355 - f1_m: 0.9346 - precision_m: 0.9391 - recall_m: 0.9313 - dice_coef: 0.6389 - val_loss: 0.1976 - val_acc: 0.9373 - val_f1_m: 0.9313 - val_precision_m: 0.9371 - val_recall_m: 0.9261 - val_dice_coef: 0.5906\n",
            "Epoch 13/20\n",
            "48/48 [==============================] - 8s 165ms/step - loss: 0.2012 - acc: 0.9326 - f1_m: 0.9315 - precision_m: 0.9326 - recall_m: 0.9326 - dice_coef: 0.6418 - val_loss: 0.1713 - val_acc: 0.9418 - val_f1_m: 0.9355 - val_precision_m: 0.9510 - val_recall_m: 0.9209 - val_dice_coef: 0.5928\n",
            "Epoch 14/20\n",
            "48/48 [==============================] - 8s 165ms/step - loss: 0.1966 - acc: 0.9339 - f1_m: 0.9330 - precision_m: 0.9402 - recall_m: 0.9281 - dice_coef: 0.6407 - val_loss: 0.1807 - val_acc: 0.9400 - val_f1_m: 0.9343 - val_precision_m: 0.9384 - val_recall_m: 0.9305 - val_dice_coef: 0.5983\n",
            "Epoch 15/20\n",
            "48/48 [==============================] - 8s 165ms/step - loss: 0.1901 - acc: 0.9362 - f1_m: 0.9354 - precision_m: 0.9438 - recall_m: 0.9290 - dice_coef: 0.6448 - val_loss: 0.1652 - val_acc: 0.9405 - val_f1_m: 0.9325 - val_precision_m: 0.9661 - val_recall_m: 0.9017 - val_dice_coef: 0.5897\n",
            "Epoch 16/20\n",
            "48/48 [==============================] - 8s 165ms/step - loss: 0.1811 - acc: 0.9399 - f1_m: 0.9393 - precision_m: 0.9412 - recall_m: 0.9386 - dice_coef: 0.6511 - val_loss: 0.1618 - val_acc: 0.9476 - val_f1_m: 0.9427 - val_precision_m: 0.9461 - val_recall_m: 0.9396 - val_dice_coef: 0.6035\n",
            "Epoch 17/20\n",
            "48/48 [==============================] - 8s 165ms/step - loss: 0.1809 - acc: 0.9387 - f1_m: 0.9378 - precision_m: 0.9395 - recall_m: 0.9378 - dice_coef: 0.6532 - val_loss: 0.1785 - val_acc: 0.9418 - val_f1_m: 0.9372 - val_precision_m: 0.9291 - val_recall_m: 0.9457 - val_dice_coef: 0.6002\n",
            "Epoch 18/20\n",
            "48/48 [==============================] - 8s 165ms/step - loss: 0.1745 - acc: 0.9415 - f1_m: 0.9409 - precision_m: 0.9472 - recall_m: 0.9357 - dice_coef: 0.6545 - val_loss: 0.1669 - val_acc: 0.9394 - val_f1_m: 0.9325 - val_precision_m: 0.9489 - val_recall_m: 0.9172 - val_dice_coef: 0.5950\n",
            "Epoch 19/20\n",
            "48/48 [==============================] - 8s 164ms/step - loss: 0.1760 - acc: 0.9402 - f1_m: 0.9397 - precision_m: 0.9426 - recall_m: 0.9383 - dice_coef: 0.6572 - val_loss: 0.1723 - val_acc: 0.9386 - val_f1_m: 0.9329 - val_precision_m: 0.9376 - val_recall_m: 0.9290 - val_dice_coef: 0.6062\n",
            "Epoch 20/20\n",
            "48/48 [==============================] - 8s 165ms/step - loss: 0.1672 - acc: 0.9434 - f1_m: 0.9428 - precision_m: 0.9476 - recall_m: 0.9395 - dice_coef: 0.6606 - val_loss: 0.1577 - val_acc: 0.9461 - val_f1_m: 0.9413 - val_precision_m: 0.9421 - val_recall_m: 0.9407 - val_dice_coef: 0.6104\n",
            "Done in 165.7 seconds\n"
          ],
          "name": "stdout"
        },
        {
          "output_type": "display_data",
          "data": {
            "image/png": "[encoded data removed]",
            "text/plain": [
              "<Figure size 576x576 with 1 Axes>"
            ]
          },
          "metadata": {
            "tags": [],
            "needs_background": "light"
          }
        }
      ]
    },
    {
      "cell_type": "markdown",
      "metadata": {
        "id": "kKgnTarmnMaX"
      },
      "source": [
        "### 4. Train the final model on whole training data and then make the predictions on the test data\n",
        "\n",
        "- Standardised the whole X_data before fitting the model"
      ]
    },
    {
      "cell_type": "code",
      "metadata": {
        "id": "UKAL0ni2Gokq",
        "colab": {
          "base_uri": "https://localhost:8080/",
          "height": 34
        },
        "outputId": "5ea9d1cf-ab55-4778-fcad-dfd8f3e752d8"
      },
      "source": [
        "mean_vals = np.mean(X_data, axis=0)\n",
        "std_val = np.std(X_data)\n",
        "\n",
        "X_data_centered = (X_data - mean_vals)/std_val\n",
        "\n",
        "print(X_data_centered.shape)"
      ],
      "execution_count": null,
      "outputs": [
        {
          "output_type": "stream",
          "text": [
            "(3000, 128, 128, 4)\n"
          ],
          "name": "stdout"
        }
      ]
    },
    {
      "cell_type": "code",
      "metadata": {
        "id": "9VXf3vGR-oJT",
        "colab": {
          "base_uri": "https://localhost:8080/",
          "height": 34
        },
        "outputId": "529aea06-e6f0-432d-b12a-5d416a7ac007"
      },
      "source": [
        "model.fit(X_data_centered, y_data, epochs=20, verbose=0, batch_size=50)"
      ],
      "execution_count": null,
      "outputs": [
        {
          "output_type": "execute_result",
          "data": {
            "text/plain": [
              "<tensorflow.python.keras.callbacks.History at 0x7f4a4011dfd0>"
            ]
          },
          "metadata": {
            "tags": []
          },
          "execution_count": 35
        }
      ]
    },
    {
      "cell_type": "code",
      "metadata": {
        "id": "2xV4NWsyApLi",
        "colab": {
          "base_uri": "https://localhost:8080/",
          "height": 123
        },
        "outputId": "a45390d9-8f9d-4619-a671-a1797e5e910b"
      },
      "source": [
        "model.evaluate(X_data_centered, y_data, verbose=0)"
      ],
      "execution_count": null,
      "outputs": [
        {
          "output_type": "execute_result",
          "data": {
            "text/plain": [
              "[0.09390587359666824,\n",
              " 0.9629580974578857,\n",
              " 0.9611641764640808,\n",
              " 0.9696094989776611,\n",
              " 0.9530960917472839,\n",
              " 0.7130821943283081]"
            ]
          },
          "metadata": {
            "tags": []
          },
          "execution_count": 36
        }
      ]
    },
    {
      "cell_type": "code",
      "metadata": {
        "id": "6VuskN0SdS2a"
      },
      "source": [
        "y_pred = model.predict(X_test_centered)"
      ],
      "execution_count": null,
      "outputs": []
    },
    {
      "cell_type": "code",
      "metadata": {
        "id": "xVase3KBujUq",
        "colab": {
          "base_uri": "https://localhost:8080/",
          "height": 34
        },
        "outputId": "caa2d59e-793f-4184-b9aa-8ef255978734"
      },
      "source": [
        "y_pred.shape"
      ],
      "execution_count": null,
      "outputs": [
        {
          "output_type": "execute_result",
          "data": {
            "text/plain": [
              "(500, 128, 128, 1)"
            ]
          },
          "metadata": {
            "tags": []
          },
          "execution_count": 26
        }
      ]
    },
    {
      "cell_type": "markdown",
      "metadata": {
        "id": "Jf1d1Vf3okdv"
      },
      "source": [
        "### 4.1 Flatten the predected y data and map it to True and false , where True stands for cloud and False for not a cloud , covert it to csv and upload to kaggle "
      ]
    },
    {
      "cell_type": "code",
      "metadata": {
        "id": "LH5G40GQgLQT"
      },
      "source": [
        "y_pred2=np.where(y_pred[:,:,:,] >= 0.5, 'True', 'False')\n",
        "y_pred2=y_pred2.flatten()"
      ],
      "execution_count": null,
      "outputs": []
    },
    {
      "cell_type": "code",
      "metadata": {
        "id": "BSGFRGqBvyW7"
      },
      "source": [
        "solution = pd.DataFrame(columns = ['Predicted'], data = y_pred2)\n",
        "solution.to_csv('predict23.csv', index_label=\"ID\")\n",
        "!kaggle competitions submit -c dat300-h2020-ca2 -f predict23.csv.csv -m \"Message\""
      ],
      "execution_count": null,
      "outputs": []
    },
    {
      "cell_type": "markdown",
      "metadata": {
        "id": "sVOpPWUUxOR4"
      },
      "source": [
        "### CONCLUSION: The implementation of model using basic unet with sigmoid activation fuction 64 filters gave a goood f1 score .\n",
        "\n",
        "- Running the model in the orion cluster reduced the time taken to run 20 epochs from  771.1 seconds in google collab using GPU to Done in 295.1 seconds seconds which was obtained from the log for the job"
      ]
    },
    {
      "cell_type": "markdown",
      "metadata": {
        "id": "R8yOpZtuwLEw"
      },
      "source": [
        "Submitting predictions from orion to kaggle"
      ]
    },
    {
      "cell_type": "code",
      "metadata": {
        "id": "KixLXsyOuB2o"
      },
      "source": [
        "!kaggle competitions submit -c dat300-h2020-ca2 -f  predict2.csv -m \"result generated on orion cluster\""
      ],
      "execution_count": null,
      "outputs": []
    },
    {
      "cell_type": "markdown",
      "metadata": {
        "id": "YwXT0WjWMJkn"
      },
      "source": [
        "## Changes made for resubmission\n",
        "\n",
        "#### 1. Why did we use Dice Coefficient and Jaccard Index ?\n",
        "\n",
        "    ans: In order to find if segmentation task is performing well\n",
        "\n",
        "- Dice Coefficient is 2 * the Area of Overlap divided by the total number of pixels in both images. they both range from 0 to 1, with 1 signifying the greatest similarity between predicted and truth.\n",
        "\n",
        "- Jaccard Index : We use IoU (Intersection-Over-Union also known as Jaccard Index)is the area of overlap between the predicted segmentation and the ground truth divided by the area of union between the predicted segmentation and the ground truth.This metric ranges from 0–1 (0–100%) with 0 signifying no overlap and 1 signifying perfectly overlapping segmentation.\n",
        " reffered from :https://towardsdatascience.com/metrics-to-evaluate-your-semantic-segmentation-model-6bcb99639aa2\n",
        "\n"
      ]
    },
    {
      "cell_type": "markdown",
      "metadata": {
        "id": "Rwm_uAc5c1JY"
      },
      "source": [
        "#### 2. You have briefly descriped your strategy for parameter tuning, but not provided which parameters you actually tried (dropout rates, which number of epochs) or given scores (values for loss, accuracy, f1-score etc.) that guided you to your final decission\n",
        "\n",
        "- Added the plot for dice_coeff vs number of epochs and f1 score vs number of epochs for different filters\n",
        "- Also added comments on results usinf different learing rates, batch sizes and dropout , optimiser and loss metrics."
      ]
    },
    {
      "cell_type": "markdown",
      "metadata": {
        "id": "Y5wJpukfdGT7"
      },
      "source": [
        "#### 3. I can find neither of the strategy or the scores for the tuning of number of filters.\n",
        "\n",
        "#### 4. You have not provided the log-file from the Orion session."
      ]
    },
    {
      "cell_type": "code",
      "metadata": {
        "id": "zzZi0hf9MNbE"
      },
      "source": [
        ""
      ],
      "execution_count": null,
      "outputs": []
    }
  ]
}