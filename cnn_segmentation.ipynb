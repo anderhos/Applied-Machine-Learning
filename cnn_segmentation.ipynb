{
  "nbformat": 4,
  "nbformat_minor": 0,
  "metadata": {
    "colab": {
      "name": "cnn_segmentation.ipynb",
      "provenance": [],
      "collapsed_sections": [],
      "include_colab_link": true
    },
    "kernelspec": {
      "display_name": "Python 3",
      "name": "python3"
    },
    "accelerator": "GPU"
  },
  "cells": [
    {
      "cell_type": "markdown",
      "metadata": {
        "id": "view-in-github",
        "colab_type": "text"
      },
      "source": [
        "<a href=\"https://colab.research.google.com/github/anderhos/Applied-Machine-Learning/blob/master/cnn_segmentation.ipynb\" target=\"_parent\"><img src=\"https://colab.research.google.com/assets/colab-badge.svg\" alt=\"Open In Colab\"/></a>"
      ]
    },
    {
      "cell_type": "markdown",
      "metadata": {
        "id": "jGGCbwN6xfRe"
      },
      "source": [
        "## CA2 - DAT300 - Compulsory Assignment 2\n",
        " - Kaggle name : Group_2\n",
        " - Group number : Group 2 \n",
        " - Members : Anders Mølmen Høst , Ghazal Azadi ,Meera Joseph\n",
        "\n",
        "## Cloud segmentation on satellite images"
      ]
    },
    {
      "cell_type": "code",
      "metadata": {
        "id": "xl3sWYbqb_Dm"
      },
      "source": [
        "from google.colab import drive\n",
        "drive.mount('/content/drive')"
      ],
      "execution_count": null,
      "outputs": []
    },
    {
      "cell_type": "code",
      "metadata": {
        "id": "dvYZ5iXPcTfA",
        "colab": {
          "base_uri": "https://localhost:8080/",
          "height": 34
        },
        "outputId": "1a6d26d0-17e1-44b8-8d51-ad1b2237788e"
      },
      "source": [
        "from googleapiclient.discovery import build\n",
        "import io, os\n",
        "from googleapiclient.http import MediaIoBaseDownload\n",
        "from google.colab import auth\n",
        "auth.authenticate_user()\n",
        "drive_service = build('drive', 'v3')\n",
        "results = drive_service.files().list(\n",
        "        q=\"name = 'kaggle.json'\", fields=\"files(id)\").execute()\n",
        "kaggle_api_key = results.get('files', [])\n",
        "filename = \"/.kaggle/kaggle.json\"\n",
        "os.makedirs(os.path.dirname(filename), exist_ok=True)\n",
        "request = drive_service.files().get_media(fileId=kaggle_api_key[0]['id'])\n",
        "fh = io.FileIO(filename, 'wb')\n",
        "downloader = MediaIoBaseDownload(fh, request)\n",
        "done = False\n",
        "while done is False:\n",
        "    status, done = downloader.next_chunk()\n",
        "    print(\"Download %d%%.\" % int(status.progress() * 100))\n",
        "os.chmod(filename, 600)"
      ],
      "execution_count": null,
      "outputs": [
        {
          "output_type": "stream",
          "text": [
            "Download 100%.\n"
          ],
          "name": "stdout"
        }
      ]
    },
    {
      "cell_type": "code",
      "metadata": {
        "id": "pV8Pg2jAcl8s",
        "colab": {
          "base_uri": "https://localhost:8080/",
          "height": 51
        },
        "outputId": "a32a10af-61d4-4f0e-c1d0-351c52bb3035"
      },
      "source": [
        " # Check existence of file\n",
        "!ls /.kaggle\n",
        "!cat /.kaggle/kaggle.json"
      ],
      "execution_count": null,
      "outputs": [
        {
          "output_type": "stream",
          "text": [
            "kaggle.json\n",
            "{\"username\":\"ghazalazadi\",\"key\":\"0db2f005a4621c275acdc5c675021e52\"}"
          ],
          "name": "stdout"
        }
      ]
    },
    {
      "cell_type": "code",
      "metadata": {
        "id": "hCImMEnFcoL1"
      },
      "source": [
        " # Notice the difference in path names with/without ~\n",
        "!mkdir -p ~/.kaggle\n",
        "!cp /.kaggle/kaggle.json ~/.kaggle/"
      ],
      "execution_count": null,
      "outputs": []
    },
    {
      "cell_type": "code",
      "metadata": {
        "id": "7Pf8PqLecqq0",
        "colab": {
          "base_uri": "https://localhost:8080/",
          "height": 221
        },
        "outputId": "c28d9ac5-1be9-41b1-9227-2cbeb9e0fdd8"
      },
      "source": [
        " # Install Python part of kaggle\n",
        "!pip install kaggle"
      ],
      "execution_count": null,
      "outputs": [
        {
          "output_type": "stream",
          "text": [
            "Requirement already satisfied: kaggle in /usr/local/lib/python3.6/dist-packages (1.5.9)\n",
            "Requirement already satisfied: six>=1.10 in /usr/local/lib/python3.6/dist-packages (from kaggle) (1.15.0)\n",
            "Requirement already satisfied: tqdm in /usr/local/lib/python3.6/dist-packages (from kaggle) (4.41.1)\n",
            "Requirement already satisfied: urllib3 in /usr/local/lib/python3.6/dist-packages (from kaggle) (1.24.3)\n",
            "Requirement already satisfied: requests in /usr/local/lib/python3.6/dist-packages (from kaggle) (2.23.0)\n",
            "Requirement already satisfied: slugify in /usr/local/lib/python3.6/dist-packages (from kaggle) (0.0.1)\n",
            "Requirement already satisfied: certifi in /usr/local/lib/python3.6/dist-packages (from kaggle) (2020.6.20)\n",
            "Requirement already satisfied: python-slugify in /usr/local/lib/python3.6/dist-packages (from kaggle) (4.0.1)\n",
            "Requirement already satisfied: python-dateutil in /usr/local/lib/python3.6/dist-packages (from kaggle) (2.8.1)\n",
            "Requirement already satisfied: chardet<4,>=3.0.2 in /usr/local/lib/python3.6/dist-packages (from requests->kaggle) (3.0.4)\n",
            "Requirement already satisfied: idna<3,>=2.5 in /usr/local/lib/python3.6/dist-packages (from requests->kaggle) (2.10)\n",
            "Requirement already satisfied: text-unidecode>=1.3 in /usr/local/lib/python3.6/dist-packages (from python-slugify->kaggle) (1.3)\n"
          ],
          "name": "stdout"
        }
      ]
    },
    {
      "cell_type": "code",
      "metadata": {
        "id": "mScTF_70cvQm",
        "colab": {
          "base_uri": "https://localhost:8080/",
          "height": 85
        },
        "outputId": "a77c6f2d-23df-4980-d6f6-1cd10a9eac91"
      },
      "source": [
        "!kaggle competitions download -c dat300-h2020-ca2"
      ],
      "execution_count": null,
      "outputs": [
        {
          "output_type": "stream",
          "text": [
            "Warning: Looks like you're using an outdated API Version, please consider updating (server 1.5.9 / client 1.5.4)\n",
            "train.h5.zip: Skipping, found more recently modified local copy (use --force to force download)\n",
            "test.h5.zip: Skipping, found more recently modified local copy (use --force to force download)\n",
            "sample_submission.csv.zip: Skipping, found more recently modified local copy (use --force to force download)\n"
          ],
          "name": "stdout"
        }
      ]
    },
    {
      "cell_type": "code",
      "metadata": {
        "id": "vMyn5iSJeigc",
        "colab": {
          "base_uri": "https://localhost:8080/",
          "height": 80
        },
        "outputId": "12dd62b3-a67b-4115-dce3-41c9262fa34e"
      },
      "source": [
        "!unzip /content/test.h5.zip -d /content/"
      ],
      "execution_count": null,
      "outputs": [
        {
          "output_type": "stream",
          "text": [
            "Archive:  /content/test.h5.zip\n",
            "replace /content/test.h5? [y]es, [n]o, [A]ll, [N]one, [r]ename: "
          ],
          "name": "stdout"
        }
      ]
    },
    {
      "cell_type": "code",
      "metadata": {
        "id": "o2ttd-wBmlLH"
      },
      "source": [
        "!unzip /content/train.h5.zip -d /content/"
      ],
      "execution_count": null,
      "outputs": []
    },
    {
      "cell_type": "markdown",
      "metadata": {
        "id": "uuhSUOcKkzFd"
      },
      "source": [
        "### Load modules"
      ]
    },
    {
      "cell_type": "code",
      "metadata": {
        "id": "VeqsB929mtqo"
      },
      "source": [
        "import tensorflow as tf\n",
        "from PIL.Image import fromarray\n",
        "import matplotlib.pyplot as plt\n",
        "\n",
        "from tensorflow.keras.models import Sequential\n",
        "from tensorflow.keras.layers import Dense, Conv2D, MaxPooling2D, Flatten, Dropout, BatchNormalization, Conv2DTranspose\n",
        "from tensorflow.keras import layers\n",
        "from tensorflow.keras import activations\n",
        "import h5py\n",
        "import numpy as np\n",
        "\n",
        "from keras import backend as K\n",
        "from numpy import concatenate\n",
        "\n",
        "from tensorflow.keras.layers import Input, Conv2D, BatchNormalization, Activation, MaxPooling2D, Dropout, Conv2DTranspose, concatenate\n",
        "from tensorflow.keras.models import Model\n"
      ],
      "execution_count": null,
      "outputs": []
    },
    {
      "cell_type": "markdown",
      "metadata": {
        "id": "FRUfqVqB7im5"
      },
      "source": [
        "###1. Get data from the HDF5 file:"
      ]
    },
    {
      "cell_type": "code",
      "metadata": {
        "id": "9m-nCyDhmwSl",
        "colab": {
          "base_uri": "https://localhost:8080/",
          "height": 34
        },
        "outputId": "ce959d87-31b0-49bb-d271-b0d08f4adb81"
      },
      "source": [
        "with h5py.File('/content/train.h5', 'r') as hf:\n",
        "    print(hf.keys())"
      ],
      "execution_count": null,
      "outputs": [
        {
          "output_type": "stream",
          "text": [
            "<KeysViewHDF5 ['X', 'y']>\n"
          ],
          "name": "stdout"
        }
      ]
    },
    {
      "cell_type": "code",
      "metadata": {
        "id": "HEkPO6wum_xa"
      },
      "source": [
        "with h5py.File('train.h5', 'r') as hf:\n",
        "    X_data = hf['X'][:]\n",
        "    y_data = hf['y'][:]"
      ],
      "execution_count": null,
      "outputs": []
    },
    {
      "cell_type": "code",
      "metadata": {
        "id": "YvsNx0SOnBbG"
      },
      "source": [
        "with h5py.File('test.h5', 'r') as hf:\n",
        "    X_test = hf['X'][:]"
      ],
      "execution_count": null,
      "outputs": []
    },
    {
      "cell_type": "code",
      "metadata": {
        "id": "CK9-rSClf8bn",
        "colab": {
          "base_uri": "https://localhost:8080/",
          "height": 34
        },
        "outputId": "6187b0b9-02f6-4bff-a817-5ba70ab30622"
      },
      "source": [
        "X_data.shape"
      ],
      "execution_count": null,
      "outputs": [
        {
          "output_type": "execute_result",
          "data": {
            "text/plain": [
              "(3000, 128, 128, 4)"
            ]
          },
          "metadata": {
            "tags": []
          },
          "execution_count": 13
        }
      ]
    },
    {
      "cell_type": "markdown",
      "metadata": {
        "id": "bX5uCuCB7qFx"
      },
      "source": [
        "### 2. Preprocessing"
      ]
    },
    {
      "cell_type": "markdown",
      "metadata": {
        "id": "RId7WfBy7y7m"
      },
      "source": [
        "Plotting the first 9 images and \n",
        "corresponding masks"
      ]
    },
    {
      "cell_type": "code",
      "metadata": {
        "id": "egbTFTyJBtg7"
      },
      "source": [
        "def plot_img(X):\n",
        "  # We need our date normalized and in floating point representation\n",
        "  # to be able to plot our data using imshow\n",
        "  X = X.astype('float32')\n",
        "  X = X/np.max(X)\n",
        "  for i in range(0, 9):\n",
        "      plt.subplot(330 + 1 + i)\n",
        "      plt.imshow(X[i,:,:,:-1])\n",
        "  return plt.show()\n",
        "\n",
        "\n",
        "\n",
        "\n",
        "\n",
        "\n",
        "\n",
        "\n",
        "\n",
        "  "
      ],
      "execution_count": null,
      "outputs": []
    },
    {
      "cell_type": "code",
      "metadata": {
        "id": "JxLzZ4XBBvTT",
        "colab": {
          "base_uri": "https://localhost:8080/",
          "height": 269
        },
        "outputId": "422ab1b0-4a56-4302-e0e8-a8bc6dd8c699"
      },
      "source": [
        "plot_img(X_data)"
      ],
      "execution_count": null,
      "outputs": [
        {
          "output_type": "display_data",
          "data": {
            "image/png": "[encoded data removed]",
            "text/plain": [
              "<Figure size 432x288 with 9 Axes>"
            ]
          },
          "metadata": {
            "tags": [],
            "needs_background": "light"
          }
        }
      ]
    },
    {
      "cell_type": "code",
      "metadata": {
        "id": "cydoNCItgD8K",
        "colab": {
          "base_uri": "https://localhost:8080/",
          "height": 1000
        },
        "outputId": "86ecf755-499d-4d93-a301-13b236af0e0e"
      },
      "source": [
        "y_data"
      ],
      "execution_count": null,
      "outputs": [
        {
          "output_type": "execute_result",
          "data": {
            "text/plain": [
              "array([[[[0.00392157],\n",
              "         [0.00392157],\n",
              "         [0.00392157],\n",
              "         ...,\n",
              "         [0.00392157],\n",
              "         [0.00392157],\n",
              "         [0.00392157]],\n",
              "\n",
              "        [[0.00392157],\n",
              "         [0.00392157],\n",
              "         [0.00392157],\n",
              "         ...,\n",
              "         [0.00392157],\n",
              "         [0.00392157],\n",
              "         [0.00392157]],\n",
              "\n",
              "        [[0.00392157],\n",
              "         [0.00392157],\n",
              "         [0.00392157],\n",
              "         ...,\n",
              "         [0.00392157],\n",
              "         [0.00392157],\n",
              "         [0.00392157]],\n",
              "\n",
              "        ...,\n",
              "\n",
              "        [[0.00392157],\n",
              "         [0.00392157],\n",
              "         [0.00392157],\n",
              "         ...,\n",
              "         [0.00392157],\n",
              "         [0.00392157],\n",
              "         [0.00392157]],\n",
              "\n",
              "        [[0.00392157],\n",
              "         [0.00392157],\n",
              "         [0.00392157],\n",
              "         ...,\n",
              "         [0.00392157],\n",
              "         [0.00392157],\n",
              "         [0.00392157]],\n",
              "\n",
              "        [[0.00392157],\n",
              "         [0.00392157],\n",
              "         [0.00392157],\n",
              "         ...,\n",
              "         [0.00392157],\n",
              "         [0.00392157],\n",
              "         [0.00392157]]],\n",
              "\n",
              "\n",
              "       [[[0.00392157],\n",
              "         [0.00392157],\n",
              "         [0.00392157],\n",
              "         ...,\n",
              "         [0.00392157],\n",
              "         [0.00392157],\n",
              "         [0.00392157]],\n",
              "\n",
              "        [[0.00392157],\n",
              "         [0.00392157],\n",
              "         [0.00392157],\n",
              "         ...,\n",
              "         [0.00392157],\n",
              "         [0.00392157],\n",
              "         [0.00392157]],\n",
              "\n",
              "        [[0.00392157],\n",
              "         [0.00392157],\n",
              "         [0.00392157],\n",
              "         ...,\n",
              "         [0.00392157],\n",
              "         [0.00392157],\n",
              "         [0.00392157]],\n",
              "\n",
              "        ...,\n",
              "\n",
              "        [[0.00392157],\n",
              "         [0.00392157],\n",
              "         [0.00392157],\n",
              "         ...,\n",
              "         [0.00392157],\n",
              "         [0.00392157],\n",
              "         [0.00392157]],\n",
              "\n",
              "        [[0.00392157],\n",
              "         [0.00392157],\n",
              "         [0.00392157],\n",
              "         ...,\n",
              "         [0.00392157],\n",
              "         [0.00392157],\n",
              "         [0.00392157]],\n",
              "\n",
              "        [[0.00392157],\n",
              "         [0.00392157],\n",
              "         [0.00392157],\n",
              "         ...,\n",
              "         [0.00392157],\n",
              "         [0.00392157],\n",
              "         [0.00392157]]],\n",
              "\n",
              "\n",
              "       [[[0.00392157],\n",
              "         [0.00392157],\n",
              "         [0.00392157],\n",
              "         ...,\n",
              "         [0.00392157],\n",
              "         [0.00392157],\n",
              "         [0.00392157]],\n",
              "\n",
              "        [[0.00392157],\n",
              "         [0.00392157],\n",
              "         [0.00392157],\n",
              "         ...,\n",
              "         [0.00392157],\n",
              "         [0.00392157],\n",
              "         [0.00392157]],\n",
              "\n",
              "        [[0.00392157],\n",
              "         [0.00392157],\n",
              "         [0.00392157],\n",
              "         ...,\n",
              "         [0.00392157],\n",
              "         [0.00392157],\n",
              "         [0.00392157]],\n",
              "\n",
              "        ...,\n",
              "\n",
              "        [[0.00392157],\n",
              "         [0.00392157],\n",
              "         [0.00392157],\n",
              "         ...,\n",
              "         [0.00392157],\n",
              "         [0.00392157],\n",
              "         [0.00392157]],\n",
              "\n",
              "        [[0.00392157],\n",
              "         [0.00392157],\n",
              "         [0.00392157],\n",
              "         ...,\n",
              "         [0.00392157],\n",
              "         [0.00392157],\n",
              "         [0.00392157]],\n",
              "\n",
              "        [[0.00392157],\n",
              "         [0.00392157],\n",
              "         [0.00392157],\n",
              "         ...,\n",
              "         [0.00392157],\n",
              "         [0.00392157],\n",
              "         [0.00392157]]],\n",
              "\n",
              "\n",
              "       ...,\n",
              "\n",
              "\n",
              "       [[[0.00392157],\n",
              "         [0.00392157],\n",
              "         [0.00392157],\n",
              "         ...,\n",
              "         [0.00392157],\n",
              "         [0.00392157],\n",
              "         [0.00392157]],\n",
              "\n",
              "        [[0.00392157],\n",
              "         [0.00392157],\n",
              "         [0.00392157],\n",
              "         ...,\n",
              "         [0.00392157],\n",
              "         [0.00392157],\n",
              "         [0.00392157]],\n",
              "\n",
              "        [[0.00392157],\n",
              "         [0.00392157],\n",
              "         [0.00392157],\n",
              "         ...,\n",
              "         [0.00392157],\n",
              "         [0.00392157],\n",
              "         [0.00392157]],\n",
              "\n",
              "        ...,\n",
              "\n",
              "        [[0.00392157],\n",
              "         [0.00392157],\n",
              "         [0.00392157],\n",
              "         ...,\n",
              "         [0.00392157],\n",
              "         [0.00392157],\n",
              "         [0.00392157]],\n",
              "\n",
              "        [[0.00392157],\n",
              "         [0.00392157],\n",
              "         [0.00392157],\n",
              "         ...,\n",
              "         [0.00392157],\n",
              "         [0.00392157],\n",
              "         [0.00392157]],\n",
              "\n",
              "        [[0.00392157],\n",
              "         [0.00392157],\n",
              "         [0.00392157],\n",
              "         ...,\n",
              "         [0.00392157],\n",
              "         [0.00392157],\n",
              "         [0.00392157]]],\n",
              "\n",
              "\n",
              "       [[[0.        ],\n",
              "         [0.        ],\n",
              "         [0.        ],\n",
              "         ...,\n",
              "         [0.        ],\n",
              "         [0.        ],\n",
              "         [0.        ]],\n",
              "\n",
              "        [[0.        ],\n",
              "         [0.        ],\n",
              "         [0.        ],\n",
              "         ...,\n",
              "         [0.        ],\n",
              "         [0.        ],\n",
              "         [0.        ]],\n",
              "\n",
              "        [[0.        ],\n",
              "         [0.        ],\n",
              "         [0.        ],\n",
              "         ...,\n",
              "         [0.        ],\n",
              "         [0.        ],\n",
              "         [0.        ]],\n",
              "\n",
              "        ...,\n",
              "\n",
              "        [[0.        ],\n",
              "         [0.        ],\n",
              "         [0.        ],\n",
              "         ...,\n",
              "         [0.        ],\n",
              "         [0.        ],\n",
              "         [0.        ]],\n",
              "\n",
              "        [[0.        ],\n",
              "         [0.        ],\n",
              "         [0.        ],\n",
              "         ...,\n",
              "         [0.        ],\n",
              "         [0.        ],\n",
              "         [0.        ]],\n",
              "\n",
              "        [[0.        ],\n",
              "         [0.        ],\n",
              "         [0.        ],\n",
              "         ...,\n",
              "         [0.        ],\n",
              "         [0.        ],\n",
              "         [0.        ]]],\n",
              "\n",
              "\n",
              "       [[[0.        ],\n",
              "         [0.        ],\n",
              "         [0.        ],\n",
              "         ...,\n",
              "         [0.        ],\n",
              "         [0.        ],\n",
              "         [0.        ]],\n",
              "\n",
              "        [[0.        ],\n",
              "         [0.        ],\n",
              "         [0.        ],\n",
              "         ...,\n",
              "         [0.        ],\n",
              "         [0.        ],\n",
              "         [0.        ]],\n",
              "\n",
              "        [[0.        ],\n",
              "         [0.        ],\n",
              "         [0.        ],\n",
              "         ...,\n",
              "         [0.        ],\n",
              "         [0.        ],\n",
              "         [0.        ]],\n",
              "\n",
              "        ...,\n",
              "\n",
              "        [[0.        ],\n",
              "         [0.        ],\n",
              "         [0.        ],\n",
              "         ...,\n",
              "         [0.        ],\n",
              "         [0.        ],\n",
              "         [0.        ]],\n",
              "\n",
              "        [[0.        ],\n",
              "         [0.        ],\n",
              "         [0.        ],\n",
              "         ...,\n",
              "         [0.        ],\n",
              "         [0.        ],\n",
              "         [0.        ]],\n",
              "\n",
              "        [[0.        ],\n",
              "         [0.        ],\n",
              "         [0.        ],\n",
              "         ...,\n",
              "         [0.        ],\n",
              "         [0.        ],\n",
              "         [0.        ]]]])"
            ]
          },
          "metadata": {
            "tags": []
          },
          "execution_count": 22
        }
      ]
    },
    {
      "cell_type": "code",
      "metadata": {
        "id": "Ucj4gGD6Bww8"
      },
      "source": [
        "y_data = y_data/255"
      ],
      "execution_count": null,
      "outputs": []
    },
    {
      "cell_type": "code",
      "metadata": {
        "id": "QayYpElFB0n8"
      },
      "source": [
        "def plot_mask(y):\n",
        "  for i in range(0, 9):\n",
        "      plt.subplot(330 + 1 + i)\n",
        "      plt.imshow(y_data[i,:,:,0])\n",
        "  return plt.show"
      ],
      "execution_count": null,
      "outputs": []
    },
    {
      "cell_type": "code",
      "metadata": {
        "id": "li0RpGjlB14j",
        "colab": {
          "base_uri": "https://localhost:8080/",
          "height": 286
        },
        "outputId": "16ea5cb7-fc7e-4248-8363-7cce39e4ed1c"
      },
      "source": [
        "plot_mask(y_data)"
      ],
      "execution_count": null,
      "outputs": [
        {
          "output_type": "execute_result",
          "data": {
            "text/plain": [
              "<function matplotlib.pyplot.show>"
            ]
          },
          "metadata": {
            "tags": []
          },
          "execution_count": 22
        },
        {
          "output_type": "display_data",
          "data": {
            "image/png": "[encoded data removed]",
            "text/plain": [
              "<Figure size 432x288 with 9 Axes>"
            ]
          },
          "metadata": {
            "tags": [],
            "needs_background": "light"
          }
        }
      ]
    },
    {
      "cell_type": "code",
      "metadata": {
        "id": "doCubLgEnHaq"
      },
      "source": [
        "# Partition and split into training and validation data\n",
        "X_train, y_train = X_data[:2400, :], y_data[:2400]\n",
        "X_valid, y_valid = X_data[2400:3000, :], y_data[2400:3000]"
      ],
      "execution_count": null,
      "outputs": []
    },
    {
      "cell_type": "code",
      "metadata": {
        "id": "jGu2QnMznJC-"
      },
      "source": [
        "# Standardize data pixel wise\n",
        "\n",
        "mean_vals = np.mean(X_train, axis=0)\n",
        "std_val = np.std(X_train, axis=0)\n",
        "\n",
        "X_train_centered = (X_train - mean_vals) / std_val\n",
        "X_valid_centered = (X_valid - mean_vals) / std_val\n",
        "X_test_centered = (X_test  - mean_vals) / std_val"
      ],
      "execution_count": null,
      "outputs": []
    },
    {
      "cell_type": "code",
      "metadata": {
        "id": "u_4UbpB2HhMO",
        "colab": {
          "base_uri": "https://localhost:8080/",
          "height": 34
        },
        "outputId": "3bf13386-ee81-48b5-bbc5-882d8676f674"
      },
      "source": [
        "X_train_centered.shape"
      ],
      "execution_count": null,
      "outputs": [
        {
          "output_type": "execute_result",
          "data": {
            "text/plain": [
              "(2400, 128, 128, 4)"
            ]
          },
          "metadata": {
            "tags": []
          },
          "execution_count": 25
        }
      ]
    },
    {
      "cell_type": "code",
      "metadata": {
        "id": "RdYz1dRXHjgi",
        "colab": {
          "base_uri": "https://localhost:8080/",
          "height": 34
        },
        "outputId": "644053bf-d306-426e-c02d-a72c0d7615b6"
      },
      "source": [
        "X_valid_centered.shape"
      ],
      "execution_count": null,
      "outputs": [
        {
          "output_type": "execute_result",
          "data": {
            "text/plain": [
              "(600, 128, 128, 4)"
            ]
          },
          "metadata": {
            "tags": []
          },
          "execution_count": 26
        }
      ]
    },
    {
      "cell_type": "code",
      "metadata": {
        "id": "-ElmQLvOemSL",
        "colab": {
          "base_uri": "https://localhost:8080/",
          "height": 34
        },
        "outputId": "567a2b08-a638-4801-c739-4319f5c51a7a"
      },
      "source": [
        "X_test_centered.shape"
      ],
      "execution_count": null,
      "outputs": [
        {
          "output_type": "execute_result",
          "data": {
            "text/plain": [
              "(500, 128, 128, 4)"
            ]
          },
          "metadata": {
            "tags": []
          },
          "execution_count": 27
        }
      ]
    },
    {
      "cell_type": "code",
      "metadata": {
        "id": "yTzPfqAkvmz3",
        "colab": {
          "base_uri": "https://localhost:8080/",
          "height": 34
        },
        "outputId": "372c4a26-e958-490b-d719-9a94457640e5"
      },
      "source": [
        "y_valid.shape"
      ],
      "execution_count": null,
      "outputs": [
        {
          "output_type": "execute_result",
          "data": {
            "text/plain": [
              "(600, 128, 128, 1)"
            ]
          },
          "metadata": {
            "tags": []
          },
          "execution_count": 28
        }
      ]
    },
    {
      "cell_type": "markdown",
      "metadata": {
        "id": "nNXUidTGlSiU"
      },
      "source": [
        "###TASK :\n",
        "##### Create a basic U-Net with optional dropout. Use a proportion of the images for validation when training. The minimum requirement is to tune the following parameters: number of convolutional filters, dropout and learning rate.  Report strategies and scores leading up to the final choice. If time permits, we recommend adding augmentation (both images and masks) and changing the loss function, e.g. implementing F1. More exotic networks and tuning is also allowed as long as you show that you know how to use U-Nets too."
      ]
    },
    {
      "cell_type": "markdown",
      "metadata": {
        "id": "x6mikgESlkYI"
      },
      "source": [
        "### 3. Unet model for image segmentation \n",
        "using sigmoid as the activation function "
      ]
    },
    {
      "cell_type": "code",
      "metadata": {
        "id": "CgSAzhhtnOQ6"
      },
      "source": [
        "\"\"\"\n",
        "Version of U-Net with dropout and size preservation (padding= 'same')\n",
        "\"\"\" \n",
        "def conv2d_block(input_tensor, n_filters, kernel_size = 3, batchnorm = True):\n",
        "    \"\"\"Function to add 2 convolutional layers with the parameters passed to it\"\"\"\n",
        "    # first layer\n",
        "    x = Conv2D(filters = n_filters, kernel_size = (kernel_size, kernel_size),\\\n",
        "              kernel_initializer = 'he_normal', padding = 'same')(input_tensor)\n",
        "    if batchnorm:\n",
        "        x = BatchNormalization()(x)\n",
        "    x = Activation('relu')(x)\n",
        "    \n",
        "    # second layer\n",
        "    x = Conv2D(filters = n_filters, kernel_size = (kernel_size, kernel_size),\\\n",
        "              kernel_initializer = 'he_normal', padding = 'same')(x)\n",
        "    if batchnorm:\n",
        "        x = BatchNormalization()(x)\n",
        "    x = Activation('relu')(x)\n",
        "    \n",
        "    return x\n",
        "\n",
        "\n",
        "def get_unet(input_img, n_filters = 16, dropout = 0.1, batchnorm = True, n_classes = 2):\n",
        "    # Contracting Path\n",
        "    c1 = conv2d_block(input_img, n_filters * 1, kernel_size = 3, batchnorm = batchnorm)\n",
        "    p1 = MaxPooling2D((2, 2))(c1)\n",
        "    p1 = Dropout(dropout)(p1)\n",
        "    \n",
        "    c2 = conv2d_block(p1, n_filters * 2, kernel_size = 3, batchnorm = batchnorm)\n",
        "    p2 = MaxPooling2D((2, 2))(c2)\n",
        "    p2 = Dropout(dropout)(p2)\n",
        "    \n",
        "    c3 = conv2d_block(p2, n_filters * 4, kernel_size = 3, batchnorm = batchnorm)\n",
        "    p3 = MaxPooling2D((2, 2))(c3)\n",
        "    p3 = Dropout(dropout)(p3)\n",
        "    \n",
        "    c4 = conv2d_block(p3, n_filters * 8, kernel_size = 3, batchnorm = batchnorm)\n",
        "    p4 = MaxPooling2D((2, 2))(c4)\n",
        "    p4 = Dropout(dropout)(p4)\n",
        "    \n",
        "    c5 = conv2d_block(p4, n_filters = n_filters * 16, kernel_size = 3, batchnorm = batchnorm)\n",
        "    \n",
        "    # Expansive Path\n",
        "    u6 = Conv2DTranspose(n_filters * 8, (3, 3), strides = (2, 2), padding = 'same')(c5)\n",
        "    u6 = concatenate([u6, c4])\n",
        "    u6 = Dropout(dropout)(u6)\n",
        "    c6 = conv2d_block(u6, n_filters * 8, kernel_size = 3, batchnorm = batchnorm)\n",
        "    \n",
        "    u7 = Conv2DTranspose(n_filters * 4, (3, 3), strides = (2, 2), padding = 'same')(c6)\n",
        "    u7 = concatenate([u7, c3])\n",
        "    u7 = Dropout(dropout)(u7)\n",
        "    c7 = conv2d_block(u7, n_filters * 4, kernel_size = 3, batchnorm = batchnorm)\n",
        "    \n",
        "    u8 = Conv2DTranspose(n_filters * 2, (3, 3), strides = (2, 2), padding = 'same')(c7)\n",
        "    u8 = concatenate([u8, c2])\n",
        "    u8 = Dropout(dropout)(u8)\n",
        "    c8 = conv2d_block(u8, n_filters * 2, kernel_size = 3, batchnorm = batchnorm)\n",
        "    \n",
        "    u9 = Conv2DTranspose(n_filters * 1, (3, 3), strides = (2, 2), padding = 'same')(c8)\n",
        "    u9 = concatenate([u9, c1])\n",
        "    u9 = Dropout(dropout)(u9)\n",
        "    c9 = conv2d_block(u9, n_filters * 1, kernel_size = 3, batchnorm = batchnorm)\n",
        "    \n",
        "    outputs = Conv2D(n_classes, (1, 1), activation='sigmoid')(c9)\n",
        "    model = Model(inputs=[input_img], outputs=[outputs])\n",
        "    return model"
      ],
      "execution_count": null,
      "outputs": []
    },
    {
      "cell_type": "markdown",
      "metadata": {
        "id": "yL46Tc61l0_r"
      },
      "source": [
        "#### 3.1 Code for F1, precision and recall for keras model"
      ]
    },
    {
      "cell_type": "code",
      "metadata": {
        "id": "v4FF_2L9pkUw"
      },
      "source": [
        "def recall_m(y_true, y_pred):\n",
        "    true_positives = tf.reduce_sum(K.round(K.clip(y_true * y_pred, 0, 1)))\n",
        "    possible_positives = K.sum(K.round(K.clip(y_true, 0, 1)))\n",
        "    recall = true_positives / (possible_positives + K.epsilon())\n",
        "    return recall\n",
        "def precision_m(y_true, y_pred):\n",
        "    true_positives = K.sum(K.round(K.clip(y_true * y_pred, 0, 1)))\n",
        "    predicted_positives = K.sum(K.round(K.clip(y_pred, 0, 1)))\n",
        "    precision = true_positives / (predicted_positives + K.epsilon())\n",
        "    return precision\n",
        "def f1_m(y_true, y_pred):\n",
        "    precision = precision_m(y_true, y_pred)\n",
        "    recall = recall_m(y_true, y_pred)\n",
        "    return 2*((precision*recall)/(precision+recall+K.epsilon()))\n",
        "\n",
        "def dice_coef(y_true, y_pred, smooth=1):\n",
        "  intersection = K.sum(y_true * y_pred, axis=[1,2,3])\n",
        "  union = K.sum(y_true, axis=[1,2,3]) + K.sum(y_pred, axis=[1,2,3])\n",
        "  dice = K.mean((2. * intersection + smooth)/(union + smooth), axis=0)\n",
        "  return dice\n",
        "from keras import backend as K\n",
        "\n",
        "smooth = 0.0000001\n",
        "\n",
        "\n",
        "def jacc_coef(y_true, y_pred):\n",
        "    y_true_f = K.flatten(y_true)\n",
        "    y_pred_f = K.flatten(y_pred)\n",
        "    intersection = K.sum(y_true_f * y_pred_f)\n",
        "    return 1 - ((intersection + smooth) / (K.sum(y_true_f) + K.sum(y_pred_f) - intersection + smooth))"
      ],
      "execution_count": null,
      "outputs": []
    },
    {
      "cell_type": "markdown",
      "metadata": {
        "id": "TXqUFLIgl74G"
      },
      "source": [
        "### 3.2 build the unet model with input image"
      ]
    },
    {
      "cell_type": "code",
      "metadata": {
        "id": "wyXU_2TApnoR"
      },
      "source": [
        "input_img = Input(shape=(128,128,4))\n",
        "model = get_unet(input_img, n_filters = 64, dropout = 0, batchnorm = True, n_classes = 1)\n",
        "#model.summary()"
      ],
      "execution_count": null,
      "outputs": []
    },
    {
      "cell_type": "markdown",
      "metadata": {
        "id": "Bz-hldwjyJK8"
      },
      "source": [
        "### 3.2.1 Inspect the model\n",
        "\n",
        "Use summary method to print a simple description of the model"
      ]
    },
    {
      "cell_type": "code",
      "metadata": {
        "id": "ykbFd2BTyQ3Y",
        "colab": {
          "base_uri": "https://localhost:8080/",
          "height": 34
        },
        "outputId": "b1e1c122-2f74-4338-e4af-d1da3d31d8e1"
      },
      "source": [
        "model.summary()"
      ],
      "execution_count": null,
      "outputs": [
        {
          "output_type": "execute_result",
          "data": {
            "text/plain": [
              "<bound method Model.summary of <tensorflow.python.keras.engine.functional.Functional object at 0x7f4a4017e080>>"
            ]
          },
          "metadata": {
            "tags": []
          },
          "execution_count": 32
        }
      ]
    },
    {
      "cell_type": "markdown",
      "metadata": {
        "id": "gMnAw_GcmE22"
      },
      "source": [
        "### 3.3 Compile the model and train the model on the training data , evaluate the model performance on the validation data set\n",
        "To save time in training, we start by training our model using 500 examples. We tune our parameters and get an idea of how our model performs. Then we continue with a split of 2400 training examples and 600 validation examples.\n",
        "\n",
        "What we observed here was that the learning rate can change the performance of the model significantly. And by test and error, seems like for this specific problem, learning rate of 0.0001 works well.\n",
        "\n",
        "- The model parameter learning rate was found and fixed through trial and error for the best performance\n",
        "- The batch size and number of epochs where also adjusted to optimise the results"
      ]
    },
    {
      "cell_type": "code",
      "metadata": {
        "id": "12SI8hgwXoEX"
      },
      "source": [
        "# compile the model\n",
        "model.compile(optimizer=tf.keras.optimizers.Adam(\n",
        "    learning_rate=0.0001, beta_1=0.9, beta_2=0.999, epsilon=1e-07, amsgrad=False,\n",
        "    name='Adamax'), loss='binary_crossentropy', metrics=['acc',f1_m,precision_m, recall_m,dice_coef])"
      ],
      "execution_count": null,
      "outputs": []
    },
    {
      "cell_type": "markdown",
      "metadata": {
        "id": "mE3rcawTyb6o"
      },
      "source": [
        "After training our model, we observe that the validation data generalises the training data well at 20 epochs with batch size 50. We continue using the same settings in our model on the whole training data."
      ]
    },
    {
      "cell_type": "markdown",
      "metadata": {
        "id": "kKgnTarmnMaX"
      },
      "source": [
        "### 4. Train the final model on whole training data and then make the predictions on the test data\n",
        "\n",
        "- Standardised the whole X_data befor fitting the model"
      ]
    },
    {
      "cell_type": "code",
      "metadata": {
        "id": "UKAL0ni2Gokq",
        "colab": {
          "base_uri": "https://localhost:8080/",
          "height": 34
        },
        "outputId": "5ea9d1cf-ab55-4778-fcad-dfd8f3e752d8"
      },
      "source": [
        "mean_vals = np.mean(X_data, axis=0)\n",
        "std_val = np.std(X_data)\n",
        "\n",
        "X_data_centered = (X_data - mean_vals)/std_val\n",
        "\n",
        "print(X_data_centered.shape)"
      ],
      "execution_count": null,
      "outputs": [
        {
          "output_type": "stream",
          "text": [
            "(3000, 128, 128, 4)\n"
          ],
          "name": "stdout"
        }
      ]
    },
    {
      "cell_type": "code",
      "metadata": {
        "id": "9VXf3vGR-oJT",
        "colab": {
          "base_uri": "https://localhost:8080/",
          "height": 34
        },
        "outputId": "529aea06-e6f0-432d-b12a-5d416a7ac007"
      },
      "source": [
        "model.fit(X_data_centered, y_data, epochs=20, verbose=0, batch_size=50)"
      ],
      "execution_count": null,
      "outputs": [
        {
          "output_type": "execute_result",
          "data": {
            "text/plain": [
              "<tensorflow.python.keras.callbacks.History at 0x7f4a4011dfd0>"
            ]
          },
          "metadata": {
            "tags": []
          },
          "execution_count": 35
        }
      ]
    },
    {
      "cell_type": "code",
      "metadata": {
        "id": "2xV4NWsyApLi",
        "colab": {
          "base_uri": "https://localhost:8080/",
          "height": 123
        },
        "outputId": "a45390d9-8f9d-4619-a671-a1797e5e910b"
      },
      "source": [
        "model.evaluate(X_data_centered, y_data, verbose=0)"
      ],
      "execution_count": null,
      "outputs": [
        {
          "output_type": "execute_result",
          "data": {
            "text/plain": [
              "[0.09390587359666824,\n",
              " 0.9629580974578857,\n",
              " 0.9611641764640808,\n",
              " 0.9696094989776611,\n",
              " 0.9530960917472839,\n",
              " 0.7130821943283081]"
            ]
          },
          "metadata": {
            "tags": []
          },
          "execution_count": 36
        }
      ]
    },
    {
      "cell_type": "code",
      "metadata": {
        "id": "6VuskN0SdS2a"
      },
      "source": [
        "y_pred = model.predict(X_test_centered)"
      ],
      "execution_count": null,
      "outputs": []
    },
    {
      "cell_type": "code",
      "metadata": {
        "id": "xVase3KBujUq",
        "colab": {
          "base_uri": "https://localhost:8080/",
          "height": 34
        },
        "outputId": "caa2d59e-793f-4184-b9aa-8ef255978734"
      },
      "source": [
        "y_pred.shape"
      ],
      "execution_count": null,
      "outputs": [
        {
          "output_type": "execute_result",
          "data": {
            "text/plain": [
              "(500, 128, 128, 1)"
            ]
          },
          "metadata": {
            "tags": []
          },
          "execution_count": 26
        }
      ]
    },
    {
      "cell_type": "markdown",
      "metadata": {
        "id": "Jf1d1Vf3okdv"
      },
      "source": [
        "### 4.1 Flatten the predected y data and map it to True and false , where True stands for cloud and False for not a cloud , covert it to csv and upload to kaggle "
      ]
    },
    {
      "cell_type": "code",
      "metadata": {
        "id": "LH5G40GQgLQT"
      },
      "source": [
        "y_pred2=np.where(y_pred[:,:,:,] >= 0.5, 'True', 'False')\n",
        "y_pred2=y_pred2.flatten()"
      ],
      "execution_count": null,
      "outputs": []
    },
    {
      "cell_type": "code",
      "metadata": {
        "id": "BSGFRGqBvyW7"
      },
      "source": [
        "solution = pd.DataFrame(columns = ['Predicted'], data = y_pred2)\n",
        "solution.to_csv('predict23.csv', index_label=\"ID\")\n",
        "!kaggle competitions submit -c dat300-h2020-ca2 -f predict23.csv.csv -m \"Message\""
      ],
      "execution_count": null,
      "outputs": []
    },
    {
      "cell_type": "code",
      "metadata": {
        "id": "RUOKYbFTf0Xi"
      },
      "source": [
        "import pandas as pd\n",
        "import numpy as np\n",
        "\n",
        "ID = np.arange(0,8192000)\n",
        "h = np.column_stack((ID,y_pred2))\n",
        "df2 = pd.DataFrame(data=h)\n",
        "\n",
        "df2.columns=['ID','Predicted']\n",
        "df2[\"ID\"]=df2[\"ID\"].astype(int)"
      ],
      "execution_count": null,
      "outputs": []
    },
    {
      "cell_type": "code",
      "metadata": {
        "id": "8sEe2IOym2X8"
      },
      "source": [
        "\n",
        "df2.to_csv(r'\\predict23.csv', index = False)"
      ],
      "execution_count": null,
      "outputs": []
    },
    {
      "cell_type": "markdown",
      "metadata": {
        "id": "sVOpPWUUxOR4"
      },
      "source": [
        "### CONCLUSION: The implementation of model using basic unet with sigmoid activation fuction and small adjustments in learning rates gave a goood f1 score .\n",
        "\n",
        "- Running the model in the orion cluster reduced the time taken to run 20 epochs from  771.1 seconds in google collab using GPU to Done in 295.1 seconds seconds which was obtained from the log for the job"
      ]
    },
    {
      "cell_type": "markdown",
      "metadata": {
        "id": "R8yOpZtuwLEw"
      },
      "source": [
        "Submitting predictions from orion to kaggle"
      ]
    },
    {
      "cell_type": "code",
      "metadata": {
        "id": "KixLXsyOuB2o"
      },
      "source": [
        "!kaggle competitions submit -c dat300-h2020-ca2 -f  predict2.csv -m \"result generated on orion cluster\""
      ],
      "execution_count": null,
      "outputs": []
    },
    {
      "cell_type": "markdown",
      "metadata": {
        "id": "YwXT0WjWMJkn"
      },
      "source": [
        "#### 1. Why did we use Dice Coefficient and Jaccard Index ?\n",
        "\n",
        "    ans: In order to find if segmentation task is performing well\n",
        "\n",
        "- Dice Coefficient is 2 * the Area of Overlap divided by the total number of pixels in both images. they both range from 0 to 1, with 1 signifying the greatest similarity between predicted and truth.\n",
        "\n",
        "- Jaccard Index : We use IoU (Intersection-Over-Union also known as Jaccard Index)is the area of overlap between the predicted segmentation and the ground truth divided by the area of union between the predicted segmentation and the ground truth.This metric ranges from 0–1 (0–100%) with 0 signifying no overlap and 1 signifying perfectly overlapping segmentation.\n",
        " reffered from :https://towardsdatascience.com/metrics-to-evaluate-your-semantic-segmentation-model-6bcb99639aa2\n",
        "\n"
      ]
    },
    {
      "cell_type": "code",
      "metadata": {
        "id": "zzZi0hf9MNbE"
      },
      "source": [
        ""
      ],
      "execution_count": null,
      "outputs": []
    }
  ]
}