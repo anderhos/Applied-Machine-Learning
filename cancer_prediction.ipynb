{
  "nbformat": 4,
  "nbformat_minor": 0,
  "metadata": {
    "accelerator": "GPU",
    "colab": {
      "name": "cancer_prediction.ipynb",
      "provenance": [],
      "collapsed_sections": [],
      "toc_visible": true,
      "include_colab_link": true
    },
    "kernelspec": {
      "display_name": "Python 3",
      "name": "python3"
    }
  },
  "cells": [
    {
      "cell_type": "markdown",
      "metadata": {
        "id": "view-in-github",
        "colab_type": "text"
      },
      "source": [
        "<a href=\"https://colab.research.google.com/github/anderhos/Applied-Machine-Learning/blob/master/cancer_prediction.ipynb\" target=\"_parent\"><img src=\"https://colab.research.google.com/assets/colab-badge.svg\" alt=\"Open In Colab\"/></a>"
      ]
    },
    {
      "cell_type": "markdown",
      "metadata": {
        "id": "ZRPBNwCnlHoq"
      },
      "source": [
        "# DAT 300 Compulsory Assignment 3 \n",
        "## Group 2 - Anders Mølmen Høst ,Ghazal Azadi ,Meera Joseph\n",
        "## Kaggle group name :Group_2"
      ]
    },
    {
      "cell_type": "markdown",
      "metadata": {
        "id": "g1Hu2CB8LgQk"
      },
      "source": [
        "Predicting malignant cancer tumors from image data."
      ]
    },
    {
      "cell_type": "markdown",
      "metadata": {
        "id": "aqggj2zFeJPR"
      },
      "source": [
        "## **1. Load modules**\n",
        "\n",
        "modules needed for building the model are loaded \n"
      ]
    },
    {
      "cell_type": "code",
      "metadata": {
        "id": "rQMuT0yjkfeu"
      },
      "source": [
        "import pandas as pd\n",
        "\n",
        "import zipfile\n",
        "import pandas\n",
        "from keras.models import Sequential\n",
        "from keras.layers import Dense\n",
        "from keras.wrappers.scikit_learn import KerasClassifier\n",
        "from sklearn.model_selection import cross_val_score\n",
        "from sklearn.preprocessing import LabelEncoder\n",
        "from sklearn.model_selection import StratifiedKFold\n",
        "from sklearn.preprocessing import StandardScaler\n",
        "from sklearn.pipeline import Pipeline\n",
        "from mlxtend.plotting import plot_learning_curves\n",
        "from sklearn.metrics import f1_score\n",
        "\n",
        "from sklearn.linear_model import SGDClassifier\n",
        "from sklearn.model_selection import train_test_split\n",
        "\n",
        "import pandas as pd\n",
        "from sklearn.linear_model import SGDClassifier\n",
        "import matplotlib.pyplot as plt\n",
        "import numpy as np\n",
        "from sklearn import metrics\n",
        "from sklearn.metrics import confusion_matrix\n",
        "from sklearn.ensemble import RandomForestClassifier\n",
        "from mlxtend.plotting import plot_learning_curves"
      ],
      "execution_count": null,
      "outputs": []
    },
    {
      "cell_type": "markdown",
      "metadata": {
        "id": "u83FdgOakPHQ"
      },
      "source": [
        "## **2. Load the data set from Kaggle**"
      ]
    },
    {
      "cell_type": "code",
      "metadata": {
        "colab": {
          "base_uri": "https://localhost:8080/"
        },
        "id": "lMeGxktg37Kn",
        "outputId": "7c7752b2-ad49-4dc1-8823-3a9834ed2934"
      },
      "source": [
        "# AH note: added snippets to run on my system\n",
        "from google.colab import drive\n",
        "drive.mount('/content/drive')"
      ],
      "execution_count": null,
      "outputs": [
        {
          "output_type": "stream",
          "text": [
            "Mounted at /content/drive\n"
          ],
          "name": "stdout"
        }
      ]
    },
    {
      "cell_type": "code",
      "metadata": {
        "colab": {
          "base_uri": "https://localhost:8080/"
        },
        "id": "SflPOZeD369B",
        "outputId": "fea0fd7e-cd8c-449d-85c8-08bc05d2a83f"
      },
      "source": [
        "# AH note: as above\n",
        "\n",
        "from googleapiclient.discovery import build\n",
        "import io, os\n",
        "from googleapiclient.http import MediaIoBaseDownload\n",
        "from google.colab import auth\n",
        "auth.authenticate_user()\n",
        "drive_service = build('drive', 'v3')\n",
        "results = drive_service.files().list(\n",
        "        q=\"name = 'kaggle.json'\", fields=\"files(id)\").execute()\n",
        "kaggle_api_key = results.get('files', [])\n",
        "filename = \"/.kaggle/kaggle.json\"\n",
        "os.makedirs(os.path.dirname(filename), exist_ok=True)\n",
        "request = drive_service.files().get_media(fileId=kaggle_api_key[0]['id'])\n",
        "fh = io.FileIO(filename, 'wb')\n",
        "downloader = MediaIoBaseDownload(fh, request)\n",
        "done = False\n",
        "while done is False:\n",
        "    status, done = downloader.next_chunk()\n",
        "    print(\"Download %d%%.\" % int(status.progress() * 100))\n",
        "os.chmod(filename, 600)"
      ],
      "execution_count": null,
      "outputs": [
        {
          "output_type": "stream",
          "text": [
            "Download 100%.\n"
          ],
          "name": "stdout"
        }
      ]
    },
    {
      "cell_type": "code",
      "metadata": {
        "id": "KmihHeAA36aE"
      },
      "source": [
        "# AH note: as above\n",
        "!mkdir -p ~/.kaggle\n",
        "!cp /.kaggle/kaggle.json ~/.kaggle/"
      ],
      "execution_count": null,
      "outputs": []
    },
    {
      "cell_type": "code",
      "metadata": {
        "id": "VM-CnTRdeNB9"
      },
      "source": [
        "!pip install kaggle"
      ],
      "execution_count": null,
      "outputs": []
    },
    {
      "cell_type": "code",
      "metadata": {
        "id": "4nuFmIereXwd"
      },
      "source": [
        "! cd ~"
      ],
      "execution_count": null,
      "outputs": []
    },
    {
      "cell_type": "code",
      "metadata": {
        "id": "4BJtY00EeZjg",
        "colab": {
          "base_uri": "https://localhost:8080/"
        },
        "outputId": "a9956d21-1276-4b83-b084-c7122b57598b"
      },
      "source": [
        "mkdir ~/.kaggle"
      ],
      "execution_count": null,
      "outputs": [
        {
          "output_type": "stream",
          "text": [
            "mkdir: cannot create directory ‘/root/.kaggle’: File exists\n"
          ],
          "name": "stdout"
        }
      ]
    },
    {
      "cell_type": "code",
      "metadata": {
        "id": "ZyiKuFLPecVL",
        "colab": {
          "base_uri": "https://localhost:8080/"
        },
        "outputId": "561441d2-9243-4bb3-c789-77e5a64d3a90"
      },
      "source": [
        "mv /content/kaggle.json ~/.kaggle/kaggle.json"
      ],
      "execution_count": null,
      "outputs": [
        {
          "output_type": "stream",
          "text": [
            "mv: cannot stat '/content/kaggle.json': No such file or directory\n"
          ],
          "name": "stdout"
        }
      ]
    },
    {
      "cell_type": "code",
      "metadata": {
        "id": "sn6wbsx4edzR"
      },
      "source": [
        "!kaggle competitions download -c dat300-h2020-ca3"
      ],
      "execution_count": null,
      "outputs": []
    },
    {
      "cell_type": "code",
      "metadata": {
        "id": "qjnKvRKJnpRo"
      },
      "source": [
        "ls"
      ],
      "execution_count": null,
      "outputs": []
    },
    {
      "cell_type": "code",
      "metadata": {
        "id": "_gFGkEvoe8sd"
      },
      "source": [
        "# Unzip the zipped file\n",
        "!unzip X_train_250.csv.zip -d /content/\n",
        "!unzip X_test_100.csv.zip -d /content/\n",
        "!unzip y_train_250.csv.zip -d /content/\n"
      ],
      "execution_count": null,
      "outputs": []
    },
    {
      "cell_type": "code",
      "metadata": {
        "id": "wGIMh6yTWeFl"
      },
      "source": [
        "ls"
      ],
      "execution_count": null,
      "outputs": []
    },
    {
      "cell_type": "code",
      "metadata": {
        "id": "aYbwcEufWTPh"
      },
      "source": [
        "!unzip sample_solution.csv.zip -d /content/"
      ],
      "execution_count": null,
      "outputs": []
    },
    {
      "cell_type": "markdown",
      "metadata": {
        "id": "5iuC5yR6kmdo"
      },
      "source": [
        "## **3.  Explorative DATA ANALYSIS**\n",
        "## Analyse the data set\n",
        "\n",
        "Example for one image / patient: \n",
        "\n",
        "- Image size (191 x 265) pixels where 0: not cancer; 1: cancer ==> unfolding image results in 50615 labels in y. \n",
        "\n",
        "- 64 features for each pixel ==> X_train dimension (50615 x 64)\n",
        "\n",
        " \n",
        "\n",
        "- Given 250 images / patients in the training set:\n",
        "\n",
        "- dimension X_train (12653750 x 64) \n",
        "\n",
        "- dimension y_train (12653750 x 1)\n",
        "\n",
        "- more than 50,000 labels per patient * 250 patients meaning 2M rows to work with\n",
        "\n",
        "- X_data = 12M * 64 and y_data = 12M *1\n"
      ]
    },
    {
      "cell_type": "markdown",
      "metadata": {
        "id": "n3xyBIAjZWwv"
      },
      "source": [
        "##### Instead of trying to handle our data all at once, we’re going to do it in pieces. Typically, these pieces are referred to as chunks.\n",
        "\n",
        "#### The process then works as follows:\n",
        "- Read in a chunk\n",
        "- Process the chunk\n",
        "- Save the results of the chunk\n",
        "- Repeat steps 1 to 3 until we have all chunk results\n",
        "- Combine the chunk results"
      ]
    },
    {
      "cell_type": "markdown",
      "metadata": {
        "id": "xhMaqSpKqXRk"
      },
      "source": [
        "### **3.1 REPORT THE CLASS BALANCE** \n",
        "\n",
        "i.e. the number of labels of each class as well as the proportion relative to the total number of rows.(Do this chunk wise)"
      ]
    },
    {
      "cell_type": "code",
      "metadata": {
        "id": "lt44ICFbZ7EP"
      },
      "source": [
        "import pandas as pd\n",
        "\n",
        "data_iterator = pd.read_csv(\"y_train_250.csv\", chunksize=500000,iterator=True)\n",
        "\n",
        "chunk_list = []  \n",
        "\n",
        "# store the total chunk size , count of each class and the chunk number as\n",
        "# 4 seperate list , which is finally used for making a data frame showing the\n",
        "# report and plot for class balance\n",
        "\n",
        "chunk_num =0\n",
        "total_chunksize = []\n",
        "count_1 = []\n",
        "count_0 = []\n",
        "chunk_number = [] #list of chunk number\n",
        "for data_chunk in data_iterator:\n",
        "    \n",
        "    chunk_num = chunk_num +1   \n",
        "\n",
        "    chunk_number.append(chunk_num)\n",
        "    chunk_df = pd.DataFrame(data_chunk[\"target\"].value_counts())\n",
        "    chunk_df.columns = [\"count\"]\n",
        "    count_0.append(chunk_df[\"count\"][0])\n",
        "    count_1.append(chunk_df[\"count\"][1])\n",
        "    total_chunksize.append(chunk_df[\"count\"][0] + chunk_df[\"count\"][1])\n"
      ],
      "execution_count": null,
      "outputs": []
    },
    {
      "cell_type": "code",
      "metadata": {
        "id": "eQjZX9QPuAb0"
      },
      "source": [
        "# Create a data frame for the class balance report using the lists\n",
        "\n",
        "class_balance_report = pd.DataFrame({'chunk number': chunk_number,'count-class 0': count_0,\n",
        "                                     'count-class 1': count_1,'Total chunk size': total_chunksize })"
      ],
      "execution_count": null,
      "outputs": []
    },
    {
      "cell_type": "code",
      "metadata": {
        "id": "9Un3QVFVumjE"
      },
      "source": [
        "# Add additional columns which are propotion of class 0 and class 1 in each chunk\n",
        "\n",
        "propotion_of_0 =list((class_balance_report[\"count-class 0\"]/class_balance_report[\"Total chunk size\"])*100)"
      ],
      "execution_count": null,
      "outputs": []
    },
    {
      "cell_type": "code",
      "metadata": {
        "id": "1lDVMJYEvRj9"
      },
      "source": [
        "propotion_of_1 =list((class_balance_report[\"count-class 1\"]/class_balance_report[\"Total chunk size\"])*100)"
      ],
      "execution_count": null,
      "outputs": []
    },
    {
      "cell_type": "code",
      "metadata": {
        "id": "lEqtZpZ4vgLy"
      },
      "source": [
        "class_balance_report.insert(2, \"propotion_of_0\", propotion_of_0, True)"
      ],
      "execution_count": null,
      "outputs": []
    },
    {
      "cell_type": "code",
      "metadata": {
        "id": "i-0Pj8RFvz-0"
      },
      "source": [
        "class_balance_report.insert(4, \"propotion_of_1\", propotion_of_1, True)"
      ],
      "execution_count": null,
      "outputs": []
    },
    {
      "cell_type": "code",
      "metadata": {
        "colab": {
          "base_uri": "https://localhost:8080/",
          "height": 828
        },
        "id": "v61Mw0z1v3P1",
        "outputId": "47a04807-e82a-4e09-9ae9-0d5a5d9406f1"
      },
      "source": [
        "# Generate the class balance report\n",
        "\n",
        "class_balance_report"
      ],
      "execution_count": null,
      "outputs": [
        {
          "output_type": "execute_result",
          "data": {
            "text/html": [
              "<div>\n",
              "<style scoped>\n",
              "    .dataframe tbody tr th:only-of-type {\n",
              "        vertical-align: middle;\n",
              "    }\n",
              "\n",
              "    .dataframe tbody tr th {\n",
              "        vertical-align: top;\n",
              "    }\n",
              "\n",
              "    .dataframe thead th {\n",
              "        text-align: right;\n",
              "    }\n",
              "</style>\n",
              "<table border=\"1\" class=\"dataframe\">\n",
              "  <thead>\n",
              "    <tr style=\"text-align: right;\">\n",
              "      <th></th>\n",
              "      <th>chunk number</th>\n",
              "      <th>count-class 0</th>\n",
              "      <th>propotion_of_0</th>\n",
              "      <th>count-class 1</th>\n",
              "      <th>propotion_of_1</th>\n",
              "      <th>Total chunk size</th>\n",
              "    </tr>\n",
              "  </thead>\n",
              "  <tbody>\n",
              "    <tr>\n",
              "      <th>0</th>\n",
              "      <td>1</td>\n",
              "      <td>495832</td>\n",
              "      <td>99.166400</td>\n",
              "      <td>4168</td>\n",
              "      <td>0.833600</td>\n",
              "      <td>500000</td>\n",
              "    </tr>\n",
              "    <tr>\n",
              "      <th>1</th>\n",
              "      <td>2</td>\n",
              "      <td>494006</td>\n",
              "      <td>98.801200</td>\n",
              "      <td>5994</td>\n",
              "      <td>1.198800</td>\n",
              "      <td>500000</td>\n",
              "    </tr>\n",
              "    <tr>\n",
              "      <th>2</th>\n",
              "      <td>3</td>\n",
              "      <td>490743</td>\n",
              "      <td>98.148600</td>\n",
              "      <td>9257</td>\n",
              "      <td>1.851400</td>\n",
              "      <td>500000</td>\n",
              "    </tr>\n",
              "    <tr>\n",
              "      <th>3</th>\n",
              "      <td>4</td>\n",
              "      <td>497523</td>\n",
              "      <td>99.504600</td>\n",
              "      <td>2477</td>\n",
              "      <td>0.495400</td>\n",
              "      <td>500000</td>\n",
              "    </tr>\n",
              "    <tr>\n",
              "      <th>4</th>\n",
              "      <td>5</td>\n",
              "      <td>495107</td>\n",
              "      <td>99.021400</td>\n",
              "      <td>4893</td>\n",
              "      <td>0.978600</td>\n",
              "      <td>500000</td>\n",
              "    </tr>\n",
              "    <tr>\n",
              "      <th>5</th>\n",
              "      <td>6</td>\n",
              "      <td>484415</td>\n",
              "      <td>96.883000</td>\n",
              "      <td>15585</td>\n",
              "      <td>3.117000</td>\n",
              "      <td>500000</td>\n",
              "    </tr>\n",
              "    <tr>\n",
              "      <th>6</th>\n",
              "      <td>7</td>\n",
              "      <td>489957</td>\n",
              "      <td>97.991400</td>\n",
              "      <td>10043</td>\n",
              "      <td>2.008600</td>\n",
              "      <td>500000</td>\n",
              "    </tr>\n",
              "    <tr>\n",
              "      <th>7</th>\n",
              "      <td>8</td>\n",
              "      <td>487424</td>\n",
              "      <td>97.484800</td>\n",
              "      <td>12576</td>\n",
              "      <td>2.515200</td>\n",
              "      <td>500000</td>\n",
              "    </tr>\n",
              "    <tr>\n",
              "      <th>8</th>\n",
              "      <td>9</td>\n",
              "      <td>490869</td>\n",
              "      <td>98.173800</td>\n",
              "      <td>9131</td>\n",
              "      <td>1.826200</td>\n",
              "      <td>500000</td>\n",
              "    </tr>\n",
              "    <tr>\n",
              "      <th>9</th>\n",
              "      <td>10</td>\n",
              "      <td>492710</td>\n",
              "      <td>98.542000</td>\n",
              "      <td>7290</td>\n",
              "      <td>1.458000</td>\n",
              "      <td>500000</td>\n",
              "    </tr>\n",
              "    <tr>\n",
              "      <th>10</th>\n",
              "      <td>11</td>\n",
              "      <td>493397</td>\n",
              "      <td>98.679400</td>\n",
              "      <td>6603</td>\n",
              "      <td>1.320600</td>\n",
              "      <td>500000</td>\n",
              "    </tr>\n",
              "    <tr>\n",
              "      <th>11</th>\n",
              "      <td>12</td>\n",
              "      <td>496234</td>\n",
              "      <td>99.246800</td>\n",
              "      <td>3766</td>\n",
              "      <td>0.753200</td>\n",
              "      <td>500000</td>\n",
              "    </tr>\n",
              "    <tr>\n",
              "      <th>12</th>\n",
              "      <td>13</td>\n",
              "      <td>496726</td>\n",
              "      <td>99.345200</td>\n",
              "      <td>3274</td>\n",
              "      <td>0.654800</td>\n",
              "      <td>500000</td>\n",
              "    </tr>\n",
              "    <tr>\n",
              "      <th>13</th>\n",
              "      <td>14</td>\n",
              "      <td>490280</td>\n",
              "      <td>98.056000</td>\n",
              "      <td>9720</td>\n",
              "      <td>1.944000</td>\n",
              "      <td>500000</td>\n",
              "    </tr>\n",
              "    <tr>\n",
              "      <th>14</th>\n",
              "      <td>15</td>\n",
              "      <td>489196</td>\n",
              "      <td>97.839200</td>\n",
              "      <td>10804</td>\n",
              "      <td>2.160800</td>\n",
              "      <td>500000</td>\n",
              "    </tr>\n",
              "    <tr>\n",
              "      <th>15</th>\n",
              "      <td>16</td>\n",
              "      <td>489849</td>\n",
              "      <td>97.969800</td>\n",
              "      <td>10151</td>\n",
              "      <td>2.030200</td>\n",
              "      <td>500000</td>\n",
              "    </tr>\n",
              "    <tr>\n",
              "      <th>16</th>\n",
              "      <td>17</td>\n",
              "      <td>489689</td>\n",
              "      <td>97.937800</td>\n",
              "      <td>10311</td>\n",
              "      <td>2.062200</td>\n",
              "      <td>500000</td>\n",
              "    </tr>\n",
              "    <tr>\n",
              "      <th>17</th>\n",
              "      <td>18</td>\n",
              "      <td>493510</td>\n",
              "      <td>98.702000</td>\n",
              "      <td>6490</td>\n",
              "      <td>1.298000</td>\n",
              "      <td>500000</td>\n",
              "    </tr>\n",
              "    <tr>\n",
              "      <th>18</th>\n",
              "      <td>19</td>\n",
              "      <td>493588</td>\n",
              "      <td>98.717600</td>\n",
              "      <td>6412</td>\n",
              "      <td>1.282400</td>\n",
              "      <td>500000</td>\n",
              "    </tr>\n",
              "    <tr>\n",
              "      <th>19</th>\n",
              "      <td>20</td>\n",
              "      <td>488643</td>\n",
              "      <td>97.728600</td>\n",
              "      <td>11357</td>\n",
              "      <td>2.271400</td>\n",
              "      <td>500000</td>\n",
              "    </tr>\n",
              "    <tr>\n",
              "      <th>20</th>\n",
              "      <td>21</td>\n",
              "      <td>486692</td>\n",
              "      <td>97.338400</td>\n",
              "      <td>13308</td>\n",
              "      <td>2.661600</td>\n",
              "      <td>500000</td>\n",
              "    </tr>\n",
              "    <tr>\n",
              "      <th>21</th>\n",
              "      <td>22</td>\n",
              "      <td>487916</td>\n",
              "      <td>97.583200</td>\n",
              "      <td>12084</td>\n",
              "      <td>2.416800</td>\n",
              "      <td>500000</td>\n",
              "    </tr>\n",
              "    <tr>\n",
              "      <th>22</th>\n",
              "      <td>23</td>\n",
              "      <td>488799</td>\n",
              "      <td>97.759800</td>\n",
              "      <td>11201</td>\n",
              "      <td>2.240200</td>\n",
              "      <td>500000</td>\n",
              "    </tr>\n",
              "    <tr>\n",
              "      <th>23</th>\n",
              "      <td>24</td>\n",
              "      <td>491830</td>\n",
              "      <td>98.366000</td>\n",
              "      <td>8170</td>\n",
              "      <td>1.634000</td>\n",
              "      <td>500000</td>\n",
              "    </tr>\n",
              "    <tr>\n",
              "      <th>24</th>\n",
              "      <td>25</td>\n",
              "      <td>493644</td>\n",
              "      <td>98.728800</td>\n",
              "      <td>6356</td>\n",
              "      <td>1.271200</td>\n",
              "      <td>500000</td>\n",
              "    </tr>\n",
              "    <tr>\n",
              "      <th>25</th>\n",
              "      <td>26</td>\n",
              "      <td>151875</td>\n",
              "      <td>98.780488</td>\n",
              "      <td>1875</td>\n",
              "      <td>1.219512</td>\n",
              "      <td>153750</td>\n",
              "    </tr>\n",
              "  </tbody>\n",
              "</table>\n",
              "</div>"
            ],
            "text/plain": [
              "    chunk number  count-class 0  ...  propotion_of_1  Total chunk size\n",
              "0              1         495832  ...        0.833600            500000\n",
              "1              2         494006  ...        1.198800            500000\n",
              "2              3         490743  ...        1.851400            500000\n",
              "3              4         497523  ...        0.495400            500000\n",
              "4              5         495107  ...        0.978600            500000\n",
              "5              6         484415  ...        3.117000            500000\n",
              "6              7         489957  ...        2.008600            500000\n",
              "7              8         487424  ...        2.515200            500000\n",
              "8              9         490869  ...        1.826200            500000\n",
              "9             10         492710  ...        1.458000            500000\n",
              "10            11         493397  ...        1.320600            500000\n",
              "11            12         496234  ...        0.753200            500000\n",
              "12            13         496726  ...        0.654800            500000\n",
              "13            14         490280  ...        1.944000            500000\n",
              "14            15         489196  ...        2.160800            500000\n",
              "15            16         489849  ...        2.030200            500000\n",
              "16            17         489689  ...        2.062200            500000\n",
              "17            18         493510  ...        1.298000            500000\n",
              "18            19         493588  ...        1.282400            500000\n",
              "19            20         488643  ...        2.271400            500000\n",
              "20            21         486692  ...        2.661600            500000\n",
              "21            22         487916  ...        2.416800            500000\n",
              "22            23         488799  ...        2.240200            500000\n",
              "23            24         491830  ...        1.634000            500000\n",
              "24            25         493644  ...        1.271200            500000\n",
              "25            26         151875  ...        1.219512            153750\n",
              "\n",
              "[26 rows x 6 columns]"
            ]
          },
          "metadata": {
            "tags": []
          },
          "execution_count": 48
        }
      ]
    },
    {
      "cell_type": "code",
      "metadata": {
        "colab": {
          "base_uri": "https://localhost:8080/",
          "height": 587
        },
        "id": "SIr1QuI1xe2p",
        "outputId": "0b417323-a0cf-4352-b43d-dd004cd89e6d"
      },
      "source": [
        "# Generate group bar chart showing the class balance report\n",
        "\n",
        "index = class_balance_report[\"chunk number\"]\n",
        "\n",
        "df = class_balance_report[[\"propotion_of_0\",\"propotion_of_1\"]]\n",
        "df.index = index\n",
        "from matplotlib import pyplot as plt\n",
        "plt.rcParams[\"figure.figsize\"] = [12, 9]\n",
        "ax = df.plot.bar()\n",
        "plt.title(\"Class Balance Report\")\n",
        "plt.xlabel(\"Chunk number\")\n",
        "plt.ylabel(\"count\")"
      ],
      "execution_count": null,
      "outputs": [
        {
          "output_type": "execute_result",
          "data": {
            "text/plain": [
              "Text(0, 0.5, 'count')"
            ]
          },
          "metadata": {
            "tags": []
          },
          "execution_count": 63
        },
        {
          "output_type": "display_data",
          "data": {
            "image/png": "[encoded data removed]",
            "text/plain": [
              "<Figure size 864x648 with 1 Axes>"
            ]
          },
          "metadata": {
            "tags": []
          }
        }
      ]
    },
    {
      "cell_type": "markdown",
      "metadata": {
        "id": "uOvPUwVbe9vI"
      },
      "source": [
        "**- The class balance report and the barchart showing the distribution of class 0 and class 1 in each batch or chunk clearly shows that the data set is highly skewed with majority of data belongs to class 0 in each chunk**\n",
        "\n",
        "### **3.2. Handling extremely unbalanced data sets**\n",
        "\n",
        "- Since we have very skewed data , each chunk contains 99% class 0\n",
        "- One option is to subsample the majority class (reduce the number of majority class data)\n",
        "- We also consider the distribution of y (which is unbalanced) in training model when making test and train splits by putting stratify = y. This will ensure that the splits contain target data just like the distribution of imbalanced target."
      ]
    },
    {
      "cell_type": "markdown",
      "metadata": {
        "id": "otKHZFKGuNk-"
      },
      "source": [
        "### **3.3 Save each chunk as csv** ( additional function to save chunk and perform tests)"
      ]
    },
    {
      "cell_type": "code",
      "metadata": {
        "id": "LE5p6oYiuO5p"
      },
      "source": [
        "# Make a function to save chunks as csv. We save chunk 3 see below.\n",
        "def save_chunk_as_csv(input_csv):\n",
        "\n",
        "    data_iterator = pd.read_csv(input_csv, chunksize=500000,iterator=True)\n",
        "\n",
        "\n",
        "    chunk_num =0\n",
        "    \n",
        "    for data_chunk in data_iterator:\n",
        "    \n",
        "        chunk_num = chunk_num +1   \n",
        "    # save the cunks as seperate csv files\n",
        "        if chunk_num == 3:\n",
        "            data_chunk.to_csv(str(input_csv[:-4])+\"_chunk_\"+str(chunk_num)+'.csv',index=False)\n",
        "\n"
      ],
      "execution_count": null,
      "outputs": []
    },
    {
      "cell_type": "code",
      "metadata": {
        "id": "VjyE_v0bBVHp"
      },
      "source": [
        "save_chunk_as_csv(\"X_train_250.csv\")"
      ],
      "execution_count": null,
      "outputs": []
    },
    {
      "cell_type": "code",
      "metadata": {
        "id": "vMZfZOK_CSdQ"
      },
      "source": [
        "save_chunk_as_csv(\"y_train_250.csv\")"
      ],
      "execution_count": null,
      "outputs": []
    },
    {
      "cell_type": "markdown",
      "metadata": {
        "id": "7cvznsq_iVKR"
      },
      "source": [
        "## **4. Learning curve to decide how many data sets do we need for best performance** \n",
        "\n",
        "https://www.dataquest.io/blog/learning-curves-machine-learning/\n",
        "\n",
        "- We plot learning curves for test data and train data to find how many batches are required to build a model with good performance\n",
        "- We start by plotting learning curves for a single batch, to see how our model is able to generalize over only a small subset of the data. After our explorative analysis we found that batch 3 seems to be a representative batch.\n",
        "\n",
        "http://rasbt.github.io/mlxtend/user_guide/plotting/plot_learning_curves/\n",
        "\n"
      ]
    },
    {
      "cell_type": "code",
      "metadata": {
        "id": "QcZS6qznCsFk"
      },
      "source": [
        "X_data_c3 = pd.read_csv(\"X_train_250_chunk_3.csv\")\n",
        "y_data_c3 = pd.read_csv(\"y_train_250_chunk_3.csv\")"
      ],
      "execution_count": null,
      "outputs": []
    },
    {
      "cell_type": "code",
      "metadata": {
        "colab": {
          "base_uri": "https://localhost:8080/"
        },
        "id": "54ZAsjsiDCJ3",
        "outputId": "8f56a661-cc89-4d01-8603-d361382081ff"
      },
      "source": [
        "X_data_c3.shape"
      ],
      "execution_count": null,
      "outputs": [
        {
          "output_type": "execute_result",
          "data": {
            "text/plain": [
              "(500000, 64)"
            ]
          },
          "metadata": {
            "tags": []
          },
          "execution_count": 39
        }
      ]
    },
    {
      "cell_type": "code",
      "metadata": {
        "colab": {
          "base_uri": "https://localhost:8080/"
        },
        "id": "3T0W_8bgDD5S",
        "outputId": "ffa336e6-bf16-4309-c13d-27c7258dbaba"
      },
      "source": [
        "y_data_c3.shape"
      ],
      "execution_count": null,
      "outputs": [
        {
          "output_type": "execute_result",
          "data": {
            "text/plain": [
              "(500000, 1)"
            ]
          },
          "metadata": {
            "tags": []
          },
          "execution_count": 38
        }
      ]
    },
    {
      "cell_type": "code",
      "metadata": {
        "colab": {
          "base_uri": "https://localhost:8080/",
          "height": 428
        },
        "id": "NHG6jaFcDGTM",
        "outputId": "5af2c437-ec9d-4f0d-b225-8fd20ca81ecb"
      },
      "source": [
        "# Need to fix the shape of y_data_c3 to make it work with our learning curves\n",
        "y_data_c3 = y_data_c3.values\n",
        "y_data_c3 = y_data_c3.reshape(y_data_c3.shape[0],)\n",
        "\n",
        "# Plot curves chunk 3\n",
        "\n",
        "sc = StandardScaler()\n",
        "sc.fit(X_data_c3, y_data_c3)\n",
        "sgd = SGDClassifier(random_state=0)\n",
        "\n",
        "X_train, X_test, y_train, y_test = train_test_split(X_data_c3, y_data_c3, test_size=0.3,\n",
        "                                                    random_state=12)\n",
        "plot_learning_curves(X_train, y_train, X_test, y_test, sgd, scoring='f1_micro')\n",
        "plt.show()"
      ],
      "execution_count": null,
      "outputs": [
        {
          "output_type": "display_data",
          "data": {
            "image/png": "[encoded data removed]",
            "text/plain": [
              "<Figure size 432x288 with 1 Axes>"
            ]
          },
          "metadata": {
            "tags": []
          }
        }
      ]
    },
    {
      "cell_type": "markdown",
      "metadata": {
        "id": "cSRhkDD5Dguf"
      },
      "source": [
        "At around 60 percent of the training set the f1 micro averaged score, does not seem to improve. The performance on the test set is at its highest. \n",
        "\n",
        "The f1 micro averaged score sums up true positives, false positives and false negatives for different subsets of the training data and averaging."
      ]
    },
    {
      "cell_type": "markdown",
      "metadata": {
        "id": "n-i4nJVC9fIv"
      },
      "source": [
        "## **5. Feature selection through assessing feature importance**\n",
        "\n",
        "Use random forest to measure feature importance.\n",
        "Feature importance measured from the average impurity decrease from all the decision trees.\n",
        "Then we average over all the batches. (Raschka, chapter 4, 2019)"
      ]
    },
    {
      "cell_type": "code",
      "metadata": {
        "id": "uW66b2B69fIv"
      },
      "source": [
        "# Approx 15-20 minutes with n_estimators=50\n",
        "# Make iterators\n",
        "csv_iterator_X = pd.read_csv(\"X_train_250.csv\", chunksize=500000)\n",
        "csv_iterator_y = pd.read_csv(\"y_train_250.csv\", chunksize=500000)\n",
        "\n",
        "forest = RandomForestClassifier(n_estimators=50, random_state=1,\n",
        "                                n_jobs=-1, verbose=1)\n",
        "\n",
        "count = 0\n",
        "\n",
        "# Zero array with number of features\n",
        "importances = np.zeros(64)\n",
        "\n",
        "\n",
        "for batch in zip(csv_iterator_X, csv_iterator_y):\n",
        "    count += 1\n",
        "    print(\"Batch: \", count)\n",
        "    X_batch = batch[0]\n",
        "    # Use ravel to avoid warning\n",
        "    y_batch = np.ravel(batch[1])\n",
        "    # New fit for each batch\n",
        "    forest.fit(X_batch, y_batch)\n",
        "    # Add feature importance for batch to array\n",
        "    importances += forest.feature_importances_\n",
        "\n",
        "# Average over all importances\n",
        "importances /= count"
      ],
      "execution_count": null,
      "outputs": []
    },
    {
      "cell_type": "code",
      "metadata": {
        "colab": {
          "base_uri": "https://localhost:8080/",
          "height": 1000
        },
        "id": "ZFm3JSdC9fIw",
        "outputId": "2a0a220b-c0f1-4587-ab3e-114b4fe76e49"
      },
      "source": [
        "\n",
        "# Make plot of feature importances for entire data set. Source \"Raschka, chpt 4\"\n",
        "\n",
        "indices = np.argsort(importances)[::-1]\n",
        "# Getting labels from the last batch\n",
        "feat_labels = X_batch.columns\n",
        "\n",
        "for f in range(X_batch.shape[1]):\n",
        "    print(\"%2d) %-*s %f\" % (f + 1, 30,\n",
        "                            feat_labels[indices[f]],\n",
        "                            importances[indices[f]]))\n",
        "    \n",
        "plt.title('Feature Importance')\n",
        "plt.bar(range(X_batch.shape[1]),\n",
        "        importances[indices])\n",
        "plt.xticks(range(X_batch.shape[1]),\n",
        "          feat_labels[indices], rotation=90)\n",
        "plt.xlim([-1, X_batch.shape[1]])\n",
        "plt.tight_layout()"
      ],
      "execution_count": null,
      "outputs": [
        {
          "output_type": "stream",
          "text": [
            " 1) L64                            0.183750\n",
            " 2) L56                            0.091031\n",
            " 3) L39                            0.078401\n",
            " 4) L43                            0.073673\n",
            " 5) L41                            0.062115\n",
            " 6) L61                            0.060806\n",
            " 7) L60                            0.048712\n",
            " 8) L58                            0.043003\n",
            " 9) L16                            0.041584\n",
            "10) L33                            0.025512\n",
            "11) L45                            0.023912\n",
            "12) L18                            0.023898\n",
            "13) L31                            0.023591\n",
            "14) L47                            0.018752\n",
            "15) L27                            0.016097\n",
            "16) L63                            0.015445\n",
            "17) L8                             0.012349\n",
            "18) L57                            0.011744\n",
            "19) L46                            0.011492\n",
            "20) L44                            0.011486\n",
            "21) L40                            0.010158\n",
            "22) L52                            0.009798\n",
            "23) L23                            0.009353\n",
            "24) L38                            0.008966\n",
            "25) L34                            0.007684\n",
            "26) L14                            0.007421\n",
            "27) L21                            0.006393\n",
            "28) L10                            0.006210\n",
            "29) L35                            0.005846\n",
            "30) L24                            0.005802\n",
            "31) L42                            0.005793\n",
            "32) L7                             0.005763\n",
            "33) L5                             0.005622\n",
            "34) L11                            0.005207\n",
            "35) L51                            0.004888\n",
            "36) L2                             0.004508\n",
            "37) L17                            0.003556\n",
            "38) L28                            0.003043\n",
            "39) L1                             0.001477\n",
            "40) L12                            0.001166\n",
            "41) L29                            0.001085\n",
            "42) L4                             0.000737\n",
            "43) L25                            0.000698\n",
            "44) L32                            0.000468\n",
            "45) L62                            0.000229\n",
            "46) L36                            0.000148\n",
            "47) L53                            0.000123\n",
            "48) L48                            0.000108\n",
            "49) L19                            0.000107\n",
            "50) L9                             0.000082\n",
            "51) L26                            0.000051\n",
            "52) L6                             0.000049\n",
            "53) L15                            0.000046\n",
            "54) L22                            0.000037\n",
            "55) L49                            0.000010\n",
            "56) L30                            0.000003\n",
            "57) L13                            0.000002\n",
            "58) L37                            0.000002\n",
            "59) L59                            0.000001\n",
            "60) L50                            0.000001\n",
            "61) L20                            0.000001\n",
            "62) L54                            0.000001\n",
            "63) L55                            0.000000\n",
            "64) L3                             0.000000\n"
          ],
          "name": "stdout"
        },
        {
          "output_type": "display_data",
          "data": {
            "image/png": "[encoded data removed]",
            "text/plain": [
              "<Figure size 432x288 with 1 Axes>"
            ]
          },
          "metadata": {
            "tags": [],
            "needs_background": "light"
          }
        }
      ]
    },
    {
      "cell_type": "code",
      "metadata": {
        "id": "Avxcf5op9fIw"
      },
      "source": [
        "# Rank feature labels\n",
        "\n",
        "ranked_feat_labels = []\n",
        "for f in range(X_batch.shape[1]):\n",
        "    ranked_feat_labels.append(feat_labels[indices[f]])\n",
        "    \n",
        "print(ranked_feat_labels)\n",
        "# Save ranked feat labels\n",
        "# with open(r\"/content/drive/MyDrive/ca3/feat_ranked_est50.txt\", \"w\") as file:\n",
        "    # file.write(str(ranked_feat_labels))"
      ],
      "execution_count": null,
      "outputs": []
    },
    {
      "cell_type": "code",
      "metadata": {
        "id": "FUycBVXdPYT8"
      },
      "source": [
        "with open(\"/content/drive/MyDrive/ca3/feat_ranked_est50.txt\", \"r\") as file:\n",
        "    ranked_feat_labels = eval(file.readline())"
      ],
      "execution_count": null,
      "outputs": []
    },
    {
      "cell_type": "markdown",
      "metadata": {
        "id": "7RFIOXro9fIw"
      },
      "source": [
        "Tried using 20 and 40 features, however it did not improve the results. "
      ]
    },
    {
      "cell_type": "markdown",
      "metadata": {
        "id": "ncu0VKtSzT7w"
      },
      "source": [
        "## **6. Training the model**"
      ]
    },
    {
      "cell_type": "markdown",
      "metadata": {
        "id": "VU2yzDr25hxm"
      },
      "source": [
        "## SGD Classifier - linear Support Vector Machine\n",
        "\n",
        "- Since the the data is huge we use classifiers that support partial fit (incremental learning) , the attribute **\"classes=range(2)\"** is set to define that this is a binary classification problem . (also depending on the loss fuction we choose we can chosse logistic regression or SVM classifier)\n",
        "- We train the model on training data on multiple batches of **chunk size 500000** , thus covering the whole training data  without crashing the memory. \n",
        "- SGD classifiers have an attribute class_weight , which can be set to \" balanced in normal cases , **but this attribute cannot be set to balanced when we are using partial fit.**\n",
        "-  By default it uses a SVM , **making the loss as log it becomes logistic regression**\n",
        "\n"
      ]
    },
    {
      "cell_type": "markdown",
      "metadata": {
        "id": "Iyd-t50f83CL"
      },
      "source": [
        "### **6.1 PERFORMANCE METRICS**\n",
        "\n",
        "Since the data is highly unbalanced accuracy cannot be used as a metric for measuring the model performace , as even a badly performing model would result in a high accuracy because of the highly skewed data set , with majority belonging to class 1 ie: not cancerous pixels, therefore f1 score is a preferred metric for performance measurement."
      ]
    },
    {
      "cell_type": "markdown",
      "metadata": {
        "id": "cMjmQxNkTv-q"
      },
      "source": [
        "### **6.2 Learning curve showing the variation in performace vs batches seen (each batch is of size 500,000 and there are a total of 26 batches)**"
      ]
    },
    {
      "cell_type": "code",
      "metadata": {
        "id": "_--AyuZZzWgf"
      },
      "source": [
        "from sklearn.linear_model import PassiveAggressiveClassifier\n",
        "from sklearn.model_selection import GridSearchCV\n",
        "# -*- coding: utf-8 -*-\n",
        "\"\"\"\n",
        "Learning curve for many batches\n",
        "\"\"\"\n",
        "\n",
        "\n",
        "# =============================================================================\n",
        "# Import modules\n",
        "# =============================================================================\n",
        "import pandas as pd\n",
        "from sklearn.linear_model import SGDClassifier\n",
        "import matplotlib.pyplot as plt\n",
        "import numpy as np\n",
        "from sklearn.utils import class_weight\n",
        "\n",
        "# =============================================================================\n",
        "# Load data\n",
        "# =============================================================================\n",
        "\n",
        "# =============================================================================\n",
        "# Fit StandardScaler across all batches\n",
        "# =============================================================================\n",
        "\n",
        "x = zipfile.ZipFile('X_train_250.csv.zip') \n",
        "y = zipfile.ZipFile('y_train_250.csv.zip') \n",
        "\n",
        "\n",
        "part_sc = StandardScaler()\n",
        "\n",
        "#for i, df in enumerate(vaex.from_csv(zf.open('X_train_250.csv'), chunk_size=200_000)):\n",
        "\n",
        "iterator_x = pd.read_csv(x.open('X_train_250.csv'), chunksize=500_000) # pandas initiate an iterator \n",
        "iterator_y = pd.read_csv(y.open('y_train_250.csv'), chunksize=500_000)\n",
        "\n",
        "\n",
        "# =============================================================================\n",
        "# Initialise and train model\n",
        "# =============================================================================\n",
        "sgd = SGDClassifier(random_state = 0)\n",
        "\n",
        "\n",
        "# Initialise for later use, see loop\n",
        "y_pred_test = np.zeros(0)\n",
        "y_test = np.zeros(0)\n",
        "y_pred_train = np.zeros(0)\n",
        "y_train = np.zeros(0)\n",
        "\n",
        "f1_scores_test =[]\n",
        "f1_scores_train = []\n",
        "b = 0\n",
        "for batch in zip(iterator_x, iterator_y):\n",
        "    b = b+1\n",
        "    print(\"B\",b)\n",
        "    X = batch[0]\n",
        "    y = np.ravel(batch[1])\n",
        "    X_train_batch, X_test_batch, y_train_batch, y_test_batch = train_test_split(X, y, stratify=y, test_size=0.3, random_state=2)\n",
        "        # we transform the training and test data with the mean and standard deviation \n",
        "        # across all the training data\n",
        "        # use stratify = y to handle the imbalanced data sampling\n",
        "    part_sc.partial_fit(X_train_batch, y_train_batch)\n",
        "   # class_weights = class_weight.compute_class_weight('balanced',\n",
        "    #                                             np.unique(y_train_batch),\n",
        "     #                                            y_train_batch)\n",
        "    sgd.partial_fit(part_sc.transform(X_train_batch), y_train_batch,classes=range(2) ) \n",
        "        # specify the number of classes\n",
        "    y_batch_pred_train = sgd.predict(part_sc.transform(X_train_batch))\n",
        "    y_pred_train = np.concatenate((y_pred_train, y_batch_pred_train))\n",
        "    y_train = np.concatenate((y_train, y_train_batch))\n",
        "    batch_f1_score_train = f1_score(y_true=y_train_batch, y_pred=y_batch_pred_train)\n",
        "    f1_scores_train.append(batch_f1_score_train)\n",
        "    \n",
        "    y_batch_pred_test = sgd.predict(part_sc.transform(X_test_batch))\n",
        "    y_pred_test = np.concatenate((y_pred_test, y_batch_pred_test))\n",
        "    y_test = np.concatenate((y_test, y_test_batch))\n",
        "    batch_f1_score_test = f1_score(y_true=y_test_batch, y_pred=y_batch_pred_test)\n",
        "    f1_scores_test.append(batch_f1_score_test)\n"
      ],
      "execution_count": null,
      "outputs": []
    },
    {
      "cell_type": "code",
      "metadata": {
        "colab": {
          "base_uri": "https://localhost:8080/",
          "height": 312
        },
        "id": "RNO626-wrAgA",
        "outputId": "6f044adc-9427-4e15-c239-b3d412550313"
      },
      "source": [
        "# Plot generalisation performance\n",
        "plt.plot(f1_scores_test, 'r',label = \"test f1 score\")\n",
        "plt.plot(f1_scores_train, 'y',label = \"train f1 score\")\n",
        "\n",
        "plt.title(\"Learning curve showing how many samples would be enough to train a well performing model\")\n",
        "plt.xlabel(\"batches seen\")\n",
        "plt.ylabel(\"F1 score\")\n",
        "plt.legend()"
      ],
      "execution_count": null,
      "outputs": [
        {
          "output_type": "execute_result",
          "data": {
            "text/plain": [
              "<matplotlib.legend.Legend at 0x7f69984b7e10>"
            ]
          },
          "metadata": {
            "tags": []
          },
          "execution_count": 19
        },
        {
          "output_type": "display_data",
          "data": {
            "image/png": "[encoded data removed]",
            "text/plain": [
              "<Figure size 432x288 with 1 Axes>"
            ]
          },
          "metadata": {
            "tags": [],
            "needs_background": "light"
          }
        }
      ]
    },
    {
      "cell_type": "code",
      "metadata": {
        "colab": {
          "base_uri": "https://localhost:8080/"
        },
        "id": "ESiMIwERmAbm",
        "outputId": "0b03f4f1-2311-4057-cf00-c79c863debb1"
      },
      "source": [
        "f1_scores_test"
      ],
      "execution_count": null,
      "outputs": [
        {
          "output_type": "execute_result",
          "data": {
            "text/plain": [
              "[0.8616187989556137,\n",
              " 0.8632075471698113,\n",
              " 0.8876985592907277,\n",
              " 0.8778979907264297,\n",
              " 0.8825674690007294,\n",
              " 0.8769505127061971,\n",
              " 0.9091210613598674,\n",
              " 0.8772702256466705,\n",
              " 0.8746411483253588,\n",
              " 0.9293391264578094,\n",
              " 0.9166897315250483,\n",
              " 0.8809416025350836,\n",
              " 0.8460217515741272,\n",
              " 0.9184415584415584,\n",
              " 0.8995809405556419,\n",
              " 0.8950033760972316,\n",
              " 0.861917623227549,\n",
              " 0.8875896890778634,\n",
              " 0.8935329003106467,\n",
              " 0.9219098616688978,\n",
              " 0.9401665598975016,\n",
              " 0.9249538941693858,\n",
              " 0.8828279750114276,\n",
              " 0.8881538143477362,\n",
              " 0.9184709970596099,\n",
              " 0.9294532627865962]"
            ]
          },
          "metadata": {
            "tags": []
          },
          "execution_count": 33
        }
      ]
    },
    {
      "cell_type": "markdown",
      "metadata": {
        "id": "s-4P134HpkQe"
      },
      "source": [
        "- We see good performance with a batch size of 5 from the F1 score plot above .But if we increase the batchsize to just 10 the performance further improves and adding on more batches does not increase the performance considerably . \n",
        "\n",
        "- Which means that we don't need the whole data set to build good models to solve the binary classification problem.a batch size of 10 is optimum for a building a good performing model which generalises the the training data."
      ]
    },
    {
      "cell_type": "markdown",
      "metadata": {
        "id": "yL97Cb7U5NVu"
      },
      "source": [
        "### **6.3 Confusion matrix**\n",
        "We plot a confusion matrix to get a better overview of our predicted labels compared to the true labels"
      ]
    },
    {
      "cell_type": "code",
      "metadata": {
        "colab": {
          "base_uri": "https://localhost:8080/",
          "height": 188
        },
        "id": "EdtUdL0l5cX_",
        "outputId": "feaa34ed-2df8-448e-e70c-2594b22101e0"
      },
      "source": [
        "confmat = confusion_matrix(y_true=y_test, y_pred=y_pred_test)\n",
        "fig, ax = plt.subplots(figsize=(2.5, 2.5))\n",
        "ax.matshow(confmat, cmap=plt.cm.Blues, alpha=0.3)\n",
        "for i in range(confmat.shape[0]):\n",
        "    for j in range(confmat.shape[1]):\n",
        "        ax.text(x=j, y=i, s=confmat[i, j], va='center', ha='center')\n",
        "\n",
        "plt.xlabel('Predicted label')\n",
        "plt.ylabel('True label')\n",
        "\n",
        "plt.tight_layout()\n",
        "#plt.savefig('images/06_09.png', dpi=300)\n",
        "plt.show()"
      ],
      "execution_count": null,
      "outputs": [
        {
          "output_type": "display_data",
          "data": {
            "image/png": "[encoded data removed]",
            "text/plain": [
              "<Figure size 180x180 with 1 Axes>"
            ]
          },
          "metadata": {
            "tags": [],
            "needs_background": "light"
          }
        }
      ]
    },
    {
      "cell_type": "markdown",
      "metadata": {
        "id": "A-DuDFTz5-Oe"
      },
      "source": [
        "Confusion matrix shows that\n",
        "- True negatives is extremly high compared to the rest of the other categories.\n",
        "- This confirms accuracy is thus not a good metric for our problem.\n",
        "- Our model should be able to predict a high true positive rate.\n",
        "- Also in cancer detection it is particularly important to keep false negatives low\n",
        "- F1 score is a better metric to balance this need"
      ]
    },
    {
      "cell_type": "markdown",
      "metadata": {
        "id": "x9fsNzt99Agd"
      },
      "source": [
        "## **7. Predictions**\n",
        "( training on the whole data set)"
      ]
    },
    {
      "cell_type": "code",
      "metadata": {
        "id": "6gmdVdjc30Tg"
      },
      "source": [
        "X_test = zipfile.ZipFile('X_test_100.csv.zip') \n",
        "X_test = pd.read_csv(X_test.open('X_test_100.csv'))"
      ],
      "execution_count": null,
      "outputs": []
    },
    {
      "cell_type": "code",
      "metadata": {
        "id": "bPedCdx0_2SD"
      },
      "source": [
        "# Train on whole data set\n",
        "\n",
        "x = zipfile.ZipFile('X_train_250.csv.zip') \n",
        "y = zipfile.ZipFile('y_train_250.csv.zip') \n",
        "iterator_x = pd.read_csv(x.open('X_train_250.csv'), chunksize=500_000) # pandas initiate an iterator \n",
        "iterator_y = pd.read_csv(y.open('y_train_250.csv'), chunksize=500_000)\n",
        "for batch in zip(iterator_x, iterator_y):\n",
        "    X = batch[0]\n",
        "    y = np.ravel(batch[1])\n",
        "    part_sc.partial_fit(X, y)\n",
        "    sgd.partial_fit(part_sc.transform(X), y, classes=range(2)) \n"
      ],
      "execution_count": null,
      "outputs": []
    },
    {
      "cell_type": "code",
      "metadata": {
        "id": "0jaqWPI235yU"
      },
      "source": [
        "y_pred = sgd.predict(X_test)"
      ],
      "execution_count": null,
      "outputs": []
    },
    {
      "cell_type": "code",
      "metadata": {
        "id": "dNHu-j4k38Wf"
      },
      "source": [
        "y_pred = np.where(y_pred == 0, 'False','True')"
      ],
      "execution_count": null,
      "outputs": []
    },
    {
      "cell_type": "code",
      "metadata": {
        "colab": {
          "base_uri": "https://localhost:8080/"
        },
        "id": "QuIsfpsF4HyL",
        "outputId": "7e82b868-9ee2-4035-c0fd-fc57df7d0890"
      },
      "source": [
        "y_pred.shape"
      ],
      "execution_count": null,
      "outputs": [
        {
          "output_type": "execute_result",
          "data": {
            "text/plain": [
              "(5061500,)"
            ]
          },
          "metadata": {
            "tags": []
          },
          "execution_count": 81
        }
      ]
    },
    {
      "cell_type": "code",
      "metadata": {
        "id": "ONrjNbsX39TD"
      },
      "source": [
        "ID = np.arange(0,len(y_pred))\n",
        "h = np.column_stack((ID,y_pred))\n",
        "df = pd.DataFrame(data=h)"
      ],
      "execution_count": null,
      "outputs": []
    },
    {
      "cell_type": "code",
      "metadata": {
        "id": "80vAqBiI4TfY"
      },
      "source": [
        "df.columns=['Id','Predicted'] \n",
        "df.to_csv(r'predict04.csv', index = False)"
      ],
      "execution_count": null,
      "outputs": []
    },
    {
      "cell_type": "code",
      "metadata": {
        "id": "oUM_I6rDBxeO"
      },
      "source": [
        "!kaggle competitions submit -c dat300-h2020-ca3 -f predict04.csv -m \"prediction 4 submission\""
      ],
      "execution_count": null,
      "outputs": []
    },
    {
      "cell_type": "code",
      "metadata": {
        "id": "awUq5L524X9J"
      },
      "source": [
        "!kaggle competitions submit -c dat300-h2020-ca3 -f predict02.csv -m \"prediction 2 submission\""
      ],
      "execution_count": null,
      "outputs": []
    },
    {
      "cell_type": "markdown",
      "metadata": {
        "id": "ToCCynLy7of2"
      },
      "source": [
        "### **SGD with many iterations**\n",
        "\n",
        "To check if more iterations help in improving the f1 score\n",
        "\n",
        "If the score is incresing it means more iterations helps in improving the results"
      ]
    },
    {
      "cell_type": "code",
      "metadata": {
        "id": "aEqjL8Ik7rXG"
      },
      "source": [
        "# -*- coding: utf-8 -*-\n",
        "\"\"\"\n",
        "Many iterations(epochs), many batches, scales in batches\n",
        " and trains in batches \n",
        "\"\"\"\n",
        "\n",
        "# =============================================================================\n",
        "# Import modules\n",
        "# =============================================================================\n",
        "from sklearn.utils.class_weight import compute_class_weight\n",
        "# =============================================================================\n",
        "# Fit StandardScaler across all batches\n",
        "# =============================================================================\n",
        "\n",
        "x = zipfile.ZipFile('X_train_250.csv.zip') \n",
        "y = zipfile.ZipFile('y_train_250.csv.zip') \n",
        "\n",
        "\n",
        "part_sc = StandardScaler()\n",
        "\n",
        "#for i, df in enumerate(vaex.from_csv(zf.open('X_train_250.csv'), chunk_size=200_000)):\n",
        "\n",
        "# =============================================================================\n",
        "# Initialise and train model\n",
        "# =============================================================================\n",
        "sgd = SGDClassifier(random_state=0, loss = \"log\" )\n",
        "# by defauls it is a linear SVM , bu changing the loss to log \n",
        "# we can make it a logistic regression\n",
        "\n",
        "\n",
        "# Initialise for later use, see loop\n",
        "y_pred_test = np.zeros(0)\n",
        "y_test = np.zeros(0)\n",
        "y_pred_train = np.zeros(0)\n",
        "y_train = np.zeros(0)\n",
        "\n",
        "f1_scores_test =[]\n",
        "f1_scores_train = []\n",
        "\n",
        "\n",
        "for iteration in range(5):\n",
        "    x = zipfile.ZipFile('X_train_250.csv.zip') \n",
        "    y = zipfile.ZipFile('y_train_250.csv.zip') \n",
        "\n",
        "    iterator_x = pd.read_csv(x.open('X_train_250.csv'), chunksize=500_000) # pandas initiate an iterator \n",
        "    iterator_y = pd.read_csv(y.open('y_train_250.csv'), chunksize=500_000)\n",
        "    print(\"Iteration\", iteration)\n",
        "    for batch in zip(iterator_x, iterator_y):\n",
        "        X = batch[0]\n",
        "        y = np.ravel(batch[1])\n",
        "        X_train_batch, X_test_batch, y_train_batch, y_test_batch = train_test_split(X, y, test_size=0.3, random_state=2)\n",
        "        # we transform the training and test data with the mean and standard deviation \n",
        "        # across all the training data\n",
        "        part_sc.partial_fit(X_train_batch, y_train_batch)\n",
        "        sgd.partial_fit(part_sc.transform(X_train_batch), y_train_batch, classes=range(2))\n",
        "    y_batch_pred_train = sgd.predict(part_sc.transform(X_train_batch))\n",
        "    y_pred_train = np.concatenate((y_pred_train, y_batch_pred_train))\n",
        "    y_train = np.concatenate((y_train, y_train_batch))\n",
        "    batch_f1_score_train = f1_score(y_true=y_train_batch, y_pred=y_batch_pred_train)\n",
        "    f1_scores_train.append(batch_f1_score_train)\n",
        "    \n",
        "    y_batch_pred_test = sgd.predict(part_sc.transform(X_test_batch))\n",
        "    y_pred_test = np.concatenate((y_pred_test, y_batch_pred_test))\n",
        "    y_test = np.concatenate((y_test, y_test_batch))\n",
        "    batch_f1_score_test = f1_score(y_true=y_test_batch, y_pred=y_batch_pred_test)\n",
        "    f1_scores_test.append(batch_f1_score_test)\n",
        "   "
      ],
      "execution_count": null,
      "outputs": []
    },
    {
      "cell_type": "code",
      "metadata": {
        "colab": {
          "base_uri": "https://localhost:8080/"
        },
        "id": "wPYCr8QBSNQH",
        "outputId": "708f845b-7221-487f-fca5-ed5e772c0ce0"
      },
      "source": [
        "# SVM, trained for 5 iteration using the default f1 score\n",
        "# where average = \"binary\"\n",
        "\n",
        "f1_scores_test "
      ],
      "execution_count": null,
      "outputs": [
        {
          "output_type": "execute_result",
          "data": {
            "text/plain": [
              "[0.9294532627865962,\n",
              " 0.928759894459103,\n",
              " 0.9303135888501741,\n",
              " 0.9316017316017317,\n",
              " 0.9339055793991418]"
            ]
          },
          "metadata": {
            "tags": []
          },
          "execution_count": 53
        }
      ]
    },
    {
      "cell_type": "code",
      "metadata": {
        "colab": {
          "base_uri": "https://localhost:8080/"
        },
        "id": "DQgOxT3zRvYq",
        "outputId": "c0373280-98be-4f69-9b48-bcbc1b7f0863"
      },
      "source": [
        "# Logistic regression classifier , trained for 5 iteration using the default f1 score\n",
        "# where average = \"binary\"\n",
        "\n",
        "f1_scores_test "
      ],
      "execution_count": null,
      "outputs": [
        {
          "output_type": "execute_result",
          "data": {
            "text/plain": [
              "[0.9264836138175377,\n",
              " 0.9268722466960353,\n",
              " 0.929380993897123,\n",
              " 0.9335634167385677,\n",
              " 0.9369676320272572]"
            ]
          },
          "metadata": {
            "tags": []
          },
          "execution_count": 50
        }
      ]
    },
    {
      "cell_type": "markdown",
      "metadata": {
        "id": "FrRfCSY4UjuZ"
      },
      "source": [
        "We could observe that there are no big difference in the performance of the model when using a logistic regression classifier in place of a SVM"
      ]
    },
    {
      "cell_type": "markdown",
      "metadata": {
        "id": "AHr6zn7H5Z54"
      },
      "source": [
        "## **Learning curve showning F1 score vs iterations**\n",
        "\n",
        "The plot shows that the f1 score increase as iterations increases"
      ]
    },
    {
      "cell_type": "code",
      "metadata": {
        "colab": {
          "base_uri": "https://localhost:8080/",
          "height": 312
        },
        "id": "PKqdSBKJoTZr",
        "outputId": "fd39a9fb-436d-473a-b9b3-475aeaae1d86"
      },
      "source": [
        "# Plot generalisation performance\n",
        "plt.plot(f1_scores_test, \"y\",label=\"test f1 score\")\n",
        "plt.plot(f1_scores_train, \"r\",label=\"train f1 score\")\n",
        "plt.title(\"Learning curve for logistic regression binary classifier for different iterations\")\n",
        "plt.xlabel(\"iterations\")\n",
        "plt.xticks(range(5))\n",
        "plt.ylabel(\"F1 score\")\n",
        "plt.legend()\n"
      ],
      "execution_count": null,
      "outputs": [
        {
          "output_type": "execute_result",
          "data": {
            "text/plain": [
              "<matplotlib.legend.Legend at 0x7f15f4a26ba8>"
            ]
          },
          "metadata": {
            "tags": []
          },
          "execution_count": 54
        },
        {
          "output_type": "display_data",
          "data": {
            "image/png": "[encoded data removed]",
            "text/plain": [
              "<Figure size 432x288 with 1 Axes>"
            ]
          },
          "metadata": {
            "tags": [],
            "needs_background": "light"
          }
        }
      ]
    },
    {
      "cell_type": "code",
      "metadata": {
        "colab": {
          "base_uri": "https://localhost:8080/"
        },
        "id": "abc3Xot5l_MK",
        "outputId": "747833c7-77af-42f4-fea0-44e333f9c65f"
      },
      "source": [
        "f1_scores_test"
      ],
      "execution_count": null,
      "outputs": [
        {
          "output_type": "execute_result",
          "data": {
            "text/plain": [
              "[0.9264836138175377,\n",
              " 0.9268722466960353,\n",
              " 0.929380993897123,\n",
              " 0.9335634167385677,\n",
              " 0.9369676320272572]"
            ]
          },
          "metadata": {
            "tags": []
          },
          "execution_count": 68
        }
      ]
    },
    {
      "cell_type": "code",
      "metadata": {
        "id": "Dn1Q0hIZgWO2"
      },
      "source": [
        "# Train on whole data set\n",
        "\n",
        "for iteration in range(5):\n",
        "    print(iteration)\n",
        "    x = zipfile.ZipFile('X_train_250.csv.zip') \n",
        "    y = zipfile.ZipFile('y_train_250.csv.zip') \n",
        "    iterator_x = pd.read_csv(x.open('X_train_250.csv'), chunksize=500_000) # pandas initiate an iterator \n",
        "    iterator_y = pd.read_csv(y.open('y_train_250.csv'), chunksize=500_000)\n",
        "\n",
        "    for batch in zip(iterator_x, iterator_y):\n",
        "       X = batch[0]\n",
        "       y = np.ravel(batch[1])\n",
        "       part_sc.partial_fit(X, y)\n",
        "       sgd.partial_fit(part_sc.transform(X), y, classes=range(2)) "
      ],
      "execution_count": null,
      "outputs": []
    },
    {
      "cell_type": "code",
      "metadata": {
        "id": "u6-fX5QDnQwk"
      },
      "source": [
        "y_pred = np.zeros(0)\n",
        "X_test = zipfile.ZipFile('X_test_100.csv.zip')\n",
        "iterator_X_test = pd.read_csv(X_test.open(\"X_test_100.csv\"), chunksize=500_000)\n",
        "\n",
        "for batch in iterator_X_test:\n",
        "    print(len(y_pred))\n",
        "    count_X_test += 1\n",
        "    print(\"batch X_test\", count_X_test)\n",
        "    X_test = batch\n",
        "    y_pred_batch = sgd.predict(X_test)\n",
        "    y_pred = np.concatenate((y_pred, y_pred_batch))"
      ],
      "execution_count": null,
      "outputs": []
    },
    {
      "cell_type": "code",
      "metadata": {
        "id": "MywQdURagWH4"
      },
      "source": [
        "# generating results for submission to kaggle\n",
        "y_pred = np.where(y_pred == 0, 'False','True')\n",
        "\n",
        "ID = np.arange(0,len(y_pred))\n",
        "h = np.column_stack((ID,y_pred))\n",
        "df = pd.DataFrame(data=h)\n",
        "\n",
        "\n",
        "df.columns=['Id','Predicted'] \n",
        "df.to_csv(r'predict_ah13.csv', index = False)"
      ],
      "execution_count": null,
      "outputs": []
    },
    {
      "cell_type": "code",
      "metadata": {
        "colab": {
          "base_uri": "https://localhost:8080/"
        },
        "id": "S9aSXZW3gVdj",
        "outputId": "d8027f4f-6a93-465a-fa9e-5116f2cb31cd"
      },
      "source": [
        "!kaggle competitions submit -c dat300-h2020-ca3 -f predict_ah13.csv -m \"logistic regression 5 iterations  \""
      ],
      "execution_count": null,
      "outputs": [
        {
          "output_type": "stream",
          "text": [
            "Warning: Looks like you're using an outdated API Version, please consider updating (server 1.5.9 / client 1.5.4)\n",
            "100% 66.5M/66.5M [00:00<00:00, 85.5MB/s]\n",
            "Successfully submitted to DAT300 - H2020 - CA3"
          ],
          "name": "stdout"
        }
      ]
    },
    {
      "cell_type": "markdown",
      "metadata": {
        "id": "1s5SpqaX5i8s"
      },
      "source": [
        "##======================END OF TASK========================="
      ]
    },
    {
      "cell_type": "markdown",
      "metadata": {
        "id": "kTzKXQ5iSwF4"
      },
      "source": [
        "## **Conclusion :** \n",
        "\n",
        "- We tried with different startegies for out of core learning https://scikit-learn.org/0.15/modules/scaling_strategies.html \n",
        "using SGD classifier (SVM and logistic regression ) and the passive aggresive classifier . \n",
        "\n",
        "![Screen Shot 2020-11-19 at 1.01.50 PM.png](data:image/png;base64,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)\n",
        "\n",
        "\n",
        "- We observed that we were getting alsmost similar f1 scores for both here .But on kaggle we got better results with a logic regression classifier with 5 iterations \"predict13.csv\" F1 score :0.90091 .\n",
        "while for SVM when trained for 5 iteration we got a f1 score: 0.88986\n",
        "\n",
        "- We tried to perform feature selection , by using feature importance method based on random forest and reduced the number of features from 64 to 40 and 20 , but there was no considerable increase in the performance. Score 0.86478 with 40 features. \n",
        "\n",
        "- We therefore chose the logistic regression for 5 iterations  as our best performing model for the final submission.\n",
        "\n"
      ]
    }
  ]
}