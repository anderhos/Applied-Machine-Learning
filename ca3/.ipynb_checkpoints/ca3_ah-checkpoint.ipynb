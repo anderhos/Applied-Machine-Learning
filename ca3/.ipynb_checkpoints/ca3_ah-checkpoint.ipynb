{
 "cells": [
  {
   "cell_type": "code",
   "execution_count": 42,
   "metadata": {},
   "outputs": [],
   "source": [
    "import pandas as pd\n",
    "import numpy as np\n",
    "import matplotlib.pyplot as plt"
   ]
  },
  {
   "cell_type": "code",
   "execution_count": null,
   "metadata": {},
   "outputs": [],
   "source": [
    "# Prepocessing data"
   ]
  },
  {
   "cell_type": "code",
   "execution_count": 4,
   "metadata": {},
   "outputs": [
    {
     "data": {
      "text/html": [
       "<div>\n",
       "<style scoped>\n",
       "    .dataframe tbody tr th:only-of-type {\n",
       "        vertical-align: middle;\n",
       "    }\n",
       "\n",
       "    .dataframe tbody tr th {\n",
       "        vertical-align: top;\n",
       "    }\n",
       "\n",
       "    .dataframe thead th {\n",
       "        text-align: right;\n",
       "    }\n",
       "</style>\n",
       "<table border=\"1\" class=\"dataframe\">\n",
       "  <thead>\n",
       "    <tr style=\"text-align: right;\">\n",
       "      <th></th>\n",
       "      <th>ID</th>\n",
       "      <th>f1</th>\n",
       "      <th>f2</th>\n",
       "      <th>f3</th>\n",
       "      <th>f4</th>\n",
       "      <th>f5</th>\n",
       "      <th>f6</th>\n",
       "      <th>f7</th>\n",
       "      <th>f8</th>\n",
       "      <th>f9</th>\n",
       "      <th>...</th>\n",
       "      <th>f16</th>\n",
       "      <th>f17</th>\n",
       "      <th>f18</th>\n",
       "      <th>f19</th>\n",
       "      <th>f20</th>\n",
       "      <th>f21</th>\n",
       "      <th>f22</th>\n",
       "      <th>f23</th>\n",
       "      <th>f24</th>\n",
       "      <th>label</th>\n",
       "    </tr>\n",
       "  </thead>\n",
       "  <tbody>\n",
       "    <tr>\n",
       "      <th>0</th>\n",
       "      <td>0</td>\n",
       "      <td>1.0</td>\n",
       "      <td>0.0</td>\n",
       "      <td>1.0</td>\n",
       "      <td>179.0</td>\n",
       "      <td>99.0</td>\n",
       "      <td>99.0</td>\n",
       "      <td>139.0</td>\n",
       "      <td>74.5822</td>\n",
       "      <td>301.0590</td>\n",
       "      <td>...</td>\n",
       "      <td>0.0</td>\n",
       "      <td>0.0</td>\n",
       "      <td>99.0</td>\n",
       "      <td>0.1788</td>\n",
       "      <td>0.3583</td>\n",
       "      <td>0.0132</td>\n",
       "      <td>7.0</td>\n",
       "      <td>2.0</td>\n",
       "      <td>2.0</td>\n",
       "      <td>0.0</td>\n",
       "    </tr>\n",
       "    <tr>\n",
       "      <th>1</th>\n",
       "      <td>1</td>\n",
       "      <td>1.0</td>\n",
       "      <td>0.0</td>\n",
       "      <td>1.0</td>\n",
       "      <td>298.0</td>\n",
       "      <td>258.0</td>\n",
       "      <td>258.0</td>\n",
       "      <td>239.0</td>\n",
       "      <td>181.8275</td>\n",
       "      <td>135.3403</td>\n",
       "      <td>...</td>\n",
       "      <td>5290.0</td>\n",
       "      <td>0.0</td>\n",
       "      <td>0.0</td>\n",
       "      <td>0.4355</td>\n",
       "      <td>0.3375</td>\n",
       "      <td>0.0458</td>\n",
       "      <td>5.0</td>\n",
       "      <td>2.0</td>\n",
       "      <td>4.0</td>\n",
       "      <td>2.0</td>\n",
       "    </tr>\n",
       "    <tr>\n",
       "      <th>2</th>\n",
       "      <td>2</td>\n",
       "      <td>1.0</td>\n",
       "      <td>1.0</td>\n",
       "      <td>1.0</td>\n",
       "      <td>99.0</td>\n",
       "      <td>139.0</td>\n",
       "      <td>139.0</td>\n",
       "      <td>159.0</td>\n",
       "      <td>83.0692</td>\n",
       "      <td>187.6926</td>\n",
       "      <td>...</td>\n",
       "      <td>0.0</td>\n",
       "      <td>1.0</td>\n",
       "      <td>2442.0</td>\n",
       "      <td>0.0762</td>\n",
       "      <td>0.1167</td>\n",
       "      <td>0.0200</td>\n",
       "      <td>8.0</td>\n",
       "      <td>6.0</td>\n",
       "      <td>1.0</td>\n",
       "      <td>2.0</td>\n",
       "    </tr>\n",
       "    <tr>\n",
       "      <th>3</th>\n",
       "      <td>3</td>\n",
       "      <td>1.0</td>\n",
       "      <td>1.0</td>\n",
       "      <td>0.0</td>\n",
       "      <td>238.0</td>\n",
       "      <td>139.0</td>\n",
       "      <td>139.0</td>\n",
       "      <td>258.0</td>\n",
       "      <td>248.3948</td>\n",
       "      <td>505.5022</td>\n",
       "      <td>...</td>\n",
       "      <td>397.0</td>\n",
       "      <td>0.0</td>\n",
       "      <td>0.0</td>\n",
       "      <td>0.2176</td>\n",
       "      <td>0.3791</td>\n",
       "      <td>0.0139</td>\n",
       "      <td>5.0</td>\n",
       "      <td>8.0</td>\n",
       "      <td>5.0</td>\n",
       "      <td>1.0</td>\n",
       "    </tr>\n",
       "    <tr>\n",
       "      <th>4</th>\n",
       "      <td>4</td>\n",
       "      <td>1.0</td>\n",
       "      <td>1.0</td>\n",
       "      <td>0.0</td>\n",
       "      <td>358.0</td>\n",
       "      <td>179.0</td>\n",
       "      <td>179.0</td>\n",
       "      <td>219.0</td>\n",
       "      <td>127.8251</td>\n",
       "      <td>117.0438</td>\n",
       "      <td>...</td>\n",
       "      <td>0.0</td>\n",
       "      <td>0.0</td>\n",
       "      <td>0.0</td>\n",
       "      <td>0.2923</td>\n",
       "      <td>0.2908</td>\n",
       "      <td>0.0539</td>\n",
       "      <td>3.0</td>\n",
       "      <td>1.0</td>\n",
       "      <td>3.0</td>\n",
       "      <td>0.0</td>\n",
       "    </tr>\n",
       "    <tr>\n",
       "      <th>...</th>\n",
       "      <td>...</td>\n",
       "      <td>...</td>\n",
       "      <td>...</td>\n",
       "      <td>...</td>\n",
       "      <td>...</td>\n",
       "      <td>...</td>\n",
       "      <td>...</td>\n",
       "      <td>...</td>\n",
       "      <td>...</td>\n",
       "      <td>...</td>\n",
       "      <td>...</td>\n",
       "      <td>...</td>\n",
       "      <td>...</td>\n",
       "      <td>...</td>\n",
       "      <td>...</td>\n",
       "      <td>...</td>\n",
       "      <td>...</td>\n",
       "      <td>...</td>\n",
       "      <td>...</td>\n",
       "      <td>...</td>\n",
       "      <td>...</td>\n",
       "    </tr>\n",
       "    <tr>\n",
       "      <th>7103</th>\n",
       "      <td>7103</td>\n",
       "      <td>1.0</td>\n",
       "      <td>1.0</td>\n",
       "      <td>1.0</td>\n",
       "      <td>99.0</td>\n",
       "      <td>139.0</td>\n",
       "      <td>139.0</td>\n",
       "      <td>99.0</td>\n",
       "      <td>92.5054</td>\n",
       "      <td>111.0281</td>\n",
       "      <td>...</td>\n",
       "      <td>0.0</td>\n",
       "      <td>1.0</td>\n",
       "      <td>1032.0</td>\n",
       "      <td>0.1476</td>\n",
       "      <td>0.2076</td>\n",
       "      <td>0.0093</td>\n",
       "      <td>5.0</td>\n",
       "      <td>6.0</td>\n",
       "      <td>1.0</td>\n",
       "      <td>0.0</td>\n",
       "    </tr>\n",
       "    <tr>\n",
       "      <th>7104</th>\n",
       "      <td>7104</td>\n",
       "      <td>1.0</td>\n",
       "      <td>1.0</td>\n",
       "      <td>0.0</td>\n",
       "      <td>80.0</td>\n",
       "      <td>119.0</td>\n",
       "      <td>119.0</td>\n",
       "      <td>159.0</td>\n",
       "      <td>460.7779</td>\n",
       "      <td>101.5972</td>\n",
       "      <td>...</td>\n",
       "      <td>0.0</td>\n",
       "      <td>1.0</td>\n",
       "      <td>715.0</td>\n",
       "      <td>0.1595</td>\n",
       "      <td>0.3440</td>\n",
       "      <td>0.0188</td>\n",
       "      <td>4.0</td>\n",
       "      <td>7.0</td>\n",
       "      <td>1.0</td>\n",
       "      <td>2.0</td>\n",
       "    </tr>\n",
       "    <tr>\n",
       "      <th>7105</th>\n",
       "      <td>7105</td>\n",
       "      <td>1.0</td>\n",
       "      <td>1.0</td>\n",
       "      <td>1.0</td>\n",
       "      <td>219.0</td>\n",
       "      <td>99.0</td>\n",
       "      <td>99.0</td>\n",
       "      <td>179.0</td>\n",
       "      <td>69.5881</td>\n",
       "      <td>92.3147</td>\n",
       "      <td>...</td>\n",
       "      <td>0.0</td>\n",
       "      <td>0.0</td>\n",
       "      <td>238.0</td>\n",
       "      <td>0.0001</td>\n",
       "      <td>0.0686</td>\n",
       "      <td>0.0188</td>\n",
       "      <td>6.0</td>\n",
       "      <td>5.0</td>\n",
       "      <td>1.0</td>\n",
       "      <td>1.0</td>\n",
       "    </tr>\n",
       "    <tr>\n",
       "      <th>7106</th>\n",
       "      <td>7106</td>\n",
       "      <td>1.0</td>\n",
       "      <td>1.0</td>\n",
       "      <td>0.0</td>\n",
       "      <td>159.0</td>\n",
       "      <td>80.0</td>\n",
       "      <td>80.0</td>\n",
       "      <td>119.0</td>\n",
       "      <td>449.1116</td>\n",
       "      <td>400.0050</td>\n",
       "      <td>...</td>\n",
       "      <td>0.0</td>\n",
       "      <td>0.0</td>\n",
       "      <td>0.0</td>\n",
       "      <td>0.0344</td>\n",
       "      <td>0.6234</td>\n",
       "      <td>0.0171</td>\n",
       "      <td>5.0</td>\n",
       "      <td>8.0</td>\n",
       "      <td>4.0</td>\n",
       "      <td>0.0</td>\n",
       "    </tr>\n",
       "    <tr>\n",
       "      <th>7107</th>\n",
       "      <td>7107</td>\n",
       "      <td>1.0</td>\n",
       "      <td>1.0</td>\n",
       "      <td>0.0</td>\n",
       "      <td>139.0</td>\n",
       "      <td>99.0</td>\n",
       "      <td>99.0</td>\n",
       "      <td>80.0</td>\n",
       "      <td>316.8793</td>\n",
       "      <td>148.2161</td>\n",
       "      <td>...</td>\n",
       "      <td>0.0</td>\n",
       "      <td>0.0</td>\n",
       "      <td>0.0</td>\n",
       "      <td>1.0085</td>\n",
       "      <td>0.2900</td>\n",
       "      <td>0.0309</td>\n",
       "      <td>7.0</td>\n",
       "      <td>1.0</td>\n",
       "      <td>3.0</td>\n",
       "      <td>2.0</td>\n",
       "    </tr>\n",
       "  </tbody>\n",
       "</table>\n",
       "<p>7108 rows × 26 columns</p>\n",
       "</div>"
      ],
      "text/plain": [
       "        ID   f1   f2   f3     f4     f5     f6     f7        f8        f9  \\\n",
       "0        0  1.0  0.0  1.0  179.0   99.0   99.0  139.0   74.5822  301.0590   \n",
       "1        1  1.0  0.0  1.0  298.0  258.0  258.0  239.0  181.8275  135.3403   \n",
       "2        2  1.0  1.0  1.0   99.0  139.0  139.0  159.0   83.0692  187.6926   \n",
       "3        3  1.0  1.0  0.0  238.0  139.0  139.0  258.0  248.3948  505.5022   \n",
       "4        4  1.0  1.0  0.0  358.0  179.0  179.0  219.0  127.8251  117.0438   \n",
       "...    ...  ...  ...  ...    ...    ...    ...    ...       ...       ...   \n",
       "7103  7103  1.0  1.0  1.0   99.0  139.0  139.0   99.0   92.5054  111.0281   \n",
       "7104  7104  1.0  1.0  0.0   80.0  119.0  119.0  159.0  460.7779  101.5972   \n",
       "7105  7105  1.0  1.0  1.0  219.0   99.0   99.0  179.0   69.5881   92.3147   \n",
       "7106  7106  1.0  1.0  0.0  159.0   80.0   80.0  119.0  449.1116  400.0050   \n",
       "7107  7107  1.0  1.0  0.0  139.0   99.0   99.0   80.0  316.8793  148.2161   \n",
       "\n",
       "      ...     f16  f17     f18     f19     f20     f21  f22  f23  f24  label  \n",
       "0     ...     0.0  0.0    99.0  0.1788  0.3583  0.0132  7.0  2.0  2.0    0.0  \n",
       "1     ...  5290.0  0.0     0.0  0.4355  0.3375  0.0458  5.0  2.0  4.0    2.0  \n",
       "2     ...     0.0  1.0  2442.0  0.0762  0.1167  0.0200  8.0  6.0  1.0    2.0  \n",
       "3     ...   397.0  0.0     0.0  0.2176  0.3791  0.0139  5.0  8.0  5.0    1.0  \n",
       "4     ...     0.0  0.0     0.0  0.2923  0.2908  0.0539  3.0  1.0  3.0    0.0  \n",
       "...   ...     ...  ...     ...     ...     ...     ...  ...  ...  ...    ...  \n",
       "7103  ...     0.0  1.0  1032.0  0.1476  0.2076  0.0093  5.0  6.0  1.0    0.0  \n",
       "7104  ...     0.0  1.0   715.0  0.1595  0.3440  0.0188  4.0  7.0  1.0    2.0  \n",
       "7105  ...     0.0  0.0   238.0  0.0001  0.0686  0.0188  6.0  5.0  1.0    1.0  \n",
       "7106  ...     0.0  0.0     0.0  0.0344  0.6234  0.0171  5.0  8.0  4.0    0.0  \n",
       "7107  ...     0.0  0.0     0.0  1.0085  0.2900  0.0309  7.0  1.0  3.0    2.0  \n",
       "\n",
       "[7108 rows x 26 columns]"
      ]
     },
     "execution_count": 4,
     "metadata": {},
     "output_type": "execute_result"
    }
   ],
   "source": [
    "df = pd.read_csv('CA3-train.csv')\n",
    "df"
   ]
  },
  {
   "cell_type": "code",
   "execution_count": 8,
   "metadata": {},
   "outputs": [],
   "source": [
    "X, y = df.iloc[:, 1:25].values, df.iloc[:, 25]"
   ]
  },
  {
   "cell_type": "code",
   "execution_count": 30,
   "metadata": {},
   "outputs": [
    {
     "data": {
      "text/plain": [
       "array([0., 1., 2.])"
      ]
     },
     "execution_count": 30,
     "metadata": {},
     "output_type": "execute_result"
    }
   ],
   "source": [
    "np.unique(y)"
   ]
  },
  {
   "cell_type": "code",
   "execution_count": 34,
   "metadata": {},
   "outputs": [
    {
     "data": {
      "text/plain": [
       "array([[1., 0., 1., ..., 7., 2., 2.],\n",
       "       [1., 0., 1., ..., 5., 2., 4.],\n",
       "       [1., 1., 1., ..., 8., 6., 1.],\n",
       "       ...,\n",
       "       [1., 1., 1., ..., 6., 5., 1.],\n",
       "       [1., 1., 0., ..., 5., 8., 4.],\n",
       "       [1., 1., 0., ..., 7., 1., 3.]])"
      ]
     },
     "execution_count": 34,
     "metadata": {},
     "output_type": "execute_result"
    }
   ],
   "source": [
    "X"
   ]
  },
  {
   "cell_type": "code",
   "execution_count": 60,
   "metadata": {},
   "outputs": [
    {
     "data": {
      "text/plain": [
       "count     7108.000000\n",
       "mean       530.048818\n",
       "std       1927.718921\n",
       "min          0.000000\n",
       "25%          0.000000\n",
       "50%          0.000000\n",
       "75%        223.750000\n",
       "max      35448.000000\n",
       "Name: f16, dtype: float64"
      ]
     },
     "execution_count": 60,
     "metadata": {},
     "output_type": "execute_result"
    }
   ],
   "source": [
    "# =============================================================================\n",
    "# Descriptive statistics\n",
    "# =============================================================================\n",
    "\n",
    "df.iloc[:, 16].describe()"
   ]
  },
  {
   "cell_type": "markdown",
   "metadata": {},
   "source": [
    "Notes AH: Possible outliers f16, very high max relative to 75 percent"
   ]
  },
  {
   "cell_type": "code",
   "execution_count": 64,
   "metadata": {},
   "outputs": [
    {
     "data": {
      "text/plain": [
       "2145"
      ]
     },
     "execution_count": 64,
     "metadata": {},
     "output_type": "execute_result"
    }
   ],
   "source": [
    "# Check for positive values f16\n",
    "\n",
    "positive_f16 = np.where(df['f16']>0, True, False)\n",
    "# count True\n",
    "positive_f16.sum()"
   ]
  },
  {
   "cell_type": "code",
   "execution_count": 72,
   "metadata": {},
   "outputs": [
    {
     "data": {
      "text/plain": [
       "1        5290.0\n",
       "3         397.0\n",
       "6        2248.0\n",
       "11        358.0\n",
       "12       2306.0\n",
       "         ...   \n",
       "7083     1569.0\n",
       "7089      596.0\n",
       "7090    10556.0\n",
       "7099      517.0\n",
       "7102      477.0\n",
       "Name: f16, Length: 2145, dtype: float64"
      ]
     },
     "execution_count": 72,
     "metadata": {},
     "output_type": "execute_result"
    }
   ],
   "source": [
    "# Drop rows with zero values\n",
    "\n",
    "extract_positive_f16 = df[df['f16']>0]['f16']\n",
    "extract_positive_f16"
   ]
  },
  {
   "cell_type": "code",
   "execution_count": 73,
   "metadata": {},
   "outputs": [
    {
     "data": {
      "text/plain": [
       "<matplotlib.axes._subplots.AxesSubplot at 0x2173f1883a0>"
      ]
     },
     "execution_count": 73,
     "metadata": {},
     "output_type": "execute_result"
    },
    {
     "data": {
      "image/png": "[encoded data removed]",
      "text/plain": [
       "<Figure size 432x288 with 1 Axes>"
      ]
     },
     "metadata": {
      "needs_background": "light"
     },
     "output_type": "display_data"
    }
   ],
   "source": [
    "# Histogram positive f16\n",
    "extract_positive_f16.hist()"
   ]
  },
  {
   "cell_type": "code",
   "execution_count": 77,
   "metadata": {},
   "outputs": [
    {
     "data": {
      "text/plain": [
       "count     2145.000000\n",
       "mean      1756.450816\n",
       "std       3187.966249\n",
       "min         20.000000\n",
       "25%        318.000000\n",
       "50%        676.000000\n",
       "75%       1670.000000\n",
       "max      35448.000000\n",
       "Name: f16, dtype: float64"
      ]
     },
     "execution_count": 77,
     "metadata": {},
     "output_type": "execute_result"
    }
   ],
   "source": [
    "# Descriptive statistics for posive f16\n",
    "\n",
    "extract_positive_f16.describe()"
   ]
  },
  {
   "cell_type": "code",
   "execution_count": 59,
   "metadata": {
    "scrolled": true
   },
   "outputs": [
    {
     "data": {
      "image/png": "[encoded data removed]",
      "text/plain": [
       "<Figure size 432x288 with 1 Axes>"
      ]
     },
     "metadata": {
      "needs_background": "light"
     },
     "output_type": "display_data"
    }
   ],
   "source": [
    "# =============================================================================\n",
    "# Histograms\n",
    "# =============================================================================\n",
    "\n",
    "df.iloc[:, 16].hist()\n",
    "plt.tight_layout()\n",
    "plt.show()"
   ]
  },
  {
   "cell_type": "code",
   "execution_count": null,
   "metadata": {},
   "outputs": [],
   "source": []
  }
 ],
 "metadata": {
  "kernelspec": {
   "display_name": "Python 3",
   "language": "python",
   "name": "python3"
  },
  "language_info": {
   "codemirror_mode": {
    "name": "ipython",
    "version": 3
   },
   "file_extension": ".py",
   "mimetype": "text/x-python",
   "name": "python",
   "nbconvert_exporter": "python",
   "pygments_lexer": "ipython3",
   "version": "3.8.3"
  }
 },
 "nbformat": 4,
 "nbformat_minor": 4
}
