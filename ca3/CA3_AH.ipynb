{
 "cells": [
  {
   "cell_type": "code",
   "execution_count": 32,
   "metadata": {},
   "outputs": [],
   "source": [
    "import pandas as pd\n",
    "import numpy as np\n",
    "import matplotlib.pyplot as plt\n",
    "import seaborn as sns\n",
    "from sklearn.preprocessing import StandardScaler\n",
    "from sklearn.model_selection import train_test_split\n",
    "from sklearn.linear_model import Perceptron\n",
    "from sklearn.linear_model import LogisticRegression\n",
    "from sklearn.decomposition import PCA\n",
    "from matplotlib.colors import ListedColormap\n",
    "from sklearn.metrics import accuracy_score"
   ]
  },
  {
   "cell_type": "code",
   "execution_count": 33,
   "metadata": {},
   "outputs": [],
   "source": [
    "# Prepocessing data\n",
    "# Source lecture DAT200. File: rawDataInspection_01.py"
   ]
  },
  {
   "cell_type": "code",
   "execution_count": 34,
   "metadata": {},
   "outputs": [],
   "source": [
    "df = pd.read_csv('CA3-train.csv')"
   ]
  },
  {
   "cell_type": "code",
   "execution_count": 35,
   "metadata": {},
   "outputs": [
    {
     "name": "stdout",
     "output_type": "stream",
     "text": [
      "No missing values!\n"
     ]
    }
   ],
   "source": [
    "# Search for missing values\n",
    "missing = np.asarray(df.isnull().sum())\n",
    "if missing.any():\n",
    "    print(\"Dataset has missing values\")\n",
    "else:\n",
    "    print('No missing values!')"
   ]
  },
  {
   "cell_type": "code",
   "execution_count": null,
   "metadata": {},
   "outputs": [],
   "source": []
  },
  {
   "cell_type": "code",
   "execution_count": 36,
   "metadata": {},
   "outputs": [
    {
     "name": "stdout",
     "output_type": "stream",
     "text": [
      "Selected features: Index(['f1', 'f2', 'f3', 'f4', 'f5', 'f6', 'f7', 'f8', 'f9', 'f10', 'f11',\n",
      "       'f12', 'f13', 'f14', 'f15', 'f16', 'f17', 'f18', 'f19', 'f20', 'f21',\n",
      "       'f22', 'f23', 'f24'],\n",
      "      dtype='object')\n"
     ]
    }
   ],
   "source": [
    "# features index\n",
    "c_first = 1\n",
    "c_last = 25    # not included\n",
    "# Assign features to X matrix and corresponding labels to vector y\n",
    "X, y = df.iloc[:, c_first:c_last].values, df.iloc[:, 25]\n",
    "print(f\"Selected features:\", df.iloc[:, c_first:c_last].columns)"
   ]
  },
  {
   "cell_type": "code",
   "execution_count": 37,
   "metadata": {},
   "outputs": [
    {
     "data": {
      "text/plain": [
       "array([0., 1., 2.])"
      ]
     },
     "execution_count": 37,
     "metadata": {},
     "output_type": "execute_result"
    }
   ],
   "source": [
    "# print out the unique class labels\n",
    "np.unique(y)"
   ]
  },
  {
   "cell_type": "code",
   "execution_count": 38,
   "metadata": {},
   "outputs": [],
   "source": [
    "# Default parameters\n",
    "seed = 1\n",
    "test_size = 0.3\n",
    "\n",
    "# Splitting data with default parameters\n",
    "X_train, X_test, y_train, y_test = train_test_split(X, y, test_size=test_size, stratify=y,\n",
    "                                                    random_state=seed)\n",
    "\n",
    "# Standardizing our data to make algorithms behave better\n",
    "sc = StandardScaler()\n",
    "X_train_std = sc.fit_transform(X_train)\n",
    "X_test_std = sc.transform(X_test)"
   ]
  },
  {
   "cell_type": "code",
   "execution_count": 39,
   "metadata": {},
   "outputs": [],
   "source": [
    "# Function to plot decision regions. Works only when two features are selected\n",
    "def plot_decision_regions(X, y, classifier, test_idx=None, resolution=0.02):\n",
    "\n",
    "    # Source Python for Machine Learning ch05\n",
    "    # setup marker generator and colormap\n",
    "    markers = ('s', 'x', 'o', '^', 'v')\n",
    "    colors = ('red', 'blue', 'lightgreen', 'gray', 'cyan')\n",
    "    cmap = ListedColormap(colors[:len(np.unique(y))])\n",
    "\n",
    "    # plot the decision surface\n",
    "    x1_min, x1_max = X[:, 0].min() - 1, X[:, 0].max() + 1\n",
    "    x2_min, x2_max = X[:, 1].min() - 1, X[:, 1].max() + 1\n",
    "    xx1, xx2 = np.meshgrid(np.arange(x1_min, x1_max, resolution),\n",
    "                           np.arange(x2_min, x2_max, resolution))\n",
    "    Z = classifier.predict(np.array([xx1.ravel(), xx2.ravel()]).T)\n",
    "    Z = Z.reshape(xx1.shape)\n",
    "    plt.contourf(xx1, xx2, Z, alpha=0.4, cmap=cmap)\n",
    "    plt.xlim(xx1.min(), xx2.max())\n",
    "    plt.ylim(xx2.min(), xx2.max())\n",
    "\n",
    "    # plot examples by class\n",
    "    for idx, cl in enumerate(np.unique(y)):\n",
    "        plt.scatter(x=X[y == cl, 0], y=X[y == cl, 1],\n",
    "                    alpha=0.8, c=colors[idx],\n",
    "                    marker=markers[idx], label=cl,\n",
    "                    edgecolor='black')\n",
    "    # highlight test examples\n",
    "    if test_idx:\n",
    "        # plot all examples\n",
    "        X_test, y_test = X[test_idx, :], y[test_idx]\n",
    "\n",
    "        plt.scatter(X_test[:, 0], X_test[:, 1],\n",
    "                    c='', edgecolor='black', alpha=1.0,\n",
    "                    linewidth=1, marker='o',\n",
    "                    s=100, label='test set')\n",
    "    plt.xlabel('First feature [standardized]')\n",
    "    plt.ylabel('Second feature [standardized]')\n",
    "    plt.legend(loc='upper left')\n",
    "    plt.tight_layout()\n",
    "    plt.show()"
   ]
  },
  {
   "cell_type": "code",
   "execution_count": 40,
   "metadata": {},
   "outputs": [],
   "source": [
    "def combined(X_train, X_test, y_train, y_test):\n",
    "    # Stacking the data before plotting\n",
    "    X_combined = X_train + X_test\n",
    "    y_combined = y_train + y_test\n",
    "    return X_combined, y_combined"
   ]
  },
  {
   "cell_type": "code",
   "execution_count": 90,
   "metadata": {},
   "outputs": [],
   "source": [
    "def fit_test_size(classifier, X, y, test_size_list, seed, feature_extraction=None, n_components=None):\n",
    "    # Accuracy for different test_train_splits\n",
    "    for size in test_size_list:\n",
    "        X_train, X_test, y_train, y_test = train_test_split(X, y, test_size=size, stratify=y,\n",
    "                                                            random_state=seed)\n",
    "        X_train_std = sc.fit_transform(X_train)\n",
    "        X_test_std = sc.transform(X_test)\n",
    "        if feature_extraction == PCA:\n",
    "            # Dimensionality reduction through PCA\n",
    "            pca = PCA(n_components=n_components, random_state=1)\n",
    "            X_train_pca = pca.fit_transform(X_train_std, y_train)\n",
    "            X_test_pca = pca.transform(X_test_std)\n",
    "            classifier.fit(X_train_pca, y_train)\n",
    "            y_pred = classifier.predict(X_test_pca)\n",
    "            print(f'Misclassified examples PCA: {(y_test != y_pred).sum()}')\n",
    "            print('Accuracy PCA: {:.3}'.format(classifier.score(X_test_pca, y_test)))\n",
    "            print(f'Test size: {size}')\n",
    "        elif feature_extraction == LDA:\n",
    "            lda = LDA(n_components=n_components)\n",
    "            X_train_lda = lda.fit_transform(X_train_std, y_train)\n",
    "            X_test_lda = lda.transform(X_test_std)\n",
    "            classifier.fit(X_train_lda, y_train)\n",
    "            print('Accuracy LDA: {:.3}'.format(classifier.score(X_test_lda, y_test)))\n",
    "            print(f'Test size: {size}')\n",
    "                \n",
    "        else:\n",
    "            classifier.fit(X_train_std, y_train)\n",
    "            y_pred = classifier.predict(X_test_std)\n",
    "            print(f'Misclassified examples: {(y_test != y_pred).sum()}')\n",
    "            print('Training Accuracy: {:.3}'.format(classifier.score(X_train_std, y_train)))\n",
    "            print('Accuracy: {:.3}'.format(classifier.score(X_test_std, y_test)))\n",
    "            print(f'Test size: {size}')\n",
    "    # Note: After function call test size is the last index of test_size_list"
   ]
  },
  {
   "cell_type": "code",
   "execution_count": 91,
   "metadata": {},
   "outputs": [],
   "source": [
    "# plot cumulative sum of explained variances\n",
    "def plot_var_exp(n_components):\n",
    "    pca = PCA(n_components=n_components, random_state=1)\n",
    "    pca.fit_transform(X_train_std)\n",
    "    pca.fit(X_test_std)\n",
    "    var_exp = pca.explained_variance_ratio_\n",
    "    cum_var_exp = np.cumsum(var_exp)\n",
    "    plt.bar(range(1, n_components + 1), var_exp, alpha=0.5, align='center',\n",
    "            label='Individual explained variances')\n",
    "    plt.step(range(1, n_components + 1), cum_var_exp, where='mid',\n",
    "             label='Cumulative explained variances')\n",
    "    plt.xlabel('Explained variance ratio')\n",
    "    plt.ylabel('Principal component index')\n",
    "    plt.grid(True)\n",
    "    plt.tight_layout()\n",
    "    plt.show()"
   ]
  },
  {
   "cell_type": "code",
   "execution_count": 92,
   "metadata": {},
   "outputs": [],
   "source": [
    "from sklearn.tree import DecisionTreeClassifier"
   ]
  },
  {
   "cell_type": "code",
   "execution_count": 93,
   "metadata": {},
   "outputs": [
    {
     "name": "stdout",
     "output_type": "stream",
     "text": [
      "Best C:  0.1\n",
      "Max acurracy score: 0.488\n",
      "Test size:  0.3\n"
     ]
    }
   ],
   "source": [
    "# Fit decision tree classifier and calculate accuracy for different train_test_splits\n",
    "C_list = [100, 10, 1, 0.1, 0.01]\n",
    "max_score = 0\n",
    "for C in C_list:\n",
    "    lr_temp = LogisticRegression(penalty='l1', C=C, solver='liblinear', random_state=seed)\n",
    "    lr_temp.fit(X_train_std, y_train)\n",
    "    score = lr_temp.score(X_test_std, y_test)\n",
    "    if score > max_score:\n",
    "        max_score = score\n",
    "        C_best = C\n",
    "\n",
    "print(\"Best C: \", C_best)\n",
    "print(\"Max acurracy score: {:.3}\".format(max_score))\n",
    "print(\"Test size: \", test_size)"
   ]
  },
  {
   "cell_type": "code",
   "execution_count": null,
   "metadata": {},
   "outputs": [],
   "source": []
  },
  {
   "cell_type": "code",
   "execution_count": 94,
   "metadata": {},
   "outputs": [],
   "source": [
    "# Fit Decision tree and calculate accuracy for different train_test_splits\n",
    "test_size_list = [0.6, 0.3, 0.1, 0.05, 0.01]\n",
    "tree_model = DecisionTreeClassifier(criterion='gini', max_depth=3)"
   ]
  },
  {
   "cell_type": "code",
   "execution_count": 95,
   "metadata": {},
   "outputs": [
    {
     "name": "stdout",
     "output_type": "stream",
     "text": [
      "Misclassified examples: 2250\n",
      "Training Accuracy: 0.459\n",
      "Accuracy: 0.472\n",
      "Test size: 0.6\n",
      "Misclassified examples: 1120\n",
      "Training Accuracy: 0.483\n",
      "Accuracy: 0.475\n",
      "Test size: 0.3\n",
      "Misclassified examples: 351\n",
      "Training Accuracy: 0.476\n",
      "Accuracy: 0.506\n",
      "Test size: 0.1\n",
      "Misclassified examples: 170\n",
      "Training Accuracy: 0.477\n",
      "Accuracy: 0.522\n",
      "Test size: 0.05\n",
      "Misclassified examples: 41\n",
      "Training Accuracy: 0.479\n",
      "Accuracy: 0.431\n",
      "Test size: 0.01\n"
     ]
    }
   ],
   "source": [
    "# Fit Decision tree and calculate accuracy for different train_test_splits\n",
    "test_size_list = [0.6, 0.3, 0.1, 0.05, 0.01]\n",
    "tree_model = DecisionTreeClassifier(criterion='gini', max_depth=3, min_weight_fraction_leaf=0.2, \n",
    "                                    random_state=seed)\n",
    "fit_test_size(tree_model, X, y, test_size_list, seed)"
   ]
  },
  {
   "cell_type": "code",
   "execution_count": 96,
   "metadata": {},
   "outputs": [
    {
     "name": "stdout",
     "output_type": "stream",
     "text": [
      "Accuracy LDA: 0.501\n",
      "Test size: 0.3\n"
     ]
    }
   ],
   "source": [
    "# LDA\n",
    "from sklearn.discriminant_analysis import LinearDiscriminantAnalysis as LDA\n",
    "\n",
    "lda = LDA(n_components=2)\n",
    "X_train_lda = lda.fit_transform(X_train_std, y_train)\n",
    "X_test_lda = lda.transform(X_test_std)\n",
    "tree_model.fit(X_train_lda, y_train)\n",
    "print('Accuracy LDA: {:.3}'.format(tree_model.score(X_test_lda, y_test)))\n",
    "print(f'Test size: {test_size}')"
   ]
  },
  {
   "cell_type": "code",
   "execution_count": null,
   "metadata": {},
   "outputs": [],
   "source": []
  },
  {
   "cell_type": "code",
   "execution_count": 97,
   "metadata": {
    "scrolled": true
   },
   "outputs": [
    {
     "name": "stdout",
     "output_type": "stream",
     "text": [
      "Accuracy LDA: 0.494\n",
      "Test size: 0.6\n",
      "Accuracy LDA: 0.501\n",
      "Test size: 0.3\n",
      "Accuracy LDA: 0.506\n",
      "Test size: 0.1\n",
      "Accuracy LDA: 0.528\n",
      "Test size: 0.05\n",
      "Accuracy LDA: 0.514\n",
      "Test size: 0.01\n"
     ]
    }
   ],
   "source": [
    "# Calculate accuracy with feature extraction\n",
    "fit_test_size(tree_model, X, y, test_size_list, seed, feature_extraction=LDA, n_components=2)"
   ]
  },
  {
   "cell_type": "code",
   "execution_count": 98,
   "metadata": {},
   "outputs": [
    {
     "name": "stdout",
     "output_type": "stream",
     "text": [
      "Misclassified examples PCA: 2543\n",
      "Accuracy PCA: 0.404\n",
      "Test size: 0.6\n",
      "Misclassified examples PCA: 1248\n",
      "Accuracy PCA: 0.415\n",
      "Test size: 0.3\n",
      "Misclassified examples PCA: 412\n",
      "Accuracy PCA: 0.421\n",
      "Test size: 0.1\n",
      "Misclassified examples PCA: 211\n",
      "Accuracy PCA: 0.407\n",
      "Test size: 0.05\n",
      "Misclassified examples PCA: 44\n",
      "Accuracy PCA: 0.389\n",
      "Test size: 0.01\n"
     ]
    }
   ],
   "source": [
    "# Calculate accuracy with feature extraction\n",
    "fit_test_size(tree_model, X, y, test_size_list, seed, feature_extraction=PCA, n_components=2)"
   ]
  },
  {
   "cell_type": "markdown",
   "metadata": {},
   "source": [
    "### Looking into the data\n",
    "\n",
    "comment: Might skip this in final version\n",
    "\n",
    "* Search for correlations\n",
    "* Look for outliers\n",
    "* Visualize"
   ]
  },
  {
   "cell_type": "code",
   "execution_count": 71,
   "metadata": {},
   "outputs": [],
   "source": [
    "df_X = df.iloc[:, 1:25]"
   ]
  },
  {
   "cell_type": "code",
   "execution_count": 72,
   "metadata": {},
   "outputs": [
    {
     "data": {
      "text/html": [
       "<div>\n",
       "<style scoped>\n",
       "    .dataframe tbody tr th:only-of-type {\n",
       "        vertical-align: middle;\n",
       "    }\n",
       "\n",
       "    .dataframe tbody tr th {\n",
       "        vertical-align: top;\n",
       "    }\n",
       "\n",
       "    .dataframe thead th {\n",
       "        text-align: right;\n",
       "    }\n",
       "</style>\n",
       "<table border=\"1\" class=\"dataframe\">\n",
       "  <thead>\n",
       "    <tr style=\"text-align: right;\">\n",
       "      <th></th>\n",
       "      <th>f1</th>\n",
       "      <th>f2</th>\n",
       "      <th>f3</th>\n",
       "      <th>f4</th>\n",
       "      <th>f5</th>\n",
       "      <th>f6</th>\n",
       "      <th>f7</th>\n",
       "      <th>f8</th>\n",
       "      <th>f9</th>\n",
       "      <th>f10</th>\n",
       "      <th>...</th>\n",
       "      <th>f15</th>\n",
       "      <th>f16</th>\n",
       "      <th>f17</th>\n",
       "      <th>f18</th>\n",
       "      <th>f19</th>\n",
       "      <th>f20</th>\n",
       "      <th>f21</th>\n",
       "      <th>f22</th>\n",
       "      <th>f23</th>\n",
       "      <th>f24</th>\n",
       "    </tr>\n",
       "  </thead>\n",
       "  <tbody>\n",
       "    <tr>\n",
       "      <th>count</th>\n",
       "      <td>7108.000000</td>\n",
       "      <td>7108.000000</td>\n",
       "      <td>7108.000000</td>\n",
       "      <td>7108.000000</td>\n",
       "      <td>7108.000000</td>\n",
       "      <td>7108.000000</td>\n",
       "      <td>7108.000000</td>\n",
       "      <td>7108.000000</td>\n",
       "      <td>7108.000000</td>\n",
       "      <td>7108.000000</td>\n",
       "      <td>...</td>\n",
       "      <td>7108.000000</td>\n",
       "      <td>7108.000000</td>\n",
       "      <td>7108.000000</td>\n",
       "      <td>7108.000000</td>\n",
       "      <td>7108.000000</td>\n",
       "      <td>7108.000000</td>\n",
       "      <td>7108.000000</td>\n",
       "      <td>7108.000000</td>\n",
       "      <td>7108.000000</td>\n",
       "      <td>7108.000000</td>\n",
       "    </tr>\n",
       "    <tr>\n",
       "      <th>mean</th>\n",
       "      <td>1.202026</td>\n",
       "      <td>0.804586</td>\n",
       "      <td>0.401941</td>\n",
       "      <td>156.874930</td>\n",
       "      <td>166.643360</td>\n",
       "      <td>196.047271</td>\n",
       "      <td>168.302195</td>\n",
       "      <td>238.272512</td>\n",
       "      <td>230.066717</td>\n",
       "      <td>219.825159</td>\n",
       "      <td>...</td>\n",
       "      <td>0.398284</td>\n",
       "      <td>530.048818</td>\n",
       "      <td>0.224254</td>\n",
       "      <td>297.630979</td>\n",
       "      <td>0.221186</td>\n",
       "      <td>0.331006</td>\n",
       "      <td>0.030905</td>\n",
       "      <td>5.881964</td>\n",
       "      <td>4.886747</td>\n",
       "      <td>2.899268</td>\n",
       "    </tr>\n",
       "    <tr>\n",
       "      <th>std</th>\n",
       "      <td>0.493933</td>\n",
       "      <td>0.396547</td>\n",
       "      <td>0.490325</td>\n",
       "      <td>80.914806</td>\n",
       "      <td>74.588417</td>\n",
       "      <td>107.521931</td>\n",
       "      <td>77.616408</td>\n",
       "      <td>207.299347</td>\n",
       "      <td>207.017288</td>\n",
       "      <td>198.373088</td>\n",
       "      <td>...</td>\n",
       "      <td>0.707898</td>\n",
       "      <td>1927.718921</td>\n",
       "      <td>0.417120</td>\n",
       "      <td>699.293958</td>\n",
       "      <td>0.376378</td>\n",
       "      <td>0.451033</td>\n",
       "      <td>0.027579</td>\n",
       "      <td>1.536845</td>\n",
       "      <td>2.878474</td>\n",
       "      <td>1.860700</td>\n",
       "    </tr>\n",
       "    <tr>\n",
       "      <th>min</th>\n",
       "      <td>1.000000</td>\n",
       "      <td>0.000000</td>\n",
       "      <td>0.000000</td>\n",
       "      <td>0.000000</td>\n",
       "      <td>20.000000</td>\n",
       "      <td>20.000000</td>\n",
       "      <td>0.000000</td>\n",
       "      <td>0.000000</td>\n",
       "      <td>0.000000</td>\n",
       "      <td>0.000000</td>\n",
       "      <td>...</td>\n",
       "      <td>0.000000</td>\n",
       "      <td>0.000000</td>\n",
       "      <td>0.000000</td>\n",
       "      <td>0.000000</td>\n",
       "      <td>-4.325500</td>\n",
       "      <td>-1.206000</td>\n",
       "      <td>0.000500</td>\n",
       "      <td>2.000000</td>\n",
       "      <td>1.000000</td>\n",
       "      <td>1.000000</td>\n",
       "    </tr>\n",
       "    <tr>\n",
       "      <th>25%</th>\n",
       "      <td>1.000000</td>\n",
       "      <td>1.000000</td>\n",
       "      <td>0.000000</td>\n",
       "      <td>99.000000</td>\n",
       "      <td>119.000000</td>\n",
       "      <td>119.000000</td>\n",
       "      <td>119.000000</td>\n",
       "      <td>111.037400</td>\n",
       "      <td>105.016925</td>\n",
       "      <td>88.459000</td>\n",
       "      <td>...</td>\n",
       "      <td>0.000000</td>\n",
       "      <td>0.000000</td>\n",
       "      <td>0.000000</td>\n",
       "      <td>0.000000</td>\n",
       "      <td>0.073800</td>\n",
       "      <td>0.124575</td>\n",
       "      <td>0.015300</td>\n",
       "      <td>5.000000</td>\n",
       "      <td>2.000000</td>\n",
       "      <td>1.000000</td>\n",
       "    </tr>\n",
       "    <tr>\n",
       "      <th>50%</th>\n",
       "      <td>1.000000</td>\n",
       "      <td>1.000000</td>\n",
       "      <td>0.000000</td>\n",
       "      <td>139.000000</td>\n",
       "      <td>159.000000</td>\n",
       "      <td>179.000000</td>\n",
       "      <td>159.000000</td>\n",
       "      <td>173.704850</td>\n",
       "      <td>167.636150</td>\n",
       "      <td>150.273100</td>\n",
       "      <td>...</td>\n",
       "      <td>0.000000</td>\n",
       "      <td>0.000000</td>\n",
       "      <td>0.000000</td>\n",
       "      <td>0.000000</td>\n",
       "      <td>0.147800</td>\n",
       "      <td>0.220600</td>\n",
       "      <td>0.023400</td>\n",
       "      <td>6.000000</td>\n",
       "      <td>4.000000</td>\n",
       "      <td>2.000000</td>\n",
       "    </tr>\n",
       "    <tr>\n",
       "      <th>75%</th>\n",
       "      <td>1.000000</td>\n",
       "      <td>1.000000</td>\n",
       "      <td>1.000000</td>\n",
       "      <td>199.000000</td>\n",
       "      <td>199.000000</td>\n",
       "      <td>239.000000</td>\n",
       "      <td>199.000000</td>\n",
       "      <td>289.366625</td>\n",
       "      <td>281.537275</td>\n",
       "      <td>284.385325</td>\n",
       "      <td>...</td>\n",
       "      <td>1.000000</td>\n",
       "      <td>223.750000</td>\n",
       "      <td>0.000000</td>\n",
       "      <td>298.000000</td>\n",
       "      <td>0.259100</td>\n",
       "      <td>0.354800</td>\n",
       "      <td>0.036900</td>\n",
       "      <td>7.000000</td>\n",
       "      <td>7.000000</td>\n",
       "      <td>4.000000</td>\n",
       "    </tr>\n",
       "    <tr>\n",
       "      <th>max</th>\n",
       "      <td>8.000000</td>\n",
       "      <td>1.000000</td>\n",
       "      <td>1.000000</td>\n",
       "      <td>1036.000000</td>\n",
       "      <td>1036.000000</td>\n",
       "      <td>1628.000000</td>\n",
       "      <td>977.000000</td>\n",
       "      <td>1924.134700</td>\n",
       "      <td>1924.134700</td>\n",
       "      <td>1070.361600</td>\n",
       "      <td>...</td>\n",
       "      <td>5.000000</td>\n",
       "      <td>35448.000000</td>\n",
       "      <td>1.000000</td>\n",
       "      <td>11140.000000</td>\n",
       "      <td>4.491700</td>\n",
       "      <td>4.491700</td>\n",
       "      <td>0.362300</td>\n",
       "      <td>10.000000</td>\n",
       "      <td>10.000000</td>\n",
       "      <td>10.000000</td>\n",
       "    </tr>\n",
       "  </tbody>\n",
       "</table>\n",
       "<p>8 rows × 24 columns</p>\n",
       "</div>"
      ],
      "text/plain": [
       "                f1           f2           f3           f4           f5  \\\n",
       "count  7108.000000  7108.000000  7108.000000  7108.000000  7108.000000   \n",
       "mean      1.202026     0.804586     0.401941   156.874930   166.643360   \n",
       "std       0.493933     0.396547     0.490325    80.914806    74.588417   \n",
       "min       1.000000     0.000000     0.000000     0.000000    20.000000   \n",
       "25%       1.000000     1.000000     0.000000    99.000000   119.000000   \n",
       "50%       1.000000     1.000000     0.000000   139.000000   159.000000   \n",
       "75%       1.000000     1.000000     1.000000   199.000000   199.000000   \n",
       "max       8.000000     1.000000     1.000000  1036.000000  1036.000000   \n",
       "\n",
       "                f6           f7           f8           f9          f10  ...  \\\n",
       "count  7108.000000  7108.000000  7108.000000  7108.000000  7108.000000  ...   \n",
       "mean    196.047271   168.302195   238.272512   230.066717   219.825159  ...   \n",
       "std     107.521931    77.616408   207.299347   207.017288   198.373088  ...   \n",
       "min      20.000000     0.000000     0.000000     0.000000     0.000000  ...   \n",
       "25%     119.000000   119.000000   111.037400   105.016925    88.459000  ...   \n",
       "50%     179.000000   159.000000   173.704850   167.636150   150.273100  ...   \n",
       "75%     239.000000   199.000000   289.366625   281.537275   284.385325  ...   \n",
       "max    1628.000000   977.000000  1924.134700  1924.134700  1070.361600  ...   \n",
       "\n",
       "               f15           f16          f17           f18          f19  \\\n",
       "count  7108.000000   7108.000000  7108.000000   7108.000000  7108.000000   \n",
       "mean      0.398284    530.048818     0.224254    297.630979     0.221186   \n",
       "std       0.707898   1927.718921     0.417120    699.293958     0.376378   \n",
       "min       0.000000      0.000000     0.000000      0.000000    -4.325500   \n",
       "25%       0.000000      0.000000     0.000000      0.000000     0.073800   \n",
       "50%       0.000000      0.000000     0.000000      0.000000     0.147800   \n",
       "75%       1.000000    223.750000     0.000000    298.000000     0.259100   \n",
       "max       5.000000  35448.000000     1.000000  11140.000000     4.491700   \n",
       "\n",
       "               f20          f21          f22          f23          f24  \n",
       "count  7108.000000  7108.000000  7108.000000  7108.000000  7108.000000  \n",
       "mean      0.331006     0.030905     5.881964     4.886747     2.899268  \n",
       "std       0.451033     0.027579     1.536845     2.878474     1.860700  \n",
       "min      -1.206000     0.000500     2.000000     1.000000     1.000000  \n",
       "25%       0.124575     0.015300     5.000000     2.000000     1.000000  \n",
       "50%       0.220600     0.023400     6.000000     4.000000     2.000000  \n",
       "75%       0.354800     0.036900     7.000000     7.000000     4.000000  \n",
       "max       4.491700     0.362300    10.000000    10.000000    10.000000  \n",
       "\n",
       "[8 rows x 24 columns]"
      ]
     },
     "execution_count": 72,
     "metadata": {},
     "output_type": "execute_result"
    }
   ],
   "source": [
    "# =============================================================================\n",
    "# Descriptive statistics\n",
    "# =============================================================================\n",
    "df_X.describe()\n",
    "#df.iloc[:, 16].describe()"
   ]
  },
  {
   "cell_type": "code",
   "execution_count": 73,
   "metadata": {},
   "outputs": [
    {
     "data": {
      "text/plain": [
       "2145"
      ]
     },
     "execution_count": 73,
     "metadata": {},
     "output_type": "execute_result"
    }
   ],
   "source": [
    "# Check for positive values f16\n",
    "\n",
    "positive_f16 = np.where(df['f16']>0, True, False)\n",
    "# count True\n",
    "positive_f16.sum()"
   ]
  },
  {
   "cell_type": "code",
   "execution_count": 74,
   "metadata": {},
   "outputs": [
    {
     "data": {
      "text/plain": [
       "1        5290.0\n",
       "3         397.0\n",
       "6        2248.0\n",
       "11        358.0\n",
       "12       2306.0\n",
       "         ...   \n",
       "7083     1569.0\n",
       "7089      596.0\n",
       "7090    10556.0\n",
       "7099      517.0\n",
       "7102      477.0\n",
       "Name: f16, Length: 2145, dtype: float64"
      ]
     },
     "execution_count": 74,
     "metadata": {},
     "output_type": "execute_result"
    }
   ],
   "source": [
    "# Drop rows with zero values\n",
    "\n",
    "extract_positive_f16 = df[df['f16']>0]['f16']\n",
    "extract_positive_f16"
   ]
  },
  {
   "cell_type": "code",
   "execution_count": 75,
   "metadata": {},
   "outputs": [
    {
     "data": {
      "text/plain": [
       "<matplotlib.axes._subplots.AxesSubplot at 0x190e9fc9e80>"
      ]
     },
     "execution_count": 75,
     "metadata": {},
     "output_type": "execute_result"
    },
    {
     "data": {
      "image/png": "[encoded data removed]",
      "text/plain": [
       "<Figure size 432x288 with 1 Axes>"
      ]
     },
     "metadata": {
      "needs_background": "light"
     },
     "output_type": "display_data"
    }
   ],
   "source": [
    "# Histogram positive f16\n",
    "extract_positive_f16.hist()"
   ]
  },
  {
   "cell_type": "code",
   "execution_count": 76,
   "metadata": {},
   "outputs": [
    {
     "data": {
      "text/plain": [
       "count     2145.000000\n",
       "mean      1756.450816\n",
       "std       3187.966249\n",
       "min         20.000000\n",
       "25%        318.000000\n",
       "50%        676.000000\n",
       "75%       1670.000000\n",
       "max      35448.000000\n",
       "Name: f16, dtype: float64"
      ]
     },
     "execution_count": 76,
     "metadata": {},
     "output_type": "execute_result"
    }
   ],
   "source": [
    "# Descriptive statistics for posive f16\n",
    "\n",
    "extract_positive_f16.describe()"
   ]
  },
  {
   "cell_type": "code",
   "execution_count": 77,
   "metadata": {},
   "outputs": [
    {
     "data": {
      "image/png": "[encoded data removed]",
      "text/plain": [
       "<Figure size 432x288 with 1 Axes>"
      ]
     },
     "metadata": {
      "needs_background": "light"
     },
     "output_type": "display_data"
    }
   ],
   "source": [
    "# =============================================================================\n",
    "# Histograms\n",
    "# =============================================================================\n",
    "\n",
    "df.iloc[:, 16].hist()\n",
    "plt.tight_layout()\n",
    "plt.show()"
   ]
  },
  {
   "cell_type": "markdown",
   "metadata": {},
   "source": [
    "Notes AH: Possible outliers f16, very high max relative to the rest.\n",
    "Also a lot of zero values more than two-thirds. Consider dropping the column."
   ]
  },
  {
   "cell_type": "code",
   "execution_count": null,
   "metadata": {},
   "outputs": [],
   "source": [
    "# =============================================================================\n",
    "# Density plots\n",
    "# =============================================================================\n",
    "\n",
    "df['f16'].plot(kind='density')\n",
    "plt.show()"
   ]
  },
  {
   "cell_type": "code",
   "execution_count": 78,
   "metadata": {},
   "outputs": [
    {
     "data": {
      "text/plain": [
       "4366    35448.0\n",
       "6861    35448.0\n",
       "3295    30016.0\n",
       "5336    30016.0\n",
       "3089    30016.0\n",
       "3764    30016.0\n",
       "1108    24987.0\n",
       "4808    22514.0\n",
       "1539    22218.0\n",
       "2019    22218.0\n",
       "3997    22218.0\n",
       "2481    22218.0\n",
       "2160    17872.0\n",
       "4439    17872.0\n",
       "4162    17872.0\n",
       "1876    17019.0\n",
       "2058    17019.0\n",
       "6419    15604.0\n",
       "6589    15604.0\n",
       "332     15604.0\n",
       "2150    15319.0\n",
       "3985    15319.0\n",
       "2888    15319.0\n",
       "1597    15319.0\n",
       "6767    15319.0\n",
       "4959    15319.0\n",
       "1870    14971.0\n",
       "2067    14824.0\n",
       "4923    14824.0\n",
       "6088    14824.0\n",
       "62      14824.0\n",
       "4543    14146.0\n",
       "2246    14146.0\n",
       "6681    14146.0\n",
       "343     14146.0\n",
       "1084    14146.0\n",
       "5137    14146.0\n",
       "929     14047.0\n",
       "3443    12433.0\n",
       "680     12433.0\n",
       "4793    12433.0\n",
       "4609    12432.0\n",
       "5079    12432.0\n",
       "5633    12364.0\n",
       "4887    12364.0\n",
       "4460    12185.0\n",
       "1720    11988.0\n",
       "1699    11988.0\n",
       "1639    11655.0\n",
       "66      11655.0\n",
       "Name: f16, dtype: float64"
      ]
     },
     "execution_count": 78,
     "metadata": {},
     "output_type": "execute_result"
    }
   ],
   "source": [
    "# Sort values for f16 in descending order\n",
    "\n",
    "df['f16'].sort_values(ascending=False)[0:50]"
   ]
  },
  {
   "cell_type": "code",
   "execution_count": null,
   "metadata": {},
   "outputs": [],
   "source": [
    "df.sort_values(by=['f16'], ascending=False)[0:30]"
   ]
  },
  {
   "cell_type": "markdown",
   "metadata": {},
   "source": [
    "Note: Skip the six first datapoints from the sorting above"
   ]
  },
  {
   "cell_type": "code",
   "execution_count": null,
   "metadata": {},
   "outputs": [],
   "source": [
    "# =============================================================================\n",
    "# Plot correlation matrix\n",
    "# =============================================================================\n",
    "\n",
    "# plot correlation matrix for the first four features\n",
    "df_sub = df.iloc[:, 21:25]\n",
    "correlations = df_sub.corr()\n",
    "\n",
    "fig = plt.figure()\n",
    "ax = fig.add_subplot(111)\n",
    "cax = ax.matshow(correlations, vmin=-1, vmax=1)\n",
    "fig.colorbar(cax)\n",
    "ticks = np.arange(0, 5, 1)\n",
    "ax.set_xticks(ticks)\n",
    "ax.set_yticks(ticks)\n",
    "ax.set_xticklabels(list(df_sub.columns))\n",
    "ax.set_yticklabels(list(df_sub.columns))\n",
    "plt.tight_layout()\n",
    "plt.show()"
   ]
  },
  {
   "cell_type": "code",
   "execution_count": null,
   "metadata": {},
   "outputs": [],
   "source": [
    "correlations"
   ]
  },
  {
   "cell_type": "code",
   "execution_count": null,
   "metadata": {},
   "outputs": [],
   "source": [
    "corr_f15f16 = df.iloc[:, [15, 16]].corr()\n",
    "corr_f15f16"
   ]
  },
  {
   "cell_type": "code",
   "execution_count": null,
   "metadata": {},
   "outputs": [],
   "source": [
    "# correlations all f16\n",
    "corr_all = df_X.corr()\n",
    "corr_all.iloc[:, 19]"
   ]
  },
  {
   "cell_type": "code",
   "execution_count": null,
   "metadata": {},
   "outputs": [],
   "source": [
    "# Standardizing\n",
    "\n",
    "sc = StandardScaler()\n",
    "df_X_std = sc.fit_transform(df_X)\n",
    "df_X_std\n"
   ]
  },
  {
   "cell_type": "code",
   "execution_count": null,
   "metadata": {},
   "outputs": [],
   "source": [
    "plt.scatter(df_X_std[14], df_X_std[15])"
   ]
  },
  {
   "cell_type": "code",
   "execution_count": null,
   "metadata": {},
   "outputs": [],
   "source": []
  }
 ],
 "metadata": {
  "kernelspec": {
   "display_name": "Python 3",
   "language": "python",
   "name": "python3"
  },
  "language_info": {
   "codemirror_mode": {
    "name": "ipython",
    "version": 3
   },
   "file_extension": ".py",
   "mimetype": "text/x-python",
   "name": "python",
   "nbconvert_exporter": "python",
   "pygments_lexer": "ipython3",
   "version": "3.8.3"
  }
 },
 "nbformat": 4,
 "nbformat_minor": 4
}
